{
 "cells": [
  {
   "cell_type": "markdown",
   "metadata": {},
   "source": [
    "# 무도 영상 특정 인물 모자이크처리"
   ]
  },
  {
   "cell_type": "code",
   "execution_count": 3,
   "metadata": {},
   "outputs": [],
   "source": [
    "import cv2, dlib\r\n",
    "import numpy as np\r\n",
    "from PIL import ImageFont, ImageDraw, Image\r\n",
    "import tensorflow.keras \r\n",
    "from tensorflow.keras import backend as K\r\n",
    "\r\n",
    "detector = dlib.get_frontal_face_detector()\r\n",
    "sp = dlib.shape_predictor('models/shape_predictor_68_face_landmarks.dat')\r\n",
    "facerec = dlib.face_recognition_model_v1('models/dlib_face_recognition_resnet_model_v1.dat')"
   ]
  },
  {
   "cell_type": "code",
   "execution_count": 6,
   "metadata": {},
   "outputs": [],
   "source": [
    "def find_faces(img):\r\n",
    "    dets = detector(img, 1)\r\n",
    "    \r\n",
    "    if len(dets) == 0:\r\n",
    "        return np.empty(0), np.empty(0), np.empty(0)\r\n",
    "    \r\n",
    "    rects, shapes = [], []\r\n",
    "    shapes_np = np.zeros((len(dets), 68, 2), dtype=np.int)\r\n",
    "    for k, d in enumerate(dets):\r\n",
    "        rect = ((d.left(), d.top()), (d.right(), d.bottom()))\r\n",
    "        rects.append(rect)\r\n",
    "\r\n",
    "        shape = sp(img, d)\r\n",
    "        \r\n",
    "        # convert dlib shape to numpy array\r\n",
    "        for i in range(0, 68):\r\n",
    "            shapes_np[k][i] = (shape.part(i).x, shape.part(i).y)\r\n",
    "\r\n",
    "        shapes.append(shape)\r\n",
    "        \r\n",
    "    return rects, shapes, shapes_np\r\n",
    "\r\n",
    "# 랜드마크 추출\r\n",
    "def encode_faces(img, shapes):\r\n",
    "    face_descriptors = []\r\n",
    "    for shape in shapes:\r\n",
    "        face_descriptor = facerec.compute_face_descriptor(img, shape)\r\n",
    "        face_descriptors.append(np.array(face_descriptor))\r\n",
    "\r\n",
    "    return np.array(face_descriptors)"
   ]
  },
  {
   "cell_type": "code",
   "execution_count": 28,
   "metadata": {},
   "outputs": [
    {
     "name": "stdout",
     "output_type": "stream",
     "text": [
      "[['승리', array([-0.0687706 ,  0.09059251,  0.05629875, -0.05229903, -0.16482888,\n",
      "       -0.01336229, -0.079988  , -0.15324445,  0.15666482, -0.15176357,\n",
      "        0.23287737, -0.05949444, -0.20585562, -0.02626969, -0.02509759,\n",
      "        0.17213105, -0.20052792, -0.14857794, -0.03024867, -0.00605881,\n",
      "        0.07293708,  0.01789966,  0.03830779,  0.02507115, -0.14611149,\n",
      "       -0.23749547, -0.07808927, -0.06168118, -0.04371834, -0.09320866,\n",
      "       -0.06865397,  0.06840748, -0.15419967, -0.07718135,  0.02925453,\n",
      "        0.06096196, -0.03582066, -0.03655092,  0.19146563,  0.05008797,\n",
      "       -0.22650525,  0.00938428,  0.03498069,  0.25110325,  0.22933391,\n",
      "        0.03892723, -0.04263238, -0.12724514,  0.15382339, -0.20828331,\n",
      "        0.07335055,  0.11607252,  0.14223568,  0.02311358,  0.03389402,\n",
      "       -0.1498258 , -0.01473552,  0.16825189, -0.11128644,  0.05920645,\n",
      "        0.12529856, -0.05685591,  0.0033165 , -0.13047521,  0.23395158,\n",
      "        0.10671607, -0.1203109 , -0.1520761 ,  0.09325076, -0.06529273,\n",
      "       -0.20134313,  0.06526002, -0.18744475, -0.18021198, -0.31688946,\n",
      "       -0.03424861,  0.40031365,  0.08949418, -0.26035577, -0.06821062,\n",
      "        0.03393481, -0.02198751,  0.09145778,  0.16685145, -0.04093402,\n",
      "        0.00851117, -0.07269702, -0.05053247,  0.21881834, -0.04600116,\n",
      "       -0.10627743,  0.22085369, -0.01442033,  0.07414196,  0.0427838 ,\n",
      "       -0.01099032, -0.06806464,  0.00774064, -0.22407946, -0.10504293,\n",
      "       -0.02945328, -0.03515478, -0.05906611,  0.16873181, -0.11976302,\n",
      "        0.15393059, -0.02733699,  0.02869583, -0.0666019 , -0.01833045,\n",
      "       -0.11382494, -0.00718594,  0.15883581, -0.17138232,  0.13607128,\n",
      "        0.15515299,  0.09608189,  0.08173686,  0.12136583,  0.056688  ,\n",
      "       -0.00749026,  0.07892702, -0.20479034, -0.04124328,  0.12621501,\n",
      "       -0.05252581,  0.14716735,  0.02525486])]]\n"
     ]
    }
   ],
   "source": [
    "img_paths = {'승리':'user_img/sl1.png'}\r\n",
    "\r\n",
    "# 인식하고 싶은 사람들의 얼굴 랜드마크 추출후 저장\r\n",
    "descs = []\r\n",
    "\r\n",
    "for name, img_path in img_paths.items(): \r\n",
    "    img = cv2.imread(img_path)\r\n",
    "    _, img_shapes, _ = find_faces(img)\r\n",
    "    descs.append([name, encode_faces(img, img_shapes)[0]])\r\n",
    "    \r\n",
    "np.save('user_img/descs.npy', descs)\r\n",
    "print(descs)"
   ]
  },
  {
   "cell_type": "code",
   "execution_count": 29,
   "metadata": {},
   "outputs": [],
   "source": [
    "cam = cv2.VideoCapture(\"무도.mp4\") # 무도 영상\r\n",
    "cam.set(3,640) # 너비\r\n",
    "cam.set(4,480) # 높이\r\n",
    "font = cv2.FONT_HERSHEY_SIMPLEX # 폰트\r\n",
    "\r\n",
    "while True:\r\n",
    "    \r\n",
    "    ret, img = cam.read() \r\n",
    "    rects, shapes, _ = find_faces(img) # 얼굴 찾기\r\n",
    "    descriptors = encode_faces(img, shapes) # 인코딩\r\n",
    "    \r\n",
    "    for i, desc in enumerate(descriptors):\r\n",
    "        x = rects[i][0][0] # 얼굴 X 좌표\r\n",
    "        y = rects[i][0][1] # 얼굴 Y 좌표\r\n",
    "        w = rects[i][1][1]-rects[i][0][1] # 얼굴 너비 \r\n",
    "        h = rects[i][1][0]-rects[i][0][0] # 얼굴 높이\r\n",
    "        \r\n",
    "        # 추출된 랜드마크와 데이터베이스의 랜드마크들 중 제일 짧은 거리를 찾는 부분\r\n",
    "        descs1 = sorted(descs, key=lambda x: np.linalg.norm([desc] - x[1]))\r\n",
    "        dist = np.linalg.norm([desc] - descs1[0][1], axis=1)\r\n",
    "        \r\n",
    "        if dist < 0.45: # 그 거리가 0.45보다 작다면 그 사람으로 판단 \r\n",
    "            mosaic_img = cv2.resize(img[y:y+h, x:x+w], dsize=(0, 0), fx=0.04, fy=0.04) # 축소\r\n",
    "            mosaic_img = cv2.resize(mosaic_img, (w, h), interpolation=cv2.INTER_AREA)  # 확대\r\n",
    "            img[y:y+h, x:x+w] = mosaic_img # 인식된 얼굴 영역 모자이크 처리 \r\n",
    "\r\n",
    "    cv2.imshow('camera', img)\r\n",
    "    \r\n",
    "    k = cv2.waitKey(10) & 0xff # 'ESC' 키 누르면 종료\r\n",
    "    if k == 27:\r\n",
    "        break\r\n",
    "        \r\n",
    "cam.release()\r\n",
    "cv2.destroyAllWindows()"
   ]
  }
 ],
 "metadata": {
  "interpreter": {
   "hash": "0b32c1d5121fef3d30f16a3c1b4d654eeb8629fc935304f141709e48e1deee23"
  },
  "kernelspec": {
   "display_name": "Python 3.9.6 64-bit ('env_dlib': conda)",
   "name": "python3"
  },
  "language_info": {
   "codemirror_mode": {
    "name": "ipython",
    "version": 3
   },
   "file_extension": ".py",
   "mimetype": "text/x-python",
   "name": "python",
   "nbconvert_exporter": "python",
   "pygments_lexer": "ipython3",
   "version": "3.9.6"
  },
  "orig_nbformat": 4
 },
 "nbformat": 4,
 "nbformat_minor": 2
}