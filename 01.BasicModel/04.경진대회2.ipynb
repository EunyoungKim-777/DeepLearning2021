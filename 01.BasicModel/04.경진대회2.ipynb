{
 "cells": [
  {
   "cell_type": "markdown",
   "metadata": {},
   "source": [
    "# 2차 경진대회! 딥러닝 활용 - mnist 데이터셋 정확도 높이기\r\n",
    "## random_seed = 2021, test_size = 0.2"
   ]
  },
  {
   "cell_type": "code",
   "execution_count": 1,
   "metadata": {},
   "outputs": [],
   "source": [
    "import numpy as np\r\n",
    "import pandas as pd\r\n",
    "import tensorflow as tf\r\n",
    "seed=2021\r\n",
    "np.random.seed(seed)\r\n",
    "tf.random.set_seed(seed)"
   ]
  },
  {
   "cell_type": "code",
   "execution_count": 2,
   "metadata": {},
   "outputs": [],
   "source": [
    "from sklearn.datasets import load_digits\r\n",
    "digits = load_digits()"
   ]
  },
  {
   "cell_type": "code",
   "execution_count": 3,
   "metadata": {},
   "outputs": [
    {
     "data": {
      "text/plain": [
       "array([[1., 0., 0., 0., 0., 0., 0., 0., 0., 0.],\n",
       "       [0., 1., 0., 0., 0., 0., 0., 0., 0., 0.],\n",
       "       [0., 0., 1., 0., 0., 0., 0., 0., 0., 0.]], dtype=float32)"
      ]
     },
     "execution_count": 3,
     "metadata": {},
     "output_type": "execute_result"
    }
   ],
   "source": [
    "# One-hot encoding\r\n",
    "from tensorflow.keras.utils import to_categorical\r\n",
    "y_onehot = to_categorical(digits.target)\r\n",
    "y_onehot[:3]"
   ]
  },
  {
   "cell_type": "code",
   "execution_count": 4,
   "metadata": {},
   "outputs": [],
   "source": [
    "# 데이터 스케일링\r\n",
    "from sklearn.preprocessing import MinMaxScaler\r\n",
    "scaler = MinMaxScaler()\r\n",
    "X_scaled = scaler.fit_transform(digits.data)"
   ]
  },
  {
   "cell_type": "code",
   "execution_count": 5,
   "metadata": {},
   "outputs": [
    {
     "data": {
      "text/plain": [
       "((1437, 64), (360, 64), (1437, 10), (360, 10))"
      ]
     },
     "execution_count": 5,
     "metadata": {},
     "output_type": "execute_result"
    }
   ],
   "source": [
    "# train/test 데이터셋 분리\r\n",
    "from sklearn.model_selection import train_test_split\r\n",
    "X_train, X_test, Y_train, Y_test = train_test_split(\r\n",
    "    X_scaled, y_onehot, stratify=y_onehot, test_size=0.2, random_state=2021)\r\n",
    "X_train.shape, X_test.shape, Y_train.shape, Y_test.shape"
   ]
  },
  {
   "cell_type": "markdown",
   "metadata": {},
   "source": [
    "# 모델 1"
   ]
  },
  {
   "cell_type": "markdown",
   "metadata": {},
   "source": [
    "## 모델 정의/설정/학습/평가"
   ]
  },
  {
   "cell_type": "code",
   "execution_count": 6,
   "metadata": {},
   "outputs": [],
   "source": [
    "from tensorflow.keras.models import Sequential\r\n",
    "from tensorflow.keras.layers import Dense"
   ]
  },
  {
   "cell_type": "code",
   "execution_count": 28,
   "metadata": {},
   "outputs": [
    {
     "name": "stdout",
     "output_type": "stream",
     "text": [
      "Model: \"sequential_4\"\n",
      "_________________________________________________________________\n",
      "Layer (type)                 Output Shape              Param #   \n",
      "=================================================================\n",
      "dense_13 (Dense)             (None, 64)                4160      \n",
      "_________________________________________________________________\n",
      "dense_14 (Dense)             (None, 32)                2080      \n",
      "_________________________________________________________________\n",
      "dense_15 (Dense)             (None, 16)                528       \n",
      "_________________________________________________________________\n",
      "dense_16 (Dense)             (None, 10)                170       \n",
      "=================================================================\n",
      "Total params: 6,938\n",
      "Trainable params: 6,938\n",
      "Non-trainable params: 0\n",
      "_________________________________________________________________\n"
     ]
    }
   ],
   "source": [
    "model = Sequential([\r\n",
    "    Dense(64, input_dim=64, activation='relu'),               \r\n",
    "    Dense(32, activation='relu'),\r\n",
    "    Dense(16, activation='relu'),\r\n",
    "    Dense(10, activation='softmax')\r\n",
    "])\r\n",
    "model.summary()"
   ]
  },
  {
   "cell_type": "code",
   "execution_count": 29,
   "metadata": {},
   "outputs": [],
   "source": [
    "model.compile(\r\n",
    "    optimizer='adam', loss='categorical_crossentropy',\r\n",
    "    metrics = ['accuracy']\r\n",
    "     )"
   ]
  },
  {
   "cell_type": "markdown",
   "metadata": {},
   "source": [
    "## 모델 저장조건 설정"
   ]
  },
  {
   "cell_type": "code",
   "execution_count": 22,
   "metadata": {},
   "outputs": [],
   "source": [
    "from tensorflow.keras.callbacks import ModelCheckpoint, EarlyStopping"
   ]
  },
  {
   "cell_type": "code",
   "execution_count": 30,
   "metadata": {},
   "outputs": [],
   "source": [
    "modelpath = 'model/best_digits.h5'\r\n",
    "checkpointer=ModelCheckpoint(\r\n",
    "    modelpath, monitor='val_loss', verbose=0, save_best_only=True\r\n",
    ")\r\n",
    "early_stopping = EarlyStopping(patience=100)"
   ]
  },
  {
   "cell_type": "markdown",
   "metadata": {},
   "source": [
    "## 모델 학습 및 저장"
   ]
  },
  {
   "cell_type": "code",
   "execution_count": 31,
   "metadata": {},
   "outputs": [],
   "source": [
    "history = model.fit(\r\n",
    "    X_train, Y_train,\r\n",
    "    validation_split=0.2,\r\n",
    "    epochs=500, batch_size=50, verbose=0,\r\n",
    "    callbacks=[checkpointer, early_stopping])"
   ]
  },
  {
   "cell_type": "markdown",
   "metadata": {},
   "source": [
    "## 베스트 모델 로딩 후 평가"
   ]
  },
  {
   "cell_type": "code",
   "execution_count": 32,
   "metadata": {},
   "outputs": [],
   "source": [
    "from tensorflow.keras.models import load_model\r\n",
    "best_model = load_model(modelpath)"
   ]
  },
  {
   "cell_type": "code",
   "execution_count": 33,
   "metadata": {},
   "outputs": [
    {
     "name": "stdout",
     "output_type": "stream",
     "text": [
      "12/12 [==============================] - 0s 667us/step - loss: 0.1090 - accuracy: 0.9833\n"
     ]
    },
    {
     "data": {
      "text/plain": [
       "[0.10903222858905792, 0.9833333492279053]"
      ]
     },
     "execution_count": 33,
     "metadata": {},
     "output_type": "execute_result"
    }
   ],
   "source": [
    "best_model.evaluate(X_test, Y_test)"
   ]
  },
  {
   "cell_type": "markdown",
   "metadata": {},
   "source": [
    "# 모델 2"
   ]
  },
  {
   "cell_type": "code",
   "execution_count": 48,
   "metadata": {},
   "outputs": [
    {
     "name": "stdout",
     "output_type": "stream",
     "text": [
      "Model: \"sequential_8\"\n",
      "_________________________________________________________________\n",
      "Layer (type)                 Output Shape              Param #   \n",
      "=================================================================\n",
      "dense_29 (Dense)             (None, 100)               6500      \n",
      "_________________________________________________________________\n",
      "dense_30 (Dense)             (None, 60)                6060      \n",
      "_________________________________________________________________\n",
      "dense_31 (Dense)             (None, 30)                1830      \n",
      "_________________________________________________________________\n",
      "dense_32 (Dense)             (None, 10)                310       \n",
      "=================================================================\n",
      "Total params: 14,700\n",
      "Trainable params: 14,700\n",
      "Non-trainable params: 0\n",
      "_________________________________________________________________\n"
     ]
    }
   ],
   "source": [
    "model2 = Sequential([\r\n",
    "    Dense(100, input_dim=64, activation='relu'),               \r\n",
    "    Dense(60, activation='relu'),\r\n",
    "    Dense(30, activation='relu'),\r\n",
    "    Dense(10, activation='softmax')\r\n",
    "])\r\n",
    "model2.summary()"
   ]
  },
  {
   "cell_type": "code",
   "execution_count": 49,
   "metadata": {},
   "outputs": [],
   "source": [
    "model2.compile(\r\n",
    "    optimizer='adam', loss='categorical_crossentropy', metrics = ['accuracy']\r\n",
    "     )\r\n",
    "\r\n",
    "modelpath2 = 'model/best_digits2.h5'\r\n",
    "\r\n",
    "checkpointer = ModelCheckpoint(\r\n",
    "    modelpath2, monitor='val_loss', verbose=0, save_best_only=True\r\n",
    ")\r\n",
    "early_stopping = EarlyStopping(patience=100)"
   ]
  },
  {
   "cell_type": "code",
   "execution_count": 50,
   "metadata": {},
   "outputs": [],
   "source": [
    "history2 = model2.fit(\r\n",
    "    X_train, Y_train,\r\n",
    "    validation_split=0.2,\r\n",
    "    epochs=500, batch_size=50, verbose=0,\r\n",
    "    callbacks=[checkpointer, early_stopping])"
   ]
  },
  {
   "cell_type": "code",
   "execution_count": 51,
   "metadata": {},
   "outputs": [
    {
     "name": "stdout",
     "output_type": "stream",
     "text": [
      "12/12 [==============================] - 0s 583us/step - loss: 0.1586 - accuracy: 0.9694\n"
     ]
    },
    {
     "data": {
      "text/plain": [
       "[0.15856680274009705, 0.9694444537162781]"
      ]
     },
     "execution_count": 51,
     "metadata": {},
     "output_type": "execute_result"
    }
   ],
   "source": [
    "best_model = load_model(modelpath2)\r\n",
    "best_model.evaluate(X_test, Y_test)"
   ]
  },
  {
   "cell_type": "markdown",
   "metadata": {},
   "source": [
    "# 모델 3"
   ]
  },
  {
   "cell_type": "code",
   "execution_count": 34,
   "metadata": {},
   "outputs": [
    {
     "name": "stdout",
     "output_type": "stream",
     "text": [
      "Model: \"sequential_5\"\n",
      "_________________________________________________________________\n",
      "Layer (type)                 Output Shape              Param #   \n",
      "=================================================================\n",
      "dense_17 (Dense)             (None, 500)               32500     \n",
      "_________________________________________________________________\n",
      "dense_18 (Dense)             (None, 250)               125250    \n",
      "_________________________________________________________________\n",
      "dense_19 (Dense)             (None, 50)                12550     \n",
      "_________________________________________________________________\n",
      "dense_20 (Dense)             (None, 10)                510       \n",
      "=================================================================\n",
      "Total params: 170,810\n",
      "Trainable params: 170,810\n",
      "Non-trainable params: 0\n",
      "_________________________________________________________________\n"
     ]
    }
   ],
   "source": [
    "model3 = Sequential([\r\n",
    "    Dense(500, input_dim=64, activation='relu'),               \r\n",
    "    Dense(250, activation='relu'),\r\n",
    "    Dense(50, activation='relu'),\r\n",
    "    Dense(10, activation='softmax')\r\n",
    "])\r\n",
    "model3.summary()"
   ]
  },
  {
   "cell_type": "code",
   "execution_count": 35,
   "metadata": {},
   "outputs": [],
   "source": [
    "model3.compile(\r\n",
    "    optimizer='adam', loss='categorical_crossentropy', metrics = ['accuracy']\r\n",
    "     )\r\n",
    "\r\n",
    "modelpath3 = 'model/best_digits3.h5'\r\n",
    "\r\n",
    "checkpointer = ModelCheckpoint(\r\n",
    "    modelpath3, monitor='val_loss', verbose=0, save_best_only=True\r\n",
    ")\r\n",
    "early_stopping = EarlyStopping(patience=200)"
   ]
  },
  {
   "cell_type": "code",
   "execution_count": 36,
   "metadata": {},
   "outputs": [],
   "source": [
    "history3= model3.fit(\r\n",
    "    X_train, Y_train,\r\n",
    "    validation_split=0.2,\r\n",
    "    epochs=500, batch_size=50, verbose=0,\r\n",
    "    callbacks=[checkpointer, early_stopping])"
   ]
  },
  {
   "cell_type": "code",
   "execution_count": 37,
   "metadata": {},
   "outputs": [
    {
     "name": "stdout",
     "output_type": "stream",
     "text": [
      "12/12 [==============================] - 0s 751us/step - loss: 0.1150 - accuracy: 0.9750\n"
     ]
    },
    {
     "data": {
      "text/plain": [
       "[0.1150285005569458, 0.9750000238418579]"
      ]
     },
     "execution_count": 37,
     "metadata": {},
     "output_type": "execute_result"
    }
   ],
   "source": [
    "best_model = load_model(modelpath3)\r\n",
    "best_model.evaluate(X_test, Y_test)"
   ]
  },
  {
   "cell_type": "markdown",
   "metadata": {},
   "source": [
    "# 모델 4"
   ]
  },
  {
   "cell_type": "code",
   "execution_count": 22,
   "metadata": {},
   "outputs": [
    {
     "name": "stdout",
     "output_type": "stream",
     "text": [
      "Model: \"sequential_3\"\n",
      "_________________________________________________________________\n",
      "Layer (type)                 Output Shape              Param #   \n",
      "=================================================================\n",
      "dense_12 (Dense)             (None, 1000)              65000     \n",
      "_________________________________________________________________\n",
      "dense_13 (Dense)             (None, 500)               500500    \n",
      "_________________________________________________________________\n",
      "dense_14 (Dense)             (None, 100)               50100     \n",
      "_________________________________________________________________\n",
      "dense_15 (Dense)             (None, 10)                1010      \n",
      "=================================================================\n",
      "Total params: 616,610\n",
      "Trainable params: 616,610\n",
      "Non-trainable params: 0\n",
      "_________________________________________________________________\n"
     ]
    }
   ],
   "source": [
    "model4 = Sequential([\r\n",
    "    Dense(1000, input_dim=64, activation='relu'),               \r\n",
    "    Dense(500, activation='relu'),\r\n",
    "    Dense(100, activation='relu'),\r\n",
    "    Dense(10, activation='softmax')\r\n",
    "])\r\n",
    "model4.summary()"
   ]
  },
  {
   "cell_type": "code",
   "execution_count": 23,
   "metadata": {},
   "outputs": [],
   "source": [
    "model4.compile(\r\n",
    "    optimizer='adam', loss='categorical_crossentropy', metrics = ['accuracy']\r\n",
    "     )\r\n",
    "\r\n",
    "modelpath4 = 'model/best_digits4.h5'\r\n",
    "\r\n",
    "checkpointer = ModelCheckpoint(\r\n",
    "    modelpath4, monitor='val_loss', verbose=0, save_best_only=True\r\n",
    ")\r\n",
    "early_stopping = EarlyStopping(patience=200)"
   ]
  },
  {
   "cell_type": "code",
   "execution_count": 25,
   "metadata": {},
   "outputs": [],
   "source": [
    "history4= model4.fit(\r\n",
    "    X_train, Y_train,\r\n",
    "    validation_split=0.2,\r\n",
    "    epochs=3000, batch_size=200, verbose=0,\r\n",
    "    callbacks=[checkpointer, early_stopping])"
   ]
  },
  {
   "cell_type": "code",
   "execution_count": 26,
   "metadata": {},
   "outputs": [
    {
     "name": "stdout",
     "output_type": "stream",
     "text": [
      "12/12 [==============================] - 0s 2ms/step - loss: 0.2408 - accuracy: 0.9722\n"
     ]
    },
    {
     "data": {
      "text/plain": [
       "[0.2407839596271515, 0.9722222089767456]"
      ]
     },
     "execution_count": 26,
     "metadata": {},
     "output_type": "execute_result"
    }
   ],
   "source": [
    "best_model = load_model(modelpath4)\r\n",
    "best_model.evaluate(X_test, Y_test)"
   ]
  },
  {
   "cell_type": "markdown",
   "metadata": {},
   "source": [
    "# 모델 5"
   ]
  },
  {
   "cell_type": "code",
   "execution_count": 24,
   "metadata": {},
   "outputs": [
    {
     "name": "stdout",
     "output_type": "stream",
     "text": [
      "Model: \"sequential_4\"\n",
      "_________________________________________________________________\n",
      "Layer (type)                 Output Shape              Param #   \n",
      "=================================================================\n",
      "dense_16 (Dense)             (None, 500)               32500     \n",
      "_________________________________________________________________\n",
      "dense_17 (Dense)             (None, 250)               125250    \n",
      "_________________________________________________________________\n",
      "dense_18 (Dense)             (None, 50)                12550     \n",
      "_________________________________________________________________\n",
      "dense_19 (Dense)             (None, 10)                510       \n",
      "=================================================================\n",
      "Total params: 170,810\n",
      "Trainable params: 170,810\n",
      "Non-trainable params: 0\n",
      "_________________________________________________________________\n"
     ]
    }
   ],
   "source": [
    "model5 = Sequential([\r\n",
    "    Dense(500, input_dim=64, activation='relu'),               \r\n",
    "    Dense(250, activation='relu'),\r\n",
    "    Dense(50, activation='relu'),\r\n",
    "    Dense(10, activation='softmax')\r\n",
    "])\r\n",
    "model5.summary()"
   ]
  },
  {
   "cell_type": "code",
   "execution_count": 25,
   "metadata": {},
   "outputs": [],
   "source": [
    "model5.compile(\r\n",
    "    optimizer='adam', loss='categorical_crossentropy', metrics = ['accuracy']\r\n",
    "     )\r\n",
    "\r\n",
    "modelpath5 = 'model/best_digits5.h5'\r\n",
    "\r\n",
    "checkpointer = ModelCheckpoint(\r\n",
    "    modelpath5, monitor='val_loss', verbose=0, save_best_only=True\r\n",
    ")\r\n",
    "early_stopping = EarlyStopping(patience=200)"
   ]
  },
  {
   "cell_type": "code",
   "execution_count": 26,
   "metadata": {},
   "outputs": [],
   "source": [
    "history5= model5.fit(\r\n",
    "    X_train, Y_train,\r\n",
    "    validation_split=0.2,\r\n",
    "    epochs=300, batch_size=30, verbose=0,\r\n",
    "    callbacks=[checkpointer, early_stopping])"
   ]
  },
  {
   "cell_type": "code",
   "execution_count": 27,
   "metadata": {},
   "outputs": [
    {
     "name": "stdout",
     "output_type": "stream",
     "text": [
      "12/12 [==============================] - 0s 750us/step - loss: 0.1169 - accuracy: 0.9806\n"
     ]
    },
    {
     "data": {
      "text/plain": [
       "[0.11693916469812393, 0.980555534362793]"
      ]
     },
     "execution_count": 27,
     "metadata": {},
     "output_type": "execute_result"
    }
   ],
   "source": [
    "best_model = load_model(modelpath5)\r\n",
    "best_model.evaluate(X_test, Y_test)"
   ]
  },
  {
   "cell_type": "markdown",
   "metadata": {},
   "source": [
    "# 모델6"
   ]
  },
  {
   "cell_type": "code",
   "execution_count": 15,
   "metadata": {},
   "outputs": [],
   "source": [
    "del model6"
   ]
  },
  {
   "cell_type": "code",
   "execution_count": 16,
   "metadata": {},
   "outputs": [
    {
     "name": "stdout",
     "output_type": "stream",
     "text": [
      "Model: \"sequential_2\"\n",
      "_________________________________________________________________\n",
      "Layer (type)                 Output Shape              Param #   \n",
      "=================================================================\n",
      "dense_6 (Dense)              (None, 60)                3900      \n",
      "_________________________________________________________________\n",
      "dense_7 (Dense)              (None, 30)                1830      \n",
      "_________________________________________________________________\n",
      "dense_8 (Dense)              (None, 10)                310       \n",
      "=================================================================\n",
      "Total params: 6,040\n",
      "Trainable params: 6,040\n",
      "Non-trainable params: 0\n",
      "_________________________________________________________________\n"
     ]
    }
   ],
   "source": [
    "model6 = Sequential([\r\n",
    "    Dense(60, input_dim=64, activation='relu'),               \r\n",
    "    Dense(30, activation='relu'),\r\n",
    "    Dense(10, activation='softmax')\r\n",
    "])\r\n",
    "model6.summary()"
   ]
  },
  {
   "cell_type": "code",
   "execution_count": 17,
   "metadata": {},
   "outputs": [],
   "source": [
    "model6.compile(\r\n",
    "    optimizer='adam', loss='categorical_crossentropy', metrics = ['accuracy']\r\n",
    "     )\r\n",
    "\r\n",
    "modelpath6 = 'model/best_digits5.h5'\r\n",
    "\r\n",
    "checkpointer = ModelCheckpoint(\r\n",
    "    modelpath6, monitor='val_loss', verbose=0, save_best_only=True\r\n",
    ")\r\n",
    "early_stopping = EarlyStopping(patience=100)"
   ]
  },
  {
   "cell_type": "code",
   "execution_count": 18,
   "metadata": {},
   "outputs": [],
   "source": [
    "history6= model6.fit(\r\n",
    "    X_train, Y_train,\r\n",
    "    validation_split=0.2,\r\n",
    "    epochs=500, batch_size=50, verbose=0,\r\n",
    "    callbacks=[checkpointer, early_stopping])"
   ]
  },
  {
   "cell_type": "code",
   "execution_count": 19,
   "metadata": {},
   "outputs": [
    {
     "name": "stdout",
     "output_type": "stream",
     "text": [
      "12/12 [==============================] - 0s 584us/step - loss: 0.1560 - accuracy: 0.9639\n"
     ]
    },
    {
     "data": {
      "text/plain": [
       "[0.15601812303066254, 0.9638888835906982]"
      ]
     },
     "execution_count": 19,
     "metadata": {},
     "output_type": "execute_result"
    }
   ],
   "source": [
    "best_model = load_model(modelpath6)\r\n",
    "best_model.evaluate(X_test, Y_test)"
   ]
  }
 ],
 "metadata": {
  "interpreter": {
   "hash": "b26661d338b6288df508a7ea172ff591d6ed882578e82460ed30bfeb70cfcac3"
  },
  "kernelspec": {
   "display_name": "Python 3.8.8 64-bit ('base': conda)",
   "name": "python3"
  },
  "language_info": {
   "name": "python",
   "version": ""
  },
  "orig_nbformat": 4
 },
 "nbformat": 4,
 "nbformat_minor": 2
}