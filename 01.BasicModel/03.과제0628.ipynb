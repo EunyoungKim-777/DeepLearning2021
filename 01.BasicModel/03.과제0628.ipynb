{
 "cells": [
  {
   "cell_type": "markdown",
   "metadata": {},
   "source": [
    "# sonar.csv\r\n",
    "## - 1. 전처리\r\n",
    "## - 2. 모델 정의/설정/학습/평가 최소한 3가지 이상\r\n",
    "## - 3. 데이터 시각화"
   ]
  },
  {
   "cell_type": "code",
   "execution_count": 2,
   "metadata": {},
   "outputs": [],
   "source": [
    "import pandas as pd\n",
    "import numpy as np"
   ]
  },
  {
   "cell_type": "code",
   "execution_count": 3,
   "metadata": {},
   "outputs": [
    {
     "data": {
      "text/html": [
       "<div>\n",
       "<style scoped>\n",
       "    .dataframe tbody tr th:only-of-type {\n",
       "        vertical-align: middle;\n",
       "    }\n",
       "\n",
       "    .dataframe tbody tr th {\n",
       "        vertical-align: top;\n",
       "    }\n",
       "\n",
       "    .dataframe thead th {\n",
       "        text-align: right;\n",
       "    }\n",
       "</style>\n",
       "<table border=\"1\" class=\"dataframe\">\n",
       "  <thead>\n",
       "    <tr style=\"text-align: right;\">\n",
       "      <th></th>\n",
       "      <th>0</th>\n",
       "      <th>1</th>\n",
       "      <th>2</th>\n",
       "      <th>3</th>\n",
       "      <th>4</th>\n",
       "      <th>5</th>\n",
       "      <th>6</th>\n",
       "      <th>7</th>\n",
       "      <th>8</th>\n",
       "      <th>9</th>\n",
       "      <th>...</th>\n",
       "      <th>51</th>\n",
       "      <th>52</th>\n",
       "      <th>53</th>\n",
       "      <th>54</th>\n",
       "      <th>55</th>\n",
       "      <th>56</th>\n",
       "      <th>57</th>\n",
       "      <th>58</th>\n",
       "      <th>59</th>\n",
       "      <th>60</th>\n",
       "    </tr>\n",
       "  </thead>\n",
       "  <tbody>\n",
       "    <tr>\n",
       "      <th>0</th>\n",
       "      <td>0.0200</td>\n",
       "      <td>0.0371</td>\n",
       "      <td>0.0428</td>\n",
       "      <td>0.0207</td>\n",
       "      <td>0.0954</td>\n",
       "      <td>0.0986</td>\n",
       "      <td>0.1539</td>\n",
       "      <td>0.1601</td>\n",
       "      <td>0.3109</td>\n",
       "      <td>0.2111</td>\n",
       "      <td>...</td>\n",
       "      <td>0.0027</td>\n",
       "      <td>0.0065</td>\n",
       "      <td>0.0159</td>\n",
       "      <td>0.0072</td>\n",
       "      <td>0.0167</td>\n",
       "      <td>0.0180</td>\n",
       "      <td>0.0084</td>\n",
       "      <td>0.0090</td>\n",
       "      <td>0.0032</td>\n",
       "      <td>R</td>\n",
       "    </tr>\n",
       "    <tr>\n",
       "      <th>1</th>\n",
       "      <td>0.0453</td>\n",
       "      <td>0.0523</td>\n",
       "      <td>0.0843</td>\n",
       "      <td>0.0689</td>\n",
       "      <td>0.1183</td>\n",
       "      <td>0.2583</td>\n",
       "      <td>0.2156</td>\n",
       "      <td>0.3481</td>\n",
       "      <td>0.3337</td>\n",
       "      <td>0.2872</td>\n",
       "      <td>...</td>\n",
       "      <td>0.0084</td>\n",
       "      <td>0.0089</td>\n",
       "      <td>0.0048</td>\n",
       "      <td>0.0094</td>\n",
       "      <td>0.0191</td>\n",
       "      <td>0.0140</td>\n",
       "      <td>0.0049</td>\n",
       "      <td>0.0052</td>\n",
       "      <td>0.0044</td>\n",
       "      <td>R</td>\n",
       "    </tr>\n",
       "    <tr>\n",
       "      <th>2</th>\n",
       "      <td>0.0262</td>\n",
       "      <td>0.0582</td>\n",
       "      <td>0.1099</td>\n",
       "      <td>0.1083</td>\n",
       "      <td>0.0974</td>\n",
       "      <td>0.2280</td>\n",
       "      <td>0.2431</td>\n",
       "      <td>0.3771</td>\n",
       "      <td>0.5598</td>\n",
       "      <td>0.6194</td>\n",
       "      <td>...</td>\n",
       "      <td>0.0232</td>\n",
       "      <td>0.0166</td>\n",
       "      <td>0.0095</td>\n",
       "      <td>0.0180</td>\n",
       "      <td>0.0244</td>\n",
       "      <td>0.0316</td>\n",
       "      <td>0.0164</td>\n",
       "      <td>0.0095</td>\n",
       "      <td>0.0078</td>\n",
       "      <td>R</td>\n",
       "    </tr>\n",
       "    <tr>\n",
       "      <th>3</th>\n",
       "      <td>0.0100</td>\n",
       "      <td>0.0171</td>\n",
       "      <td>0.0623</td>\n",
       "      <td>0.0205</td>\n",
       "      <td>0.0205</td>\n",
       "      <td>0.0368</td>\n",
       "      <td>0.1098</td>\n",
       "      <td>0.1276</td>\n",
       "      <td>0.0598</td>\n",
       "      <td>0.1264</td>\n",
       "      <td>...</td>\n",
       "      <td>0.0121</td>\n",
       "      <td>0.0036</td>\n",
       "      <td>0.0150</td>\n",
       "      <td>0.0085</td>\n",
       "      <td>0.0073</td>\n",
       "      <td>0.0050</td>\n",
       "      <td>0.0044</td>\n",
       "      <td>0.0040</td>\n",
       "      <td>0.0117</td>\n",
       "      <td>R</td>\n",
       "    </tr>\n",
       "    <tr>\n",
       "      <th>4</th>\n",
       "      <td>0.0762</td>\n",
       "      <td>0.0666</td>\n",
       "      <td>0.0481</td>\n",
       "      <td>0.0394</td>\n",
       "      <td>0.0590</td>\n",
       "      <td>0.0649</td>\n",
       "      <td>0.1209</td>\n",
       "      <td>0.2467</td>\n",
       "      <td>0.3564</td>\n",
       "      <td>0.4459</td>\n",
       "      <td>...</td>\n",
       "      <td>0.0031</td>\n",
       "      <td>0.0054</td>\n",
       "      <td>0.0105</td>\n",
       "      <td>0.0110</td>\n",
       "      <td>0.0015</td>\n",
       "      <td>0.0072</td>\n",
       "      <td>0.0048</td>\n",
       "      <td>0.0107</td>\n",
       "      <td>0.0094</td>\n",
       "      <td>R</td>\n",
       "    </tr>\n",
       "  </tbody>\n",
       "</table>\n",
       "<p>5 rows × 61 columns</p>\n",
       "</div>"
      ],
      "text/plain": [
       "       0       1       2       3       4       5       6       7       8   \\\n",
       "0  0.0200  0.0371  0.0428  0.0207  0.0954  0.0986  0.1539  0.1601  0.3109   \n",
       "1  0.0453  0.0523  0.0843  0.0689  0.1183  0.2583  0.2156  0.3481  0.3337   \n",
       "2  0.0262  0.0582  0.1099  0.1083  0.0974  0.2280  0.2431  0.3771  0.5598   \n",
       "3  0.0100  0.0171  0.0623  0.0205  0.0205  0.0368  0.1098  0.1276  0.0598   \n",
       "4  0.0762  0.0666  0.0481  0.0394  0.0590  0.0649  0.1209  0.2467  0.3564   \n",
       "\n",
       "       9   ...      51      52      53      54      55      56      57  \\\n",
       "0  0.2111  ...  0.0027  0.0065  0.0159  0.0072  0.0167  0.0180  0.0084   \n",
       "1  0.2872  ...  0.0084  0.0089  0.0048  0.0094  0.0191  0.0140  0.0049   \n",
       "2  0.6194  ...  0.0232  0.0166  0.0095  0.0180  0.0244  0.0316  0.0164   \n",
       "3  0.1264  ...  0.0121  0.0036  0.0150  0.0085  0.0073  0.0050  0.0044   \n",
       "4  0.4459  ...  0.0031  0.0054  0.0105  0.0110  0.0015  0.0072  0.0048   \n",
       "\n",
       "       58      59  60  \n",
       "0  0.0090  0.0032   R  \n",
       "1  0.0052  0.0044   R  \n",
       "2  0.0095  0.0078   R  \n",
       "3  0.0040  0.0117   R  \n",
       "4  0.0107  0.0094   R  \n",
       "\n",
       "[5 rows x 61 columns]"
      ]
     },
     "execution_count": 3,
     "metadata": {},
     "output_type": "execute_result"
    }
   ],
   "source": [
    "df= pd.read_csv('dataset/sonar.csv', header=None)\n",
    "df.head()"
   ]
  },
  {
   "cell_type": "markdown",
   "metadata": {},
   "source": [
    "# 1. 데이터 전처리"
   ]
  },
  {
   "cell_type": "code",
   "execution_count": 4,
   "metadata": {},
   "outputs": [
    {
     "data": {
      "text/plain": [
       "0"
      ]
     },
     "execution_count": 4,
     "metadata": {},
     "output_type": "execute_result"
    }
   ],
   "source": [
    "# 결측치 확인\n",
    "df.isnull().sum().sum()"
   ]
  },
  {
   "cell_type": "markdown",
   "metadata": {},
   "source": [
    "## 맨 마지막 열의 데이터를 숫자로 바꾸기"
   ]
  },
  {
   "cell_type": "code",
   "execution_count": 5,
   "metadata": {},
   "outputs": [],
   "source": [
    "from sklearn.preprocessing import LabelEncoder\n",
    "encoder = LabelEncoder()"
   ]
  },
  {
   "cell_type": "code",
   "execution_count": 6,
   "metadata": {},
   "outputs": [],
   "source": [
    "encoded = encoder.fit_transform(df.iloc[:, -1])"
   ]
  },
  {
   "cell_type": "code",
   "execution_count": 7,
   "metadata": {},
   "outputs": [
    {
     "data": {
      "text/plain": [
       "array([1, 1, 1, 1, 1, 1, 1, 1, 1, 1, 1, 1, 1, 1, 1, 1, 1, 1, 1, 1, 1, 1,\n",
       "       1, 1, 1, 1, 1, 1, 1, 1, 1, 1, 1, 1, 1, 1, 1, 1, 1, 1, 1, 1, 1, 1,\n",
       "       1, 1, 1, 1, 1, 1, 1, 1, 1, 1, 1, 1, 1, 1, 1, 1, 1, 1, 1, 1, 1, 1,\n",
       "       1, 1, 1, 1, 1, 1, 1, 1, 1, 1, 1, 1, 1, 1, 1, 1, 1, 1, 1, 1, 1, 1,\n",
       "       1, 1, 1, 1, 1, 1, 1, 1, 1, 0, 0, 0, 0, 0, 0, 0, 0, 0, 0, 0, 0, 0,\n",
       "       0, 0, 0, 0, 0, 0, 0, 0, 0, 0, 0, 0, 0, 0, 0, 0, 0, 0, 0, 0, 0, 0,\n",
       "       0, 0, 0, 0, 0, 0, 0, 0, 0, 0, 0, 0, 0, 0, 0, 0, 0, 0, 0, 0, 0, 0,\n",
       "       0, 0, 0, 0, 0, 0, 0, 0, 0, 0, 0, 0, 0, 0, 0, 0, 0, 0, 0, 0, 0, 0,\n",
       "       0, 0, 0, 0, 0, 0, 0, 0, 0, 0, 0, 0, 0, 0, 0, 0, 0, 0, 0, 0, 0, 0,\n",
       "       0, 0, 0, 0, 0, 0, 0, 0, 0, 0])"
      ]
     },
     "execution_count": 7,
     "metadata": {},
     "output_type": "execute_result"
    }
   ],
   "source": [
    "# 잘 바뀌었나 확인\n",
    "encoded"
   ]
  },
  {
   "cell_type": "code",
   "execution_count": 8,
   "metadata": {},
   "outputs": [
    {
     "data": {
      "text/html": [
       "<div>\n",
       "<style scoped>\n",
       "    .dataframe tbody tr th:only-of-type {\n",
       "        vertical-align: middle;\n",
       "    }\n",
       "\n",
       "    .dataframe tbody tr th {\n",
       "        vertical-align: top;\n",
       "    }\n",
       "\n",
       "    .dataframe thead th {\n",
       "        text-align: right;\n",
       "    }\n",
       "</style>\n",
       "<table border=\"1\" class=\"dataframe\">\n",
       "  <thead>\n",
       "    <tr style=\"text-align: right;\">\n",
       "      <th></th>\n",
       "      <th>0</th>\n",
       "      <th>1</th>\n",
       "      <th>2</th>\n",
       "      <th>3</th>\n",
       "      <th>4</th>\n",
       "      <th>5</th>\n",
       "      <th>6</th>\n",
       "      <th>7</th>\n",
       "      <th>8</th>\n",
       "      <th>9</th>\n",
       "      <th>...</th>\n",
       "      <th>51</th>\n",
       "      <th>52</th>\n",
       "      <th>53</th>\n",
       "      <th>54</th>\n",
       "      <th>55</th>\n",
       "      <th>56</th>\n",
       "      <th>57</th>\n",
       "      <th>58</th>\n",
       "      <th>59</th>\n",
       "      <th>60</th>\n",
       "    </tr>\n",
       "  </thead>\n",
       "  <tbody>\n",
       "    <tr>\n",
       "      <th>0</th>\n",
       "      <td>0.0200</td>\n",
       "      <td>0.0371</td>\n",
       "      <td>0.0428</td>\n",
       "      <td>0.0207</td>\n",
       "      <td>0.0954</td>\n",
       "      <td>0.0986</td>\n",
       "      <td>0.1539</td>\n",
       "      <td>0.1601</td>\n",
       "      <td>0.3109</td>\n",
       "      <td>0.2111</td>\n",
       "      <td>...</td>\n",
       "      <td>0.0027</td>\n",
       "      <td>0.0065</td>\n",
       "      <td>0.0159</td>\n",
       "      <td>0.0072</td>\n",
       "      <td>0.0167</td>\n",
       "      <td>0.0180</td>\n",
       "      <td>0.0084</td>\n",
       "      <td>0.0090</td>\n",
       "      <td>0.0032</td>\n",
       "      <td>1</td>\n",
       "    </tr>\n",
       "    <tr>\n",
       "      <th>1</th>\n",
       "      <td>0.0453</td>\n",
       "      <td>0.0523</td>\n",
       "      <td>0.0843</td>\n",
       "      <td>0.0689</td>\n",
       "      <td>0.1183</td>\n",
       "      <td>0.2583</td>\n",
       "      <td>0.2156</td>\n",
       "      <td>0.3481</td>\n",
       "      <td>0.3337</td>\n",
       "      <td>0.2872</td>\n",
       "      <td>...</td>\n",
       "      <td>0.0084</td>\n",
       "      <td>0.0089</td>\n",
       "      <td>0.0048</td>\n",
       "      <td>0.0094</td>\n",
       "      <td>0.0191</td>\n",
       "      <td>0.0140</td>\n",
       "      <td>0.0049</td>\n",
       "      <td>0.0052</td>\n",
       "      <td>0.0044</td>\n",
       "      <td>1</td>\n",
       "    </tr>\n",
       "    <tr>\n",
       "      <th>2</th>\n",
       "      <td>0.0262</td>\n",
       "      <td>0.0582</td>\n",
       "      <td>0.1099</td>\n",
       "      <td>0.1083</td>\n",
       "      <td>0.0974</td>\n",
       "      <td>0.2280</td>\n",
       "      <td>0.2431</td>\n",
       "      <td>0.3771</td>\n",
       "      <td>0.5598</td>\n",
       "      <td>0.6194</td>\n",
       "      <td>...</td>\n",
       "      <td>0.0232</td>\n",
       "      <td>0.0166</td>\n",
       "      <td>0.0095</td>\n",
       "      <td>0.0180</td>\n",
       "      <td>0.0244</td>\n",
       "      <td>0.0316</td>\n",
       "      <td>0.0164</td>\n",
       "      <td>0.0095</td>\n",
       "      <td>0.0078</td>\n",
       "      <td>1</td>\n",
       "    </tr>\n",
       "    <tr>\n",
       "      <th>3</th>\n",
       "      <td>0.0100</td>\n",
       "      <td>0.0171</td>\n",
       "      <td>0.0623</td>\n",
       "      <td>0.0205</td>\n",
       "      <td>0.0205</td>\n",
       "      <td>0.0368</td>\n",
       "      <td>0.1098</td>\n",
       "      <td>0.1276</td>\n",
       "      <td>0.0598</td>\n",
       "      <td>0.1264</td>\n",
       "      <td>...</td>\n",
       "      <td>0.0121</td>\n",
       "      <td>0.0036</td>\n",
       "      <td>0.0150</td>\n",
       "      <td>0.0085</td>\n",
       "      <td>0.0073</td>\n",
       "      <td>0.0050</td>\n",
       "      <td>0.0044</td>\n",
       "      <td>0.0040</td>\n",
       "      <td>0.0117</td>\n",
       "      <td>1</td>\n",
       "    </tr>\n",
       "    <tr>\n",
       "      <th>4</th>\n",
       "      <td>0.0762</td>\n",
       "      <td>0.0666</td>\n",
       "      <td>0.0481</td>\n",
       "      <td>0.0394</td>\n",
       "      <td>0.0590</td>\n",
       "      <td>0.0649</td>\n",
       "      <td>0.1209</td>\n",
       "      <td>0.2467</td>\n",
       "      <td>0.3564</td>\n",
       "      <td>0.4459</td>\n",
       "      <td>...</td>\n",
       "      <td>0.0031</td>\n",
       "      <td>0.0054</td>\n",
       "      <td>0.0105</td>\n",
       "      <td>0.0110</td>\n",
       "      <td>0.0015</td>\n",
       "      <td>0.0072</td>\n",
       "      <td>0.0048</td>\n",
       "      <td>0.0107</td>\n",
       "      <td>0.0094</td>\n",
       "      <td>1</td>\n",
       "    </tr>\n",
       "  </tbody>\n",
       "</table>\n",
       "<p>5 rows × 61 columns</p>\n",
       "</div>"
      ],
      "text/plain": [
       "       0       1       2       3       4       5       6       7       8   \\\n",
       "0  0.0200  0.0371  0.0428  0.0207  0.0954  0.0986  0.1539  0.1601  0.3109   \n",
       "1  0.0453  0.0523  0.0843  0.0689  0.1183  0.2583  0.2156  0.3481  0.3337   \n",
       "2  0.0262  0.0582  0.1099  0.1083  0.0974  0.2280  0.2431  0.3771  0.5598   \n",
       "3  0.0100  0.0171  0.0623  0.0205  0.0205  0.0368  0.1098  0.1276  0.0598   \n",
       "4  0.0762  0.0666  0.0481  0.0394  0.0590  0.0649  0.1209  0.2467  0.3564   \n",
       "\n",
       "       9   ...      51      52      53      54      55      56      57  \\\n",
       "0  0.2111  ...  0.0027  0.0065  0.0159  0.0072  0.0167  0.0180  0.0084   \n",
       "1  0.2872  ...  0.0084  0.0089  0.0048  0.0094  0.0191  0.0140  0.0049   \n",
       "2  0.6194  ...  0.0232  0.0166  0.0095  0.0180  0.0244  0.0316  0.0164   \n",
       "3  0.1264  ...  0.0121  0.0036  0.0150  0.0085  0.0073  0.0050  0.0044   \n",
       "4  0.4459  ...  0.0031  0.0054  0.0105  0.0110  0.0015  0.0072  0.0048   \n",
       "\n",
       "       58      59  60  \n",
       "0  0.0090  0.0032   1  \n",
       "1  0.0052  0.0044   1  \n",
       "2  0.0095  0.0078   1  \n",
       "3  0.0040  0.0117   1  \n",
       "4  0.0107  0.0094   1  \n",
       "\n",
       "[5 rows x 61 columns]"
      ]
     },
     "execution_count": 8,
     "metadata": {},
     "output_type": "execute_result"
    }
   ],
   "source": [
    "# 바뀐 값을 데이터프레임에 넣기\n",
    "df[60] = encoded\n",
    "df.head() # 잘 바뀌었나 확인"
   ]
  },
  {
   "cell_type": "markdown",
   "metadata": {},
   "source": [
    "# 2. 모델 정의/설정/학습/평가"
   ]
  },
  {
   "cell_type": "markdown",
   "metadata": {},
   "source": [
    "## - 24/12/6/1 layer, 200 epochs ==> 0.8654"
   ]
  },
  {
   "cell_type": "code",
   "execution_count": 9,
   "metadata": {},
   "outputs": [],
   "source": [
    "import tensorflow as tf\n",
    "seed = 2021\n",
    "np.random.seed(seed)\n",
    "tf.random.set_seed(seed)"
   ]
  },
  {
   "cell_type": "code",
   "execution_count": 10,
   "metadata": {},
   "outputs": [],
   "source": [
    "from tensorflow.keras.models import Sequential\n",
    "from tensorflow.keras.layers import Dense"
   ]
  },
  {
   "cell_type": "code",
   "execution_count": 11,
   "metadata": {},
   "outputs": [
    {
     "data": {
      "text/plain": [
       "((156, 60), (52, 60), (156,), (52,))"
      ]
     },
     "execution_count": 11,
     "metadata": {},
     "output_type": "execute_result"
    }
   ],
   "source": [
    "from sklearn.model_selection import train_test_split\n",
    "X_train, X_test, y_train, y_test = train_test_split(\n",
    "    df.iloc[:,:-1].values, df.iloc[:,-1].values, stratify=df.iloc[:,-1].values, random_state=2021\n",
    ")\n",
    "X_train.shape, X_test.shape, y_train.shape, y_test.shape"
   ]
  },
  {
   "cell_type": "code",
   "execution_count": 12,
   "metadata": {},
   "outputs": [
    {
     "name": "stdout",
     "output_type": "stream",
     "text": [
      "Model: \"sequential\"\n",
      "_________________________________________________________________\n",
      "Layer (type)                 Output Shape              Param #   \n",
      "=================================================================\n",
      "dense (Dense)                (None, 24)                1464      \n",
      "_________________________________________________________________\n",
      "dense_1 (Dense)              (None, 12)                300       \n",
      "_________________________________________________________________\n",
      "dense_2 (Dense)              (None, 6)                 78        \n",
      "_________________________________________________________________\n",
      "dense_3 (Dense)              (None, 1)                 7         \n",
      "=================================================================\n",
      "Total params: 1,849\n",
      "Trainable params: 1,849\n",
      "Non-trainable params: 0\n",
      "_________________________________________________________________\n"
     ]
    }
   ],
   "source": [
    "model1 = Sequential([\n",
    "    Dense(24, input_dim=60, activation='relu'),   \n",
    "    Dense(12, activation='relu'),                \n",
    "    Dense(6, activation='relu'),\n",
    "    Dense(1, activation='sigmoid')\n",
    "])\n",
    "model1.summary()"
   ]
  },
  {
   "cell_type": "code",
   "execution_count": 13,
   "metadata": {
    "tags": [
     "outputPrepend"
    ]
   },
   "outputs": [],
   "source": [
    "model1.compile(\r\n",
    "    loss = 'binary_crossentropy',\r\n",
    "    optimizer = 'adam', metrics = ['accuracy']\r\n",
    ")\r\n",
    "\r\n",
    "history1 = model1.fit(\r\n",
    "    X_train, y_train,\r\n",
    "    validation_split=0.2,\r\n",
    "    epochs=200, batch_size=50, verbose=0)"
   ]
  },
  {
   "cell_type": "code",
   "execution_count": 14,
   "metadata": {},
   "outputs": [
    {
     "name": "stdout",
     "output_type": "stream",
     "text": [
      "2/2 [==============================] - 0s 996us/step - loss: 0.5434 - accuracy: 0.8654\n",
      "model1 정확도:0.8654\n"
     ]
    }
   ],
   "source": [
    "acc1 = model1.evaluate(X_test, y_test)\n",
    "print(f'model1 정확도:{acc1[1]:.4f}')"
   ]
  },
  {
   "cell_type": "markdown",
   "metadata": {},
   "source": [
    "## - minmax 스케일링, 24/12/6/1 layer, 200 epochs ==> 0.8846 ★채택★"
   ]
  },
  {
   "cell_type": "code",
   "execution_count": 15,
   "metadata": {},
   "outputs": [],
   "source": [
    "from sklearn.preprocessing import MinMaxScaler\n",
    "scaler = MinMaxScaler()\n",
    "X_scaled = scaler.fit_transform(df.iloc[:,:-1].values)"
   ]
  },
  {
   "cell_type": "code",
   "execution_count": 16,
   "metadata": {},
   "outputs": [],
   "source": [
    "X_train, X_test, y_train, y_test = train_test_split(\n",
    "    X_scaled, df.iloc[:,-1].values, stratify=df.iloc[:,-1].values, random_state=2021\n",
    ")"
   ]
  },
  {
   "cell_type": "code",
   "execution_count": 21,
   "metadata": {},
   "outputs": [],
   "source": [
    "model2 = Sequential([\n",
    "    Dense(24, input_dim=60, activation='relu'), \n",
    "    Dense(12, activation='relu'),                \n",
    "    Dense(6, activation='relu'),\n",
    "    Dense(1, activation='sigmoid')\n",
    "])"
   ]
  },
  {
   "cell_type": "code",
   "execution_count": 22,
   "metadata": {},
   "outputs": [],
   "source": [
    "model2.compile(\r\n",
    "    loss = 'binary_crossentropy',\r\n",
    "    optimizer = 'adam', metrics = ['accuracy']\r\n",
    ")\r\n",
    "\r\n",
    "history2 = model2.fit(\r\n",
    "    X_train, y_train,\r\n",
    "    validation_split=0.2,\r\n",
    "    epochs=200, batch_size=50, verbose=0)"
   ]
  },
  {
   "cell_type": "code",
   "execution_count": 23,
   "metadata": {},
   "outputs": [
    {
     "name": "stdout",
     "output_type": "stream",
     "text": [
      "1/2 [==============>...............] - ETA: 0s - loss: 0.4728 - accuracy: 0.8750WARNING:tensorflow:Callbacks method `on_test_batch_begin` is slow compared to the batch time (batch time: 0.0000s vs `on_test_batch_begin` time: 0.0010s). Check your callbacks.\n",
      "2/2 [==============================] - 0s 1000us/step - loss: 0.4186 - accuracy: 0.8846\n",
      "model2 정확도:0.8846\n"
     ]
    }
   ],
   "source": [
    "acc2 = model2.evaluate(X_test, y_test)\n",
    "print(f'model2 정확도:{acc2[1]:.4f}')"
   ]
  },
  {
   "cell_type": "markdown",
   "metadata": {},
   "source": [
    "## - minmax 스케일링, 36/18/9/1 layer, 200 epochs ==> 0.8654"
   ]
  },
  {
   "cell_type": "code",
   "execution_count": 24,
   "metadata": {},
   "outputs": [],
   "source": [
    "X_train, X_test, y_train, y_test = train_test_split(\n",
    "    X_scaled, df.iloc[:,-1].values, stratify=df.iloc[:,-1].values, random_state=2021\n",
    ")"
   ]
  },
  {
   "cell_type": "code",
   "execution_count": 25,
   "metadata": {
    "tags": []
   },
   "outputs": [],
   "source": [
    "model3 = Sequential([\r\n",
    "    Dense(36, input_dim=60, activation='relu'),               \r\n",
    "    Dense(18, activation='relu'),\r\n",
    "    Dense(9, activation='relu'),\r\n",
    "    Dense(1, activation='sigmoid')\r\n",
    "])\r\n",
    "\r\n",
    "model3.compile(\r\n",
    "    loss = 'binary_crossentropy',\r\n",
    "    optimizer = 'adam', metrics = ['accuracy']\r\n",
    ")\r\n",
    "\r\n",
    "history3 = model3.fit(\r\n",
    "    X_train, y_train,\r\n",
    "    validation_split=0.2,\r\n",
    "    epochs=200, batch_size=50, verbose=0)"
   ]
  },
  {
   "cell_type": "code",
   "execution_count": 26,
   "metadata": {},
   "outputs": [
    {
     "name": "stdout",
     "output_type": "stream",
     "text": [
      "2/2 [==============================] - 0s 500us/step - loss: 0.7192 - accuracy: 0.8462\n",
      "model3 정확도:0.8462\n"
     ]
    }
   ],
   "source": [
    "acc3 = model3.evaluate(X_test, y_test)\n",
    "print(f'model3 정확도:{acc3[1]:.4f}')"
   ]
  },
  {
   "cell_type": "markdown",
   "metadata": {},
   "source": [
    "# 3. 데이터 시각화"
   ]
  },
  {
   "cell_type": "code",
   "execution_count": 55,
   "metadata": {},
   "outputs": [],
   "source": [
    "import matplotlib.pyplot as plt\n",
    "%matplotlib inline"
   ]
  },
  {
   "cell_type": "code",
   "execution_count": 56,
   "metadata": {},
   "outputs": [],
   "source": [
    "y_acc = history2.history['accuracy']\n",
    "y_vloss = history2.history['val_loss']\n",
    "x_len = np.arange(len(y_acc))"
   ]
  },
  {
   "cell_type": "code",
   "execution_count": 57,
   "metadata": {},
   "outputs": [
    {
     "data": {
      "image/png": "[encoded data removed]",
      "image/svg+xml": "<?xml version=\"1.0\" encoding=\"utf-8\" standalone=\"no\"?>\r\n<!DOCTYPE svg PUBLIC \"-//W3C//DTD SVG 1.1//EN\"\r\n  \"http://www.w3.org/Graphics/SVG/1.1/DTD/svg11.dtd\">\r\n<!-- Created with matplotlib (https://matplotlib.org/) -->\r\n<svg height=\"465.958125pt\" version=\"1.1\" viewBox=\"0 0 706.903125 465.958125\" width=\"706.903125pt\" xmlns=\"http://www.w3.org/2000/svg\" xmlns:xlink=\"http://www.w3.org/1999/xlink\">\r\n <metadata>\r\n  <rdf:RDF xmlns:cc=\"http://creativecommons.org/ns#\" xmlns:dc=\"http://purl.org/dc/elements/1.1/\" xmlns:rdf=\"http://www.w3.org/1999/02/22-rdf-syntax-ns#\">\r\n   <cc:Work>\r\n    <dc:type rdf:resource=\"http://purl.org/dc/dcmitype/StillImage\"/>\r\n    <dc:date>2021-06-28T16:44:25.803716</dc:date>\r\n    <dc:format>image/svg+xml</dc:format>\r\n    <dc:creator>\r\n     <cc:Agent>\r\n      <dc:title>Matplotlib v3.3.4, https://matplotlib.org/</dc:title>\r\n     </cc:Agent>\r\n    </dc:creator>\r\n   </cc:Work>\r\n  </rdf:RDF>\r\n </metadata>\r\n <defs>\r\n  <style type=\"text/css\">*{stroke-linecap:butt;stroke-linejoin:round;}</style>\r\n </defs>\r\n <g id=\"figure_1\">\r\n  <g id=\"patch_1\">\r\n   <path d=\"M 0 465.958125 \r\nL 706.903125 465.958125 \r\nL 706.903125 0 \r\nL 0 0 \r\nz\r\n\" style=\"fill:none;\"/>\r\n  </g>\r\n  <g id=\"axes_1\">\r\n   <g id=\"patch_2\">\r\n    <path d=\"M 30.103125 442.08 \r\nL 699.703125 442.08 \r\nL 699.703125 7.2 \r\nL 30.103125 7.2 \r\nz\r\n\" style=\"fill:#ffffff;\"/>\r\n   </g>\r\n   <g id=\"matplotlib.axis_1\">\r\n    <g id=\"xtick_1\">\r\n     <g id=\"line2d_1\">\r\n      <defs>\r\n       <path d=\"M 0 0 \r\nL 0 3.5 \r\n\" id=\"mbc6e5bac9c\" style=\"stroke:#000000;stroke-width:0.8;\"/>\r\n      </defs>\r\n      <g>\r\n       <use style=\"stroke:#000000;stroke-width:0.8;\" x=\"60.539489\" xlink:href=\"#mbc6e5bac9c\" y=\"442.08\"/>\r\n      </g>\r\n     </g>\r\n     <g id=\"text_1\">\r\n      <!-- 0 -->\r\n      <g transform=\"translate(57.358239 456.678437)scale(0.1 -0.1)\">\r\n       <defs>\r\n        <path d=\"M 31.78125 66.40625 \r\nQ 24.171875 66.40625 20.328125 58.90625 \r\nQ 16.5 51.421875 16.5 36.375 \r\nQ 16.5 21.390625 20.328125 13.890625 \r\nQ 24.171875 6.390625 31.78125 6.390625 \r\nQ 39.453125 6.390625 43.28125 13.890625 \r\nQ 47.125 21.390625 47.125 36.375 \r\nQ 47.125 51.421875 43.28125 58.90625 \r\nQ 39.453125 66.40625 31.78125 66.40625 \r\nz\r\nM 31.78125 74.21875 \r\nQ 44.046875 74.21875 50.515625 64.515625 \r\nQ 56.984375 54.828125 56.984375 36.375 \r\nQ 56.984375 17.96875 50.515625 8.265625 \r\nQ 44.046875 -1.421875 31.78125 -1.421875 \r\nQ 19.53125 -1.421875 13.0625 8.265625 \r\nQ 6.59375 17.96875 6.59375 36.375 \r\nQ 6.59375 54.828125 13.0625 64.515625 \r\nQ 19.53125 74.21875 31.78125 74.21875 \r\nz\r\n\" id=\"DejaVuSans-48\"/>\r\n       </defs>\r\n       <use xlink:href=\"#DejaVuSans-48\"/>\r\n      </g>\r\n     </g>\r\n    </g>\r\n    <g id=\"xtick_2\">\r\n     <g id=\"line2d_2\">\r\n      <g>\r\n       <use style=\"stroke:#000000;stroke-width:0.8;\" x=\"137.012764\" xlink:href=\"#mbc6e5bac9c\" y=\"442.08\"/>\r\n      </g>\r\n     </g>\r\n     <g id=\"text_2\">\r\n      <!-- 25 -->\r\n      <g transform=\"translate(130.650264 456.678437)scale(0.1 -0.1)\">\r\n       <defs>\r\n        <path d=\"M 19.1875 8.296875 \r\nL 53.609375 8.296875 \r\nL 53.609375 0 \r\nL 7.328125 0 \r\nL 7.328125 8.296875 \r\nQ 12.9375 14.109375 22.625 23.890625 \r\nQ 32.328125 33.6875 34.8125 36.53125 \r\nQ 39.546875 41.84375 41.421875 45.53125 \r\nQ 43.3125 49.21875 43.3125 52.78125 \r\nQ 43.3125 58.59375 39.234375 62.25 \r\nQ 35.15625 65.921875 28.609375 65.921875 \r\nQ 23.96875 65.921875 18.8125 64.3125 \r\nQ 13.671875 62.703125 7.8125 59.421875 \r\nL 7.8125 69.390625 \r\nQ 13.765625 71.78125 18.9375 73 \r\nQ 24.125 74.21875 28.421875 74.21875 \r\nQ 39.75 74.21875 46.484375 68.546875 \r\nQ 53.21875 62.890625 53.21875 53.421875 \r\nQ 53.21875 48.921875 51.53125 44.890625 \r\nQ 49.859375 40.875 45.40625 35.40625 \r\nQ 44.1875 33.984375 37.640625 27.21875 \r\nQ 31.109375 20.453125 19.1875 8.296875 \r\nz\r\n\" id=\"DejaVuSans-50\"/>\r\n        <path d=\"M 10.796875 72.90625 \r\nL 49.515625 72.90625 \r\nL 49.515625 64.59375 \r\nL 19.828125 64.59375 \r\nL 19.828125 46.734375 \r\nQ 21.96875 47.46875 24.109375 47.828125 \r\nQ 26.265625 48.1875 28.421875 48.1875 \r\nQ 40.625 48.1875 47.75 41.5 \r\nQ 54.890625 34.8125 54.890625 23.390625 \r\nQ 54.890625 11.625 47.5625 5.09375 \r\nQ 40.234375 -1.421875 26.90625 -1.421875 \r\nQ 22.3125 -1.421875 17.546875 -0.640625 \r\nQ 12.796875 0.140625 7.71875 1.703125 \r\nL 7.71875 11.625 \r\nQ 12.109375 9.234375 16.796875 8.0625 \r\nQ 21.484375 6.890625 26.703125 6.890625 \r\nQ 35.15625 6.890625 40.078125 11.328125 \r\nQ 45.015625 15.765625 45.015625 23.390625 \r\nQ 45.015625 31 40.078125 35.4375 \r\nQ 35.15625 39.890625 26.703125 39.890625 \r\nQ 22.75 39.890625 18.8125 39.015625 \r\nQ 14.890625 38.140625 10.796875 36.28125 \r\nz\r\n\" id=\"DejaVuSans-53\"/>\r\n       </defs>\r\n       <use xlink:href=\"#DejaVuSans-50\"/>\r\n       <use x=\"63.623047\" xlink:href=\"#DejaVuSans-53\"/>\r\n      </g>\r\n     </g>\r\n    </g>\r\n    <g id=\"xtick_3\">\r\n     <g id=\"line2d_3\">\r\n      <g>\r\n       <use style=\"stroke:#000000;stroke-width:0.8;\" x=\"213.48604\" xlink:href=\"#mbc6e5bac9c\" y=\"442.08\"/>\r\n      </g>\r\n     </g>\r\n     <g id=\"text_3\">\r\n      <!-- 50 -->\r\n      <g transform=\"translate(207.12354 456.678437)scale(0.1 -0.1)\">\r\n       <use xlink:href=\"#DejaVuSans-53\"/>\r\n       <use x=\"63.623047\" xlink:href=\"#DejaVuSans-48\"/>\r\n      </g>\r\n     </g>\r\n    </g>\r\n    <g id=\"xtick_4\">\r\n     <g id=\"line2d_4\">\r\n      <g>\r\n       <use style=\"stroke:#000000;stroke-width:0.8;\" x=\"289.959315\" xlink:href=\"#mbc6e5bac9c\" y=\"442.08\"/>\r\n      </g>\r\n     </g>\r\n     <g id=\"text_4\">\r\n      <!-- 75 -->\r\n      <g transform=\"translate(283.596815 456.678437)scale(0.1 -0.1)\">\r\n       <defs>\r\n        <path d=\"M 8.203125 72.90625 \r\nL 55.078125 72.90625 \r\nL 55.078125 68.703125 \r\nL 28.609375 0 \r\nL 18.3125 0 \r\nL 43.21875 64.59375 \r\nL 8.203125 64.59375 \r\nz\r\n\" id=\"DejaVuSans-55\"/>\r\n       </defs>\r\n       <use xlink:href=\"#DejaVuSans-55\"/>\r\n       <use x=\"63.623047\" xlink:href=\"#DejaVuSans-53\"/>\r\n      </g>\r\n     </g>\r\n    </g>\r\n    <g id=\"xtick_5\">\r\n     <g id=\"line2d_5\">\r\n      <g>\r\n       <use style=\"stroke:#000000;stroke-width:0.8;\" x=\"366.432591\" xlink:href=\"#mbc6e5bac9c\" y=\"442.08\"/>\r\n      </g>\r\n     </g>\r\n     <g id=\"text_5\">\r\n      <!-- 100 -->\r\n      <g transform=\"translate(356.888841 456.678437)scale(0.1 -0.1)\">\r\n       <defs>\r\n        <path d=\"M 12.40625 8.296875 \r\nL 28.515625 8.296875 \r\nL 28.515625 63.921875 \r\nL 10.984375 60.40625 \r\nL 10.984375 69.390625 \r\nL 28.421875 72.90625 \r\nL 38.28125 72.90625 \r\nL 38.28125 8.296875 \r\nL 54.390625 8.296875 \r\nL 54.390625 0 \r\nL 12.40625 0 \r\nz\r\n\" id=\"DejaVuSans-49\"/>\r\n       </defs>\r\n       <use xlink:href=\"#DejaVuSans-49\"/>\r\n       <use x=\"63.623047\" xlink:href=\"#DejaVuSans-48\"/>\r\n       <use x=\"127.246094\" xlink:href=\"#DejaVuSans-48\"/>\r\n      </g>\r\n     </g>\r\n    </g>\r\n    <g id=\"xtick_6\">\r\n     <g id=\"line2d_6\">\r\n      <g>\r\n       <use style=\"stroke:#000000;stroke-width:0.8;\" x=\"442.905866\" xlink:href=\"#mbc6e5bac9c\" y=\"442.08\"/>\r\n      </g>\r\n     </g>\r\n     <g id=\"text_6\">\r\n      <!-- 125 -->\r\n      <g transform=\"translate(433.362116 456.678437)scale(0.1 -0.1)\">\r\n       <use xlink:href=\"#DejaVuSans-49\"/>\r\n       <use x=\"63.623047\" xlink:href=\"#DejaVuSans-50\"/>\r\n       <use x=\"127.246094\" xlink:href=\"#DejaVuSans-53\"/>\r\n      </g>\r\n     </g>\r\n    </g>\r\n    <g id=\"xtick_7\">\r\n     <g id=\"line2d_7\">\r\n      <g>\r\n       <use style=\"stroke:#000000;stroke-width:0.8;\" x=\"519.379141\" xlink:href=\"#mbc6e5bac9c\" y=\"442.08\"/>\r\n      </g>\r\n     </g>\r\n     <g id=\"text_7\">\r\n      <!-- 150 -->\r\n      <g transform=\"translate(509.835391 456.678437)scale(0.1 -0.1)\">\r\n       <use xlink:href=\"#DejaVuSans-49\"/>\r\n       <use x=\"63.623047\" xlink:href=\"#DejaVuSans-53\"/>\r\n       <use x=\"127.246094\" xlink:href=\"#DejaVuSans-48\"/>\r\n      </g>\r\n     </g>\r\n    </g>\r\n    <g id=\"xtick_8\">\r\n     <g id=\"line2d_8\">\r\n      <g>\r\n       <use style=\"stroke:#000000;stroke-width:0.8;\" x=\"595.852417\" xlink:href=\"#mbc6e5bac9c\" y=\"442.08\"/>\r\n      </g>\r\n     </g>\r\n     <g id=\"text_8\">\r\n      <!-- 175 -->\r\n      <g transform=\"translate(586.308667 456.678437)scale(0.1 -0.1)\">\r\n       <use xlink:href=\"#DejaVuSans-49\"/>\r\n       <use x=\"63.623047\" xlink:href=\"#DejaVuSans-55\"/>\r\n       <use x=\"127.246094\" xlink:href=\"#DejaVuSans-53\"/>\r\n      </g>\r\n     </g>\r\n    </g>\r\n    <g id=\"xtick_9\">\r\n     <g id=\"line2d_9\">\r\n      <g>\r\n       <use style=\"stroke:#000000;stroke-width:0.8;\" x=\"672.325692\" xlink:href=\"#mbc6e5bac9c\" y=\"442.08\"/>\r\n      </g>\r\n     </g>\r\n     <g id=\"text_9\">\r\n      <!-- 200 -->\r\n      <g transform=\"translate(662.781942 456.678437)scale(0.1 -0.1)\">\r\n       <use xlink:href=\"#DejaVuSans-50\"/>\r\n       <use x=\"63.623047\" xlink:href=\"#DejaVuSans-48\"/>\r\n       <use x=\"127.246094\" xlink:href=\"#DejaVuSans-48\"/>\r\n      </g>\r\n     </g>\r\n    </g>\r\n   </g>\r\n   <g id=\"matplotlib.axis_2\">\r\n    <g id=\"ytick_1\">\r\n     <g id=\"line2d_10\">\r\n      <defs>\r\n       <path d=\"M 0 0 \r\nL -3.5 0 \r\n\" id=\"m4b4b342b4f\" style=\"stroke:#000000;stroke-width:0.8;\"/>\r\n      </defs>\r\n      <g>\r\n       <use style=\"stroke:#000000;stroke-width:0.8;\" x=\"30.103125\" xlink:href=\"#m4b4b342b4f\" y=\"401.773512\"/>\r\n      </g>\r\n     </g>\r\n     <g id=\"text_10\">\r\n      <!-- 0.4 -->\r\n      <g transform=\"translate(7.2 405.57273)scale(0.1 -0.1)\">\r\n       <defs>\r\n        <path d=\"M 10.6875 12.40625 \r\nL 21 12.40625 \r\nL 21 0 \r\nL 10.6875 0 \r\nz\r\n\" id=\"DejaVuSans-46\"/>\r\n        <path d=\"M 37.796875 64.3125 \r\nL 12.890625 25.390625 \r\nL 37.796875 25.390625 \r\nz\r\nM 35.203125 72.90625 \r\nL 47.609375 72.90625 \r\nL 47.609375 25.390625 \r\nL 58.015625 25.390625 \r\nL 58.015625 17.1875 \r\nL 47.609375 17.1875 \r\nL 47.609375 0 \r\nL 37.796875 0 \r\nL 37.796875 17.1875 \r\nL 4.890625 17.1875 \r\nL 4.890625 26.703125 \r\nz\r\n\" id=\"DejaVuSans-52\"/>\r\n       </defs>\r\n       <use xlink:href=\"#DejaVuSans-48\"/>\r\n       <use x=\"63.623047\" xlink:href=\"#DejaVuSans-46\"/>\r\n       <use x=\"95.410156\" xlink:href=\"#DejaVuSans-52\"/>\r\n      </g>\r\n     </g>\r\n    </g>\r\n    <g id=\"ytick_2\">\r\n     <g id=\"line2d_11\">\r\n      <g>\r\n       <use style=\"stroke:#000000;stroke-width:0.8;\" x=\"30.103125\" xlink:href=\"#m4b4b342b4f\" y=\"339.305805\"/>\r\n      </g>\r\n     </g>\r\n     <g id=\"text_11\">\r\n      <!-- 0.5 -->\r\n      <g transform=\"translate(7.2 343.105024)scale(0.1 -0.1)\">\r\n       <use xlink:href=\"#DejaVuSans-48\"/>\r\n       <use x=\"63.623047\" xlink:href=\"#DejaVuSans-46\"/>\r\n       <use x=\"95.410156\" xlink:href=\"#DejaVuSans-53\"/>\r\n      </g>\r\n     </g>\r\n    </g>\r\n    <g id=\"ytick_3\">\r\n     <g id=\"line2d_12\">\r\n      <g>\r\n       <use style=\"stroke:#000000;stroke-width:0.8;\" x=\"30.103125\" xlink:href=\"#m4b4b342b4f\" y=\"276.838099\"/>\r\n      </g>\r\n     </g>\r\n     <g id=\"text_12\">\r\n      <!-- 0.6 -->\r\n      <g transform=\"translate(7.2 280.637317)scale(0.1 -0.1)\">\r\n       <defs>\r\n        <path d=\"M 33.015625 40.375 \r\nQ 26.375 40.375 22.484375 35.828125 \r\nQ 18.609375 31.296875 18.609375 23.390625 \r\nQ 18.609375 15.53125 22.484375 10.953125 \r\nQ 26.375 6.390625 33.015625 6.390625 \r\nQ 39.65625 6.390625 43.53125 10.953125 \r\nQ 47.40625 15.53125 47.40625 23.390625 \r\nQ 47.40625 31.296875 43.53125 35.828125 \r\nQ 39.65625 40.375 33.015625 40.375 \r\nz\r\nM 52.59375 71.296875 \r\nL 52.59375 62.3125 \r\nQ 48.875 64.0625 45.09375 64.984375 \r\nQ 41.3125 65.921875 37.59375 65.921875 \r\nQ 27.828125 65.921875 22.671875 59.328125 \r\nQ 17.53125 52.734375 16.796875 39.40625 \r\nQ 19.671875 43.65625 24.015625 45.921875 \r\nQ 28.375 48.1875 33.59375 48.1875 \r\nQ 44.578125 48.1875 50.953125 41.515625 \r\nQ 57.328125 34.859375 57.328125 23.390625 \r\nQ 57.328125 12.15625 50.6875 5.359375 \r\nQ 44.046875 -1.421875 33.015625 -1.421875 \r\nQ 20.359375 -1.421875 13.671875 8.265625 \r\nQ 6.984375 17.96875 6.984375 36.375 \r\nQ 6.984375 53.65625 15.1875 63.9375 \r\nQ 23.390625 74.21875 37.203125 74.21875 \r\nQ 40.921875 74.21875 44.703125 73.484375 \r\nQ 48.484375 72.75 52.59375 71.296875 \r\nz\r\n\" id=\"DejaVuSans-54\"/>\r\n       </defs>\r\n       <use xlink:href=\"#DejaVuSans-48\"/>\r\n       <use x=\"63.623047\" xlink:href=\"#DejaVuSans-46\"/>\r\n       <use x=\"95.410156\" xlink:href=\"#DejaVuSans-54\"/>\r\n      </g>\r\n     </g>\r\n    </g>\r\n    <g id=\"ytick_4\">\r\n     <g id=\"line2d_13\">\r\n      <g>\r\n       <use style=\"stroke:#000000;stroke-width:0.8;\" x=\"30.103125\" xlink:href=\"#m4b4b342b4f\" y=\"214.370392\"/>\r\n      </g>\r\n     </g>\r\n     <g id=\"text_13\">\r\n      <!-- 0.7 -->\r\n      <g transform=\"translate(7.2 218.169611)scale(0.1 -0.1)\">\r\n       <use xlink:href=\"#DejaVuSans-48\"/>\r\n       <use x=\"63.623047\" xlink:href=\"#DejaVuSans-46\"/>\r\n       <use x=\"95.410156\" xlink:href=\"#DejaVuSans-55\"/>\r\n      </g>\r\n     </g>\r\n    </g>\r\n    <g id=\"ytick_5\">\r\n     <g id=\"line2d_14\">\r\n      <g>\r\n       <use style=\"stroke:#000000;stroke-width:0.8;\" x=\"30.103125\" xlink:href=\"#m4b4b342b4f\" y=\"151.902686\"/>\r\n      </g>\r\n     </g>\r\n     <g id=\"text_14\">\r\n      <!-- 0.8 -->\r\n      <g transform=\"translate(7.2 155.701904)scale(0.1 -0.1)\">\r\n       <defs>\r\n        <path d=\"M 31.78125 34.625 \r\nQ 24.75 34.625 20.71875 30.859375 \r\nQ 16.703125 27.09375 16.703125 20.515625 \r\nQ 16.703125 13.921875 20.71875 10.15625 \r\nQ 24.75 6.390625 31.78125 6.390625 \r\nQ 38.8125 6.390625 42.859375 10.171875 \r\nQ 46.921875 13.96875 46.921875 20.515625 \r\nQ 46.921875 27.09375 42.890625 30.859375 \r\nQ 38.875 34.625 31.78125 34.625 \r\nz\r\nM 21.921875 38.8125 \r\nQ 15.578125 40.375 12.03125 44.71875 \r\nQ 8.5 49.078125 8.5 55.328125 \r\nQ 8.5 64.0625 14.71875 69.140625 \r\nQ 20.953125 74.21875 31.78125 74.21875 \r\nQ 42.671875 74.21875 48.875 69.140625 \r\nQ 55.078125 64.0625 55.078125 55.328125 \r\nQ 55.078125 49.078125 51.53125 44.71875 \r\nQ 48 40.375 41.703125 38.8125 \r\nQ 48.828125 37.15625 52.796875 32.3125 \r\nQ 56.78125 27.484375 56.78125 20.515625 \r\nQ 56.78125 9.90625 50.3125 4.234375 \r\nQ 43.84375 -1.421875 31.78125 -1.421875 \r\nQ 19.734375 -1.421875 13.25 4.234375 \r\nQ 6.78125 9.90625 6.78125 20.515625 \r\nQ 6.78125 27.484375 10.78125 32.3125 \r\nQ 14.796875 37.15625 21.921875 38.8125 \r\nz\r\nM 18.3125 54.390625 \r\nQ 18.3125 48.734375 21.84375 45.5625 \r\nQ 25.390625 42.390625 31.78125 42.390625 \r\nQ 38.140625 42.390625 41.71875 45.5625 \r\nQ 45.3125 48.734375 45.3125 54.390625 \r\nQ 45.3125 60.0625 41.71875 63.234375 \r\nQ 38.140625 66.40625 31.78125 66.40625 \r\nQ 25.390625 66.40625 21.84375 63.234375 \r\nQ 18.3125 60.0625 18.3125 54.390625 \r\nz\r\n\" id=\"DejaVuSans-56\"/>\r\n       </defs>\r\n       <use xlink:href=\"#DejaVuSans-48\"/>\r\n       <use x=\"63.623047\" xlink:href=\"#DejaVuSans-46\"/>\r\n       <use x=\"95.410156\" xlink:href=\"#DejaVuSans-56\"/>\r\n      </g>\r\n     </g>\r\n    </g>\r\n    <g id=\"ytick_6\">\r\n     <g id=\"line2d_15\">\r\n      <g>\r\n       <use style=\"stroke:#000000;stroke-width:0.8;\" x=\"30.103125\" xlink:href=\"#m4b4b342b4f\" y=\"89.434979\"/>\r\n      </g>\r\n     </g>\r\n     <g id=\"text_15\">\r\n      <!-- 0.9 -->\r\n      <g transform=\"translate(7.2 93.234198)scale(0.1 -0.1)\">\r\n       <defs>\r\n        <path d=\"M 10.984375 1.515625 \r\nL 10.984375 10.5 \r\nQ 14.703125 8.734375 18.5 7.8125 \r\nQ 22.3125 6.890625 25.984375 6.890625 \r\nQ 35.75 6.890625 40.890625 13.453125 \r\nQ 46.046875 20.015625 46.78125 33.40625 \r\nQ 43.953125 29.203125 39.59375 26.953125 \r\nQ 35.25 24.703125 29.984375 24.703125 \r\nQ 19.046875 24.703125 12.671875 31.3125 \r\nQ 6.296875 37.9375 6.296875 49.421875 \r\nQ 6.296875 60.640625 12.9375 67.421875 \r\nQ 19.578125 74.21875 30.609375 74.21875 \r\nQ 43.265625 74.21875 49.921875 64.515625 \r\nQ 56.59375 54.828125 56.59375 36.375 \r\nQ 56.59375 19.140625 48.40625 8.859375 \r\nQ 40.234375 -1.421875 26.421875 -1.421875 \r\nQ 22.703125 -1.421875 18.890625 -0.6875 \r\nQ 15.09375 0.046875 10.984375 1.515625 \r\nz\r\nM 30.609375 32.421875 \r\nQ 37.25 32.421875 41.125 36.953125 \r\nQ 45.015625 41.5 45.015625 49.421875 \r\nQ 45.015625 57.28125 41.125 61.84375 \r\nQ 37.25 66.40625 30.609375 66.40625 \r\nQ 23.96875 66.40625 20.09375 61.84375 \r\nQ 16.21875 57.28125 16.21875 49.421875 \r\nQ 16.21875 41.5 20.09375 36.953125 \r\nQ 23.96875 32.421875 30.609375 32.421875 \r\nz\r\n\" id=\"DejaVuSans-57\"/>\r\n       </defs>\r\n       <use xlink:href=\"#DejaVuSans-48\"/>\r\n       <use x=\"63.623047\" xlink:href=\"#DejaVuSans-46\"/>\r\n       <use x=\"95.410156\" xlink:href=\"#DejaVuSans-57\"/>\r\n      </g>\r\n     </g>\r\n    </g>\r\n    <g id=\"ytick_7\">\r\n     <g id=\"line2d_16\">\r\n      <g>\r\n       <use style=\"stroke:#000000;stroke-width:0.8;\" x=\"30.103125\" xlink:href=\"#m4b4b342b4f\" y=\"26.967273\"/>\r\n      </g>\r\n     </g>\r\n     <g id=\"text_16\">\r\n      <!-- 1.0 -->\r\n      <g transform=\"translate(7.2 30.766491)scale(0.1 -0.1)\">\r\n       <use xlink:href=\"#DejaVuSans-49\"/>\r\n       <use x=\"63.623047\" xlink:href=\"#DejaVuSans-46\"/>\r\n       <use x=\"95.410156\" xlink:href=\"#DejaVuSans-48\"/>\r\n      </g>\r\n     </g>\r\n    </g>\r\n   </g>\r\n   <g id=\"line2d_17\">\r\n    <path clip-path=\"url(#p2ec3c55c73)\" d=\"M 60.539489 283.89092 \r\nL 63.59842 268.777742 \r\nL 69.716282 228.475997 \r\nL 75.834144 208.325143 \r\nL 78.893075 188.174252 \r\nL 81.952006 188.174252 \r\nL 85.010937 193.211966 \r\nL 88.069868 193.211966 \r\nL 91.128799 178.098825 \r\nL 94.18773 183.136539 \r\nL 97.246661 183.136539 \r\nL 100.305592 178.098825 \r\nL 103.364523 178.098825 \r\nL 106.423454 173.061112 \r\nL 109.482385 178.098825 \r\nL 112.541316 178.098825 \r\nL 118.659178 157.947934 \r\nL 121.718109 157.947934 \r\nL 124.77704 162.985648 \r\nL 127.835971 152.910221 \r\nL 130.894902 147.872507 \r\nL 137.012764 147.872507 \r\nL 140.071695 152.910221 \r\nL 146.189557 142.834794 \r\nL 149.248488 157.947934 \r\nL 152.307419 152.910221 \r\nL 158.425281 132.759367 \r\nL 161.484212 132.759367 \r\nL 164.543143 142.834794 \r\nL 167.602074 142.834794 \r\nL 170.661005 137.797081 \r\nL 173.719936 122.683903 \r\nL 176.778867 127.721654 \r\nL 179.837798 127.721654 \r\nL 182.896729 117.646189 \r\nL 185.95566 117.646189 \r\nL 189.014591 107.570763 \r\nL 192.073522 102.533049 \r\nL 195.132453 102.533049 \r\nL 201.250315 92.457622 \r\nL 204.309247 82.382158 \r\nL 207.368178 82.382158 \r\nL 210.427109 77.344445 \r\nL 213.48604 67.269018 \r\nL 216.544971 67.269018 \r\nL 219.603902 57.193591 \r\nL 222.662833 57.193591 \r\nL 225.721764 62.231304 \r\nL 228.780695 57.193591 \r\nL 234.898557 57.193591 \r\nL 241.016419 47.118164 \r\nL 271.605729 47.118164 \r\nL 274.66466 52.155877 \r\nL 277.723591 47.118164 \r\nL 280.782522 47.118164 \r\nL 283.841453 42.080413 \r\nL 305.25397 42.080413 \r\nL 308.312901 37.0427 \r\nL 311.371832 42.080413 \r\nL 317.489694 32.004986 \r\nL 323.607556 32.004986 \r\nL 326.666487 37.0427 \r\nL 329.725418 32.004986 \r\nL 348.079004 32.004986 \r\nL 351.137935 26.967273 \r\nL 354.196866 26.967273 \r\nL 357.255797 32.004986 \r\nL 360.314728 32.004986 \r\nL 363.373659 26.967273 \r\nL 669.266761 26.967273 \r\nL 669.266761 26.967273 \r\n\" style=\"fill:none;stroke:#0000ff;stroke-linecap:square;stroke-width:1.5;\"/>\r\n    <defs>\r\n     <path d=\"M 0 1 \r\nC 0.265203 1 0.51958 0.894634 0.707107 0.707107 \r\nC 0.894634 0.51958 1 0.265203 1 0 \r\nC 1 -0.265203 0.894634 -0.51958 0.707107 -0.707107 \r\nC 0.51958 -0.894634 0.265203 -1 0 -1 \r\nC -0.265203 -1 -0.51958 -0.894634 -0.707107 -0.707107 \r\nC -0.894634 -0.51958 -1 -0.265203 -1 0 \r\nC -1 0.265203 -0.894634 0.51958 -0.707107 0.707107 \r\nC -0.51958 0.894634 -0.265203 1 0 1 \r\nz\r\n\" id=\"me4d23c8bea\" style=\"stroke:#0000ff;\"/>\r\n    </defs>\r\n    <g clip-path=\"url(#p2ec3c55c73)\">\r\n     <use style=\"fill:#0000ff;stroke:#0000ff;\" x=\"60.539489\" xlink:href=\"#me4d23c8bea\" y=\"283.89092\"/>\r\n     <use style=\"fill:#0000ff;stroke:#0000ff;\" x=\"63.59842\" xlink:href=\"#me4d23c8bea\" y=\"268.777742\"/>\r\n     <use style=\"fill:#0000ff;stroke:#0000ff;\" x=\"66.657351\" xlink:href=\"#me4d23c8bea\" y=\"248.626888\"/>\r\n     <use style=\"fill:#0000ff;stroke:#0000ff;\" x=\"69.716282\" xlink:href=\"#me4d23c8bea\" y=\"228.475997\"/>\r\n     <use style=\"fill:#0000ff;stroke:#0000ff;\" x=\"72.775213\" xlink:href=\"#me4d23c8bea\" y=\"218.40057\"/>\r\n     <use style=\"fill:#0000ff;stroke:#0000ff;\" x=\"75.834144\" xlink:href=\"#me4d23c8bea\" y=\"208.325143\"/>\r\n     <use style=\"fill:#0000ff;stroke:#0000ff;\" x=\"78.893075\" xlink:href=\"#me4d23c8bea\" y=\"188.174252\"/>\r\n     <use style=\"fill:#0000ff;stroke:#0000ff;\" x=\"81.952006\" xlink:href=\"#me4d23c8bea\" y=\"188.174252\"/>\r\n     <use style=\"fill:#0000ff;stroke:#0000ff;\" x=\"85.010937\" xlink:href=\"#me4d23c8bea\" y=\"193.211966\"/>\r\n     <use style=\"fill:#0000ff;stroke:#0000ff;\" x=\"88.069868\" xlink:href=\"#me4d23c8bea\" y=\"193.211966\"/>\r\n     <use style=\"fill:#0000ff;stroke:#0000ff;\" x=\"91.128799\" xlink:href=\"#me4d23c8bea\" y=\"178.098825\"/>\r\n     <use style=\"fill:#0000ff;stroke:#0000ff;\" x=\"94.18773\" xlink:href=\"#me4d23c8bea\" y=\"183.136539\"/>\r\n     <use style=\"fill:#0000ff;stroke:#0000ff;\" x=\"97.246661\" xlink:href=\"#me4d23c8bea\" y=\"183.136539\"/>\r\n     <use style=\"fill:#0000ff;stroke:#0000ff;\" x=\"100.305592\" xlink:href=\"#me4d23c8bea\" y=\"178.098825\"/>\r\n     <use style=\"fill:#0000ff;stroke:#0000ff;\" x=\"103.364523\" xlink:href=\"#me4d23c8bea\" y=\"178.098825\"/>\r\n     <use style=\"fill:#0000ff;stroke:#0000ff;\" x=\"106.423454\" xlink:href=\"#me4d23c8bea\" y=\"173.061112\"/>\r\n     <use style=\"fill:#0000ff;stroke:#0000ff;\" x=\"109.482385\" xlink:href=\"#me4d23c8bea\" y=\"178.098825\"/>\r\n     <use style=\"fill:#0000ff;stroke:#0000ff;\" x=\"112.541316\" xlink:href=\"#me4d23c8bea\" y=\"178.098825\"/>\r\n     <use style=\"fill:#0000ff;stroke:#0000ff;\" x=\"115.600247\" xlink:href=\"#me4d23c8bea\" y=\"168.023399\"/>\r\n     <use style=\"fill:#0000ff;stroke:#0000ff;\" x=\"118.659178\" xlink:href=\"#me4d23c8bea\" y=\"157.947934\"/>\r\n     <use style=\"fill:#0000ff;stroke:#0000ff;\" x=\"121.718109\" xlink:href=\"#me4d23c8bea\" y=\"157.947934\"/>\r\n     <use style=\"fill:#0000ff;stroke:#0000ff;\" x=\"124.77704\" xlink:href=\"#me4d23c8bea\" y=\"162.985648\"/>\r\n     <use style=\"fill:#0000ff;stroke:#0000ff;\" x=\"127.835971\" xlink:href=\"#me4d23c8bea\" y=\"152.910221\"/>\r\n     <use style=\"fill:#0000ff;stroke:#0000ff;\" x=\"130.894902\" xlink:href=\"#me4d23c8bea\" y=\"147.872507\"/>\r\n     <use style=\"fill:#0000ff;stroke:#0000ff;\" x=\"133.953833\" xlink:href=\"#me4d23c8bea\" y=\"147.872507\"/>\r\n     <use style=\"fill:#0000ff;stroke:#0000ff;\" x=\"137.012764\" xlink:href=\"#me4d23c8bea\" y=\"147.872507\"/>\r\n     <use style=\"fill:#0000ff;stroke:#0000ff;\" x=\"140.071695\" xlink:href=\"#me4d23c8bea\" y=\"152.910221\"/>\r\n     <use style=\"fill:#0000ff;stroke:#0000ff;\" x=\"143.130626\" xlink:href=\"#me4d23c8bea\" y=\"147.872507\"/>\r\n     <use style=\"fill:#0000ff;stroke:#0000ff;\" x=\"146.189557\" xlink:href=\"#me4d23c8bea\" y=\"142.834794\"/>\r\n     <use style=\"fill:#0000ff;stroke:#0000ff;\" x=\"149.248488\" xlink:href=\"#me4d23c8bea\" y=\"157.947934\"/>\r\n     <use style=\"fill:#0000ff;stroke:#0000ff;\" x=\"152.307419\" xlink:href=\"#me4d23c8bea\" y=\"152.910221\"/>\r\n     <use style=\"fill:#0000ff;stroke:#0000ff;\" x=\"155.36635\" xlink:href=\"#me4d23c8bea\" y=\"142.834794\"/>\r\n     <use style=\"fill:#0000ff;stroke:#0000ff;\" x=\"158.425281\" xlink:href=\"#me4d23c8bea\" y=\"132.759367\"/>\r\n     <use style=\"fill:#0000ff;stroke:#0000ff;\" x=\"161.484212\" xlink:href=\"#me4d23c8bea\" y=\"132.759367\"/>\r\n     <use style=\"fill:#0000ff;stroke:#0000ff;\" x=\"164.543143\" xlink:href=\"#me4d23c8bea\" y=\"142.834794\"/>\r\n     <use style=\"fill:#0000ff;stroke:#0000ff;\" x=\"167.602074\" xlink:href=\"#me4d23c8bea\" y=\"142.834794\"/>\r\n     <use style=\"fill:#0000ff;stroke:#0000ff;\" x=\"170.661005\" xlink:href=\"#me4d23c8bea\" y=\"137.797081\"/>\r\n     <use style=\"fill:#0000ff;stroke:#0000ff;\" x=\"173.719936\" xlink:href=\"#me4d23c8bea\" y=\"122.683903\"/>\r\n     <use style=\"fill:#0000ff;stroke:#0000ff;\" x=\"176.778867\" xlink:href=\"#me4d23c8bea\" y=\"127.721654\"/>\r\n     <use style=\"fill:#0000ff;stroke:#0000ff;\" x=\"179.837798\" xlink:href=\"#me4d23c8bea\" y=\"127.721654\"/>\r\n     <use style=\"fill:#0000ff;stroke:#0000ff;\" x=\"182.896729\" xlink:href=\"#me4d23c8bea\" y=\"117.646189\"/>\r\n     <use style=\"fill:#0000ff;stroke:#0000ff;\" x=\"185.95566\" xlink:href=\"#me4d23c8bea\" y=\"117.646189\"/>\r\n     <use style=\"fill:#0000ff;stroke:#0000ff;\" x=\"189.014591\" xlink:href=\"#me4d23c8bea\" y=\"107.570763\"/>\r\n     <use style=\"fill:#0000ff;stroke:#0000ff;\" x=\"192.073522\" xlink:href=\"#me4d23c8bea\" y=\"102.533049\"/>\r\n     <use style=\"fill:#0000ff;stroke:#0000ff;\" x=\"195.132453\" xlink:href=\"#me4d23c8bea\" y=\"102.533049\"/>\r\n     <use style=\"fill:#0000ff;stroke:#0000ff;\" x=\"198.191384\" xlink:href=\"#me4d23c8bea\" y=\"97.495336\"/>\r\n     <use style=\"fill:#0000ff;stroke:#0000ff;\" x=\"201.250315\" xlink:href=\"#me4d23c8bea\" y=\"92.457622\"/>\r\n     <use style=\"fill:#0000ff;stroke:#0000ff;\" x=\"204.309247\" xlink:href=\"#me4d23c8bea\" y=\"82.382158\"/>\r\n     <use style=\"fill:#0000ff;stroke:#0000ff;\" x=\"207.368178\" xlink:href=\"#me4d23c8bea\" y=\"82.382158\"/>\r\n     <use style=\"fill:#0000ff;stroke:#0000ff;\" x=\"210.427109\" xlink:href=\"#me4d23c8bea\" y=\"77.344445\"/>\r\n     <use style=\"fill:#0000ff;stroke:#0000ff;\" x=\"213.48604\" xlink:href=\"#me4d23c8bea\" y=\"67.269018\"/>\r\n     <use style=\"fill:#0000ff;stroke:#0000ff;\" x=\"216.544971\" xlink:href=\"#me4d23c8bea\" y=\"67.269018\"/>\r\n     <use style=\"fill:#0000ff;stroke:#0000ff;\" x=\"219.603902\" xlink:href=\"#me4d23c8bea\" y=\"57.193591\"/>\r\n     <use style=\"fill:#0000ff;stroke:#0000ff;\" x=\"222.662833\" xlink:href=\"#me4d23c8bea\" y=\"57.193591\"/>\r\n     <use style=\"fill:#0000ff;stroke:#0000ff;\" x=\"225.721764\" xlink:href=\"#me4d23c8bea\" y=\"62.231304\"/>\r\n     <use style=\"fill:#0000ff;stroke:#0000ff;\" x=\"228.780695\" xlink:href=\"#me4d23c8bea\" y=\"57.193591\"/>\r\n     <use style=\"fill:#0000ff;stroke:#0000ff;\" x=\"231.839626\" xlink:href=\"#me4d23c8bea\" y=\"57.193591\"/>\r\n     <use style=\"fill:#0000ff;stroke:#0000ff;\" x=\"234.898557\" xlink:href=\"#me4d23c8bea\" y=\"57.193591\"/>\r\n     <use style=\"fill:#0000ff;stroke:#0000ff;\" x=\"237.957488\" xlink:href=\"#me4d23c8bea\" y=\"52.155877\"/>\r\n     <use style=\"fill:#0000ff;stroke:#0000ff;\" x=\"241.016419\" xlink:href=\"#me4d23c8bea\" y=\"47.118164\"/>\r\n     <use style=\"fill:#0000ff;stroke:#0000ff;\" x=\"244.07535\" xlink:href=\"#me4d23c8bea\" y=\"47.118164\"/>\r\n     <use style=\"fill:#0000ff;stroke:#0000ff;\" x=\"247.134281\" xlink:href=\"#me4d23c8bea\" y=\"47.118164\"/>\r\n     <use style=\"fill:#0000ff;stroke:#0000ff;\" x=\"250.193212\" xlink:href=\"#me4d23c8bea\" y=\"47.118164\"/>\r\n     <use style=\"fill:#0000ff;stroke:#0000ff;\" x=\"253.252143\" xlink:href=\"#me4d23c8bea\" y=\"47.118164\"/>\r\n     <use style=\"fill:#0000ff;stroke:#0000ff;\" x=\"256.311074\" xlink:href=\"#me4d23c8bea\" y=\"47.118164\"/>\r\n     <use style=\"fill:#0000ff;stroke:#0000ff;\" x=\"259.370005\" xlink:href=\"#me4d23c8bea\" y=\"47.118164\"/>\r\n     <use style=\"fill:#0000ff;stroke:#0000ff;\" x=\"262.428936\" xlink:href=\"#me4d23c8bea\" y=\"47.118164\"/>\r\n     <use style=\"fill:#0000ff;stroke:#0000ff;\" x=\"265.487867\" xlink:href=\"#me4d23c8bea\" y=\"47.118164\"/>\r\n     <use style=\"fill:#0000ff;stroke:#0000ff;\" x=\"268.546798\" xlink:href=\"#me4d23c8bea\" y=\"47.118164\"/>\r\n     <use style=\"fill:#0000ff;stroke:#0000ff;\" x=\"271.605729\" xlink:href=\"#me4d23c8bea\" y=\"47.118164\"/>\r\n     <use style=\"fill:#0000ff;stroke:#0000ff;\" x=\"274.66466\" xlink:href=\"#me4d23c8bea\" y=\"52.155877\"/>\r\n     <use style=\"fill:#0000ff;stroke:#0000ff;\" x=\"277.723591\" xlink:href=\"#me4d23c8bea\" y=\"47.118164\"/>\r\n     <use style=\"fill:#0000ff;stroke:#0000ff;\" x=\"280.782522\" xlink:href=\"#me4d23c8bea\" y=\"47.118164\"/>\r\n     <use style=\"fill:#0000ff;stroke:#0000ff;\" x=\"283.841453\" xlink:href=\"#me4d23c8bea\" y=\"42.080413\"/>\r\n     <use style=\"fill:#0000ff;stroke:#0000ff;\" x=\"286.900384\" xlink:href=\"#me4d23c8bea\" y=\"42.080413\"/>\r\n     <use style=\"fill:#0000ff;stroke:#0000ff;\" x=\"289.959315\" xlink:href=\"#me4d23c8bea\" y=\"42.080413\"/>\r\n     <use style=\"fill:#0000ff;stroke:#0000ff;\" x=\"293.018246\" xlink:href=\"#me4d23c8bea\" y=\"42.080413\"/>\r\n     <use style=\"fill:#0000ff;stroke:#0000ff;\" x=\"296.077177\" xlink:href=\"#me4d23c8bea\" y=\"42.080413\"/>\r\n     <use style=\"fill:#0000ff;stroke:#0000ff;\" x=\"299.136108\" xlink:href=\"#me4d23c8bea\" y=\"42.080413\"/>\r\n     <use style=\"fill:#0000ff;stroke:#0000ff;\" x=\"302.195039\" xlink:href=\"#me4d23c8bea\" y=\"42.080413\"/>\r\n     <use style=\"fill:#0000ff;stroke:#0000ff;\" x=\"305.25397\" xlink:href=\"#me4d23c8bea\" y=\"42.080413\"/>\r\n     <use style=\"fill:#0000ff;stroke:#0000ff;\" x=\"308.312901\" xlink:href=\"#me4d23c8bea\" y=\"37.0427\"/>\r\n     <use style=\"fill:#0000ff;stroke:#0000ff;\" x=\"311.371832\" xlink:href=\"#me4d23c8bea\" y=\"42.080413\"/>\r\n     <use style=\"fill:#0000ff;stroke:#0000ff;\" x=\"314.430763\" xlink:href=\"#me4d23c8bea\" y=\"37.0427\"/>\r\n     <use style=\"fill:#0000ff;stroke:#0000ff;\" x=\"317.489694\" xlink:href=\"#me4d23c8bea\" y=\"32.004986\"/>\r\n     <use style=\"fill:#0000ff;stroke:#0000ff;\" x=\"320.548625\" xlink:href=\"#me4d23c8bea\" y=\"32.004986\"/>\r\n     <use style=\"fill:#0000ff;stroke:#0000ff;\" x=\"323.607556\" xlink:href=\"#me4d23c8bea\" y=\"32.004986\"/>\r\n     <use style=\"fill:#0000ff;stroke:#0000ff;\" x=\"326.666487\" xlink:href=\"#me4d23c8bea\" y=\"37.0427\"/>\r\n     <use style=\"fill:#0000ff;stroke:#0000ff;\" x=\"329.725418\" xlink:href=\"#me4d23c8bea\" y=\"32.004986\"/>\r\n     <use style=\"fill:#0000ff;stroke:#0000ff;\" x=\"332.784349\" xlink:href=\"#me4d23c8bea\" y=\"32.004986\"/>\r\n     <use style=\"fill:#0000ff;stroke:#0000ff;\" x=\"335.84328\" xlink:href=\"#me4d23c8bea\" y=\"32.004986\"/>\r\n     <use style=\"fill:#0000ff;stroke:#0000ff;\" x=\"338.902211\" xlink:href=\"#me4d23c8bea\" y=\"32.004986\"/>\r\n     <use style=\"fill:#0000ff;stroke:#0000ff;\" x=\"341.961142\" xlink:href=\"#me4d23c8bea\" y=\"32.004986\"/>\r\n     <use style=\"fill:#0000ff;stroke:#0000ff;\" x=\"345.020073\" xlink:href=\"#me4d23c8bea\" y=\"32.004986\"/>\r\n     <use style=\"fill:#0000ff;stroke:#0000ff;\" x=\"348.079004\" xlink:href=\"#me4d23c8bea\" y=\"32.004986\"/>\r\n     <use style=\"fill:#0000ff;stroke:#0000ff;\" x=\"351.137935\" xlink:href=\"#me4d23c8bea\" y=\"26.967273\"/>\r\n     <use style=\"fill:#0000ff;stroke:#0000ff;\" x=\"354.196866\" xlink:href=\"#me4d23c8bea\" y=\"26.967273\"/>\r\n     <use style=\"fill:#0000ff;stroke:#0000ff;\" x=\"357.255797\" xlink:href=\"#me4d23c8bea\" y=\"32.004986\"/>\r\n     <use style=\"fill:#0000ff;stroke:#0000ff;\" x=\"360.314728\" xlink:href=\"#me4d23c8bea\" y=\"32.004986\"/>\r\n     <use style=\"fill:#0000ff;stroke:#0000ff;\" x=\"363.373659\" xlink:href=\"#me4d23c8bea\" y=\"26.967273\"/>\r\n     <use style=\"fill:#0000ff;stroke:#0000ff;\" x=\"366.432591\" xlink:href=\"#me4d23c8bea\" y=\"26.967273\"/>\r\n     <use style=\"fill:#0000ff;stroke:#0000ff;\" x=\"369.491522\" xlink:href=\"#me4d23c8bea\" y=\"26.967273\"/>\r\n     <use style=\"fill:#0000ff;stroke:#0000ff;\" x=\"372.550453\" xlink:href=\"#me4d23c8bea\" y=\"26.967273\"/>\r\n     <use style=\"fill:#0000ff;stroke:#0000ff;\" x=\"375.609384\" xlink:href=\"#me4d23c8bea\" y=\"26.967273\"/>\r\n     <use style=\"fill:#0000ff;stroke:#0000ff;\" x=\"378.668315\" xlink:href=\"#me4d23c8bea\" y=\"26.967273\"/>\r\n     <use style=\"fill:#0000ff;stroke:#0000ff;\" x=\"381.727246\" xlink:href=\"#me4d23c8bea\" y=\"26.967273\"/>\r\n     <use style=\"fill:#0000ff;stroke:#0000ff;\" x=\"384.786177\" xlink:href=\"#me4d23c8bea\" y=\"26.967273\"/>\r\n     <use style=\"fill:#0000ff;stroke:#0000ff;\" x=\"387.845108\" xlink:href=\"#me4d23c8bea\" y=\"26.967273\"/>\r\n     <use style=\"fill:#0000ff;stroke:#0000ff;\" x=\"390.904039\" xlink:href=\"#me4d23c8bea\" y=\"26.967273\"/>\r\n     <use style=\"fill:#0000ff;stroke:#0000ff;\" x=\"393.96297\" xlink:href=\"#me4d23c8bea\" y=\"26.967273\"/>\r\n     <use style=\"fill:#0000ff;stroke:#0000ff;\" x=\"397.021901\" xlink:href=\"#me4d23c8bea\" y=\"26.967273\"/>\r\n     <use style=\"fill:#0000ff;stroke:#0000ff;\" x=\"400.080832\" xlink:href=\"#me4d23c8bea\" y=\"26.967273\"/>\r\n     <use style=\"fill:#0000ff;stroke:#0000ff;\" x=\"403.139763\" xlink:href=\"#me4d23c8bea\" y=\"26.967273\"/>\r\n     <use style=\"fill:#0000ff;stroke:#0000ff;\" x=\"406.198694\" xlink:href=\"#me4d23c8bea\" y=\"26.967273\"/>\r\n     <use style=\"fill:#0000ff;stroke:#0000ff;\" x=\"409.257625\" xlink:href=\"#me4d23c8bea\" y=\"26.967273\"/>\r\n     <use style=\"fill:#0000ff;stroke:#0000ff;\" x=\"412.316556\" xlink:href=\"#me4d23c8bea\" y=\"26.967273\"/>\r\n     <use style=\"fill:#0000ff;stroke:#0000ff;\" x=\"415.375487\" xlink:href=\"#me4d23c8bea\" y=\"26.967273\"/>\r\n     <use style=\"fill:#0000ff;stroke:#0000ff;\" x=\"418.434418\" xlink:href=\"#me4d23c8bea\" y=\"26.967273\"/>\r\n     <use style=\"fill:#0000ff;stroke:#0000ff;\" x=\"421.493349\" xlink:href=\"#me4d23c8bea\" y=\"26.967273\"/>\r\n     <use style=\"fill:#0000ff;stroke:#0000ff;\" x=\"424.55228\" xlink:href=\"#me4d23c8bea\" y=\"26.967273\"/>\r\n     <use style=\"fill:#0000ff;stroke:#0000ff;\" x=\"427.611211\" xlink:href=\"#me4d23c8bea\" y=\"26.967273\"/>\r\n     <use style=\"fill:#0000ff;stroke:#0000ff;\" x=\"430.670142\" xlink:href=\"#me4d23c8bea\" y=\"26.967273\"/>\r\n     <use style=\"fill:#0000ff;stroke:#0000ff;\" x=\"433.729073\" xlink:href=\"#me4d23c8bea\" y=\"26.967273\"/>\r\n     <use style=\"fill:#0000ff;stroke:#0000ff;\" x=\"436.788004\" xlink:href=\"#me4d23c8bea\" y=\"26.967273\"/>\r\n     <use style=\"fill:#0000ff;stroke:#0000ff;\" x=\"439.846935\" xlink:href=\"#me4d23c8bea\" y=\"26.967273\"/>\r\n     <use style=\"fill:#0000ff;stroke:#0000ff;\" x=\"442.905866\" xlink:href=\"#me4d23c8bea\" y=\"26.967273\"/>\r\n     <use style=\"fill:#0000ff;stroke:#0000ff;\" x=\"445.964797\" xlink:href=\"#me4d23c8bea\" y=\"26.967273\"/>\r\n     <use style=\"fill:#0000ff;stroke:#0000ff;\" x=\"449.023728\" xlink:href=\"#me4d23c8bea\" y=\"26.967273\"/>\r\n     <use style=\"fill:#0000ff;stroke:#0000ff;\" x=\"452.082659\" xlink:href=\"#me4d23c8bea\" y=\"26.967273\"/>\r\n     <use style=\"fill:#0000ff;stroke:#0000ff;\" x=\"455.14159\" xlink:href=\"#me4d23c8bea\" y=\"26.967273\"/>\r\n     <use style=\"fill:#0000ff;stroke:#0000ff;\" x=\"458.200521\" xlink:href=\"#me4d23c8bea\" y=\"26.967273\"/>\r\n     <use style=\"fill:#0000ff;stroke:#0000ff;\" x=\"461.259452\" xlink:href=\"#me4d23c8bea\" y=\"26.967273\"/>\r\n     <use style=\"fill:#0000ff;stroke:#0000ff;\" x=\"464.318383\" xlink:href=\"#me4d23c8bea\" y=\"26.967273\"/>\r\n     <use style=\"fill:#0000ff;stroke:#0000ff;\" x=\"467.377314\" xlink:href=\"#me4d23c8bea\" y=\"26.967273\"/>\r\n     <use style=\"fill:#0000ff;stroke:#0000ff;\" x=\"470.436245\" xlink:href=\"#me4d23c8bea\" y=\"26.967273\"/>\r\n     <use style=\"fill:#0000ff;stroke:#0000ff;\" x=\"473.495176\" xlink:href=\"#me4d23c8bea\" y=\"26.967273\"/>\r\n     <use style=\"fill:#0000ff;stroke:#0000ff;\" x=\"476.554107\" xlink:href=\"#me4d23c8bea\" y=\"26.967273\"/>\r\n     <use style=\"fill:#0000ff;stroke:#0000ff;\" x=\"479.613038\" xlink:href=\"#me4d23c8bea\" y=\"26.967273\"/>\r\n     <use style=\"fill:#0000ff;stroke:#0000ff;\" x=\"482.671969\" xlink:href=\"#me4d23c8bea\" y=\"26.967273\"/>\r\n     <use style=\"fill:#0000ff;stroke:#0000ff;\" x=\"485.7309\" xlink:href=\"#me4d23c8bea\" y=\"26.967273\"/>\r\n     <use style=\"fill:#0000ff;stroke:#0000ff;\" x=\"488.789831\" xlink:href=\"#me4d23c8bea\" y=\"26.967273\"/>\r\n     <use style=\"fill:#0000ff;stroke:#0000ff;\" x=\"491.848762\" xlink:href=\"#me4d23c8bea\" y=\"26.967273\"/>\r\n     <use style=\"fill:#0000ff;stroke:#0000ff;\" x=\"494.907693\" xlink:href=\"#me4d23c8bea\" y=\"26.967273\"/>\r\n     <use style=\"fill:#0000ff;stroke:#0000ff;\" x=\"497.966624\" xlink:href=\"#me4d23c8bea\" y=\"26.967273\"/>\r\n     <use style=\"fill:#0000ff;stroke:#0000ff;\" x=\"501.025555\" xlink:href=\"#me4d23c8bea\" y=\"26.967273\"/>\r\n     <use style=\"fill:#0000ff;stroke:#0000ff;\" x=\"504.084486\" xlink:href=\"#me4d23c8bea\" y=\"26.967273\"/>\r\n     <use style=\"fill:#0000ff;stroke:#0000ff;\" x=\"507.143417\" xlink:href=\"#me4d23c8bea\" y=\"26.967273\"/>\r\n     <use style=\"fill:#0000ff;stroke:#0000ff;\" x=\"510.202348\" xlink:href=\"#me4d23c8bea\" y=\"26.967273\"/>\r\n     <use style=\"fill:#0000ff;stroke:#0000ff;\" x=\"513.261279\" xlink:href=\"#me4d23c8bea\" y=\"26.967273\"/>\r\n     <use style=\"fill:#0000ff;stroke:#0000ff;\" x=\"516.32021\" xlink:href=\"#me4d23c8bea\" y=\"26.967273\"/>\r\n     <use style=\"fill:#0000ff;stroke:#0000ff;\" x=\"519.379141\" xlink:href=\"#me4d23c8bea\" y=\"26.967273\"/>\r\n     <use style=\"fill:#0000ff;stroke:#0000ff;\" x=\"522.438072\" xlink:href=\"#me4d23c8bea\" y=\"26.967273\"/>\r\n     <use style=\"fill:#0000ff;stroke:#0000ff;\" x=\"525.497003\" xlink:href=\"#me4d23c8bea\" y=\"26.967273\"/>\r\n     <use style=\"fill:#0000ff;stroke:#0000ff;\" x=\"528.555935\" xlink:href=\"#me4d23c8bea\" y=\"26.967273\"/>\r\n     <use style=\"fill:#0000ff;stroke:#0000ff;\" x=\"531.614866\" xlink:href=\"#me4d23c8bea\" y=\"26.967273\"/>\r\n     <use style=\"fill:#0000ff;stroke:#0000ff;\" x=\"534.673797\" xlink:href=\"#me4d23c8bea\" y=\"26.967273\"/>\r\n     <use style=\"fill:#0000ff;stroke:#0000ff;\" x=\"537.732728\" xlink:href=\"#me4d23c8bea\" y=\"26.967273\"/>\r\n     <use style=\"fill:#0000ff;stroke:#0000ff;\" x=\"540.791659\" xlink:href=\"#me4d23c8bea\" y=\"26.967273\"/>\r\n     <use style=\"fill:#0000ff;stroke:#0000ff;\" x=\"543.85059\" xlink:href=\"#me4d23c8bea\" y=\"26.967273\"/>\r\n     <use style=\"fill:#0000ff;stroke:#0000ff;\" x=\"546.909521\" xlink:href=\"#me4d23c8bea\" y=\"26.967273\"/>\r\n     <use style=\"fill:#0000ff;stroke:#0000ff;\" x=\"549.968452\" xlink:href=\"#me4d23c8bea\" y=\"26.967273\"/>\r\n     <use style=\"fill:#0000ff;stroke:#0000ff;\" x=\"553.027383\" xlink:href=\"#me4d23c8bea\" y=\"26.967273\"/>\r\n     <use style=\"fill:#0000ff;stroke:#0000ff;\" x=\"556.086314\" xlink:href=\"#me4d23c8bea\" y=\"26.967273\"/>\r\n     <use style=\"fill:#0000ff;stroke:#0000ff;\" x=\"559.145245\" xlink:href=\"#me4d23c8bea\" y=\"26.967273\"/>\r\n     <use style=\"fill:#0000ff;stroke:#0000ff;\" x=\"562.204176\" xlink:href=\"#me4d23c8bea\" y=\"26.967273\"/>\r\n     <use style=\"fill:#0000ff;stroke:#0000ff;\" x=\"565.263107\" xlink:href=\"#me4d23c8bea\" y=\"26.967273\"/>\r\n     <use style=\"fill:#0000ff;stroke:#0000ff;\" x=\"568.322038\" xlink:href=\"#me4d23c8bea\" y=\"26.967273\"/>\r\n     <use style=\"fill:#0000ff;stroke:#0000ff;\" x=\"571.380969\" xlink:href=\"#me4d23c8bea\" y=\"26.967273\"/>\r\n     <use style=\"fill:#0000ff;stroke:#0000ff;\" x=\"574.4399\" xlink:href=\"#me4d23c8bea\" y=\"26.967273\"/>\r\n     <use style=\"fill:#0000ff;stroke:#0000ff;\" x=\"577.498831\" xlink:href=\"#me4d23c8bea\" y=\"26.967273\"/>\r\n     <use style=\"fill:#0000ff;stroke:#0000ff;\" x=\"580.557762\" xlink:href=\"#me4d23c8bea\" y=\"26.967273\"/>\r\n     <use style=\"fill:#0000ff;stroke:#0000ff;\" x=\"583.616693\" xlink:href=\"#me4d23c8bea\" y=\"26.967273\"/>\r\n     <use style=\"fill:#0000ff;stroke:#0000ff;\" x=\"586.675624\" xlink:href=\"#me4d23c8bea\" y=\"26.967273\"/>\r\n     <use style=\"fill:#0000ff;stroke:#0000ff;\" x=\"589.734555\" xlink:href=\"#me4d23c8bea\" y=\"26.967273\"/>\r\n     <use style=\"fill:#0000ff;stroke:#0000ff;\" x=\"592.793486\" xlink:href=\"#me4d23c8bea\" y=\"26.967273\"/>\r\n     <use style=\"fill:#0000ff;stroke:#0000ff;\" x=\"595.852417\" xlink:href=\"#me4d23c8bea\" y=\"26.967273\"/>\r\n     <use style=\"fill:#0000ff;stroke:#0000ff;\" x=\"598.911348\" xlink:href=\"#me4d23c8bea\" y=\"26.967273\"/>\r\n     <use style=\"fill:#0000ff;stroke:#0000ff;\" x=\"601.970279\" xlink:href=\"#me4d23c8bea\" y=\"26.967273\"/>\r\n     <use style=\"fill:#0000ff;stroke:#0000ff;\" x=\"605.02921\" xlink:href=\"#me4d23c8bea\" y=\"26.967273\"/>\r\n     <use style=\"fill:#0000ff;stroke:#0000ff;\" x=\"608.088141\" xlink:href=\"#me4d23c8bea\" y=\"26.967273\"/>\r\n     <use style=\"fill:#0000ff;stroke:#0000ff;\" x=\"611.147072\" xlink:href=\"#me4d23c8bea\" y=\"26.967273\"/>\r\n     <use style=\"fill:#0000ff;stroke:#0000ff;\" x=\"614.206003\" xlink:href=\"#me4d23c8bea\" y=\"26.967273\"/>\r\n     <use style=\"fill:#0000ff;stroke:#0000ff;\" x=\"617.264934\" xlink:href=\"#me4d23c8bea\" y=\"26.967273\"/>\r\n     <use style=\"fill:#0000ff;stroke:#0000ff;\" x=\"620.323865\" xlink:href=\"#me4d23c8bea\" y=\"26.967273\"/>\r\n     <use style=\"fill:#0000ff;stroke:#0000ff;\" x=\"623.382796\" xlink:href=\"#me4d23c8bea\" y=\"26.967273\"/>\r\n     <use style=\"fill:#0000ff;stroke:#0000ff;\" x=\"626.441727\" xlink:href=\"#me4d23c8bea\" y=\"26.967273\"/>\r\n     <use style=\"fill:#0000ff;stroke:#0000ff;\" x=\"629.500658\" xlink:href=\"#me4d23c8bea\" y=\"26.967273\"/>\r\n     <use style=\"fill:#0000ff;stroke:#0000ff;\" x=\"632.559589\" xlink:href=\"#me4d23c8bea\" y=\"26.967273\"/>\r\n     <use style=\"fill:#0000ff;stroke:#0000ff;\" x=\"635.61852\" xlink:href=\"#me4d23c8bea\" y=\"26.967273\"/>\r\n     <use style=\"fill:#0000ff;stroke:#0000ff;\" x=\"638.677451\" xlink:href=\"#me4d23c8bea\" y=\"26.967273\"/>\r\n     <use style=\"fill:#0000ff;stroke:#0000ff;\" x=\"641.736382\" xlink:href=\"#me4d23c8bea\" y=\"26.967273\"/>\r\n     <use style=\"fill:#0000ff;stroke:#0000ff;\" x=\"644.795313\" xlink:href=\"#me4d23c8bea\" y=\"26.967273\"/>\r\n     <use style=\"fill:#0000ff;stroke:#0000ff;\" x=\"647.854244\" xlink:href=\"#me4d23c8bea\" y=\"26.967273\"/>\r\n     <use style=\"fill:#0000ff;stroke:#0000ff;\" x=\"650.913175\" xlink:href=\"#me4d23c8bea\" y=\"26.967273\"/>\r\n     <use style=\"fill:#0000ff;stroke:#0000ff;\" x=\"653.972106\" xlink:href=\"#me4d23c8bea\" y=\"26.967273\"/>\r\n     <use style=\"fill:#0000ff;stroke:#0000ff;\" x=\"657.031037\" xlink:href=\"#me4d23c8bea\" y=\"26.967273\"/>\r\n     <use style=\"fill:#0000ff;stroke:#0000ff;\" x=\"660.089968\" xlink:href=\"#me4d23c8bea\" y=\"26.967273\"/>\r\n     <use style=\"fill:#0000ff;stroke:#0000ff;\" x=\"663.148899\" xlink:href=\"#me4d23c8bea\" y=\"26.967273\"/>\r\n     <use style=\"fill:#0000ff;stroke:#0000ff;\" x=\"666.20783\" xlink:href=\"#me4d23c8bea\" y=\"26.967273\"/>\r\n     <use style=\"fill:#0000ff;stroke:#0000ff;\" x=\"669.266761\" xlink:href=\"#me4d23c8bea\" y=\"26.967273\"/>\r\n    </g>\r\n   </g>\r\n   <g id=\"line2d_18\">\r\n    <path clip-path=\"url(#p2ec3c55c73)\" d=\"M 60.539489 248.476539 \r\nL 66.657351 257.904324 \r\nL 69.716282 261.744156 \r\nL 72.775213 266.35573 \r\nL 75.834144 271.420066 \r\nL 78.893075 277.160937 \r\nL 81.952006 283.908531 \r\nL 85.010937 289.744162 \r\nL 88.069868 292.897071 \r\nL 94.18773 300.678755 \r\nL 97.246661 305.833792 \r\nL 100.305592 310.375255 \r\nL 103.364523 314.357693 \r\nL 106.423454 318.788721 \r\nL 109.482385 323.834477 \r\nL 112.541316 327.627469 \r\nL 115.600247 328.41969 \r\nL 118.659178 332.43977 \r\nL 121.718109 340.39407 \r\nL 124.77704 347.225738 \r\nL 127.835971 351.503066 \r\nL 130.894902 353.933232 \r\nL 133.953833 356.105109 \r\nL 137.012764 358.743783 \r\nL 140.071695 363.638929 \r\nL 143.130626 365.595018 \r\nL 146.189557 365.387831 \r\nL 149.248488 366.09043 \r\nL 152.307419 374.320371 \r\nL 155.36635 378.136765 \r\nL 158.425281 382.818915 \r\nL 164.543143 378.2009 \r\nL 170.661005 393.738243 \r\nL 173.719936 395.803147 \r\nL 176.778867 396.205345 \r\nL 179.837798 393.406864 \r\nL 182.896729 392.993775 \r\nL 185.95566 397.926918 \r\nL 189.014591 401.730484 \r\nL 192.073522 399.329696 \r\nL 195.132453 401.486343 \r\nL 198.191384 399.922418 \r\nL 201.250315 402.298223 \r\nL 204.309247 407.953978 \r\nL 207.368178 412.10661 \r\nL 210.427109 411.365809 \r\nL 213.48604 401.72274 \r\nL 216.544971 397.585522 \r\nL 219.603902 404.239716 \r\nL 222.662833 408.076309 \r\nL 225.721764 411.210508 \r\nL 228.780695 409.14188 \r\nL 231.839626 411.45908 \r\nL 234.898557 412.782848 \r\nL 237.957488 406.889542 \r\nL 241.016419 403.460025 \r\nL 244.07535 403.222288 \r\nL 247.134281 412.014941 \r\nL 250.193212 406.702518 \r\nL 253.252143 413.957756 \r\nL 256.311074 414.844029 \r\nL 259.370005 410.99876 \r\nL 262.428936 403.870098 \r\nL 265.487867 398.321613 \r\nL 268.546798 406.806586 \r\nL 271.605729 417.358845 \r\nL 274.66466 409.904724 \r\nL 277.723591 405.388467 \r\nL 280.782522 407.908069 \r\nL 283.841453 411.063212 \r\nL 286.900384 407.702986 \r\nL 289.959315 414.988141 \r\nL 293.018246 417.041335 \r\nL 299.136108 410.962774 \r\nL 302.195039 413.535191 \r\nL 305.25397 413.140049 \r\nL 308.312901 416.267769 \r\nL 311.371832 422.312727 \r\nL 314.430763 417.079202 \r\nL 317.489694 413.306465 \r\nL 320.548625 410.588482 \r\nL 323.607556 412.54714 \r\nL 326.666487 414.643488 \r\nL 329.725418 412.172402 \r\nL 332.784349 414.588419 \r\nL 335.84328 408.208265 \r\nL 338.902211 410.89149 \r\nL 341.961142 409.77247 \r\nL 345.020073 408.364516 \r\nL 348.079004 407.983095 \r\nL 351.137935 420.577304 \r\nL 354.196866 419.256552 \r\nL 357.255797 407.108644 \r\nL 360.314728 413.046034 \r\nL 363.373659 420.385215 \r\nL 366.432591 417.476224 \r\nL 369.491522 401.47521 \r\nL 372.550453 400.303281 \r\nL 375.609384 407.762392 \r\nL 378.668315 414.575499 \r\nL 381.727246 411.102474 \r\nL 384.786177 409.447476 \r\nL 387.845108 403.826069 \r\nL 390.904039 404.933081 \r\nL 393.96297 413.382533 \r\nL 397.021901 413.9655 \r\nL 400.080832 408.087907 \r\nL 403.139763 395.088149 \r\nL 406.198694 395.062644 \r\nL 409.257625 406.600311 \r\nL 412.316556 409.672106 \r\nL 415.375487 407.218092 \r\nL 418.434418 399.967657 \r\nL 421.493349 400.011667 \r\nL 424.55228 399.882355 \r\nL 427.611211 403.561058 \r\nL 430.670142 399.35453 \r\nL 433.729073 401.778627 \r\nL 436.788004 400.647934 \r\nL 442.905866 396.076945 \r\nL 445.964797 392.78696 \r\nL 449.023728 392.697172 \r\nL 452.082659 395.762078 \r\nL 455.14159 397.138718 \r\nL 458.200521 395.655572 \r\nL 461.259452 391.755067 \r\nL 464.318383 390.036659 \r\nL 467.377314 382.673909 \r\nL 470.436245 378.806989 \r\nL 473.495176 375.560363 \r\nL 476.554107 376.092786 \r\nL 479.613038 377.863302 \r\nL 482.671969 380.359446 \r\nL 485.7309 382.529982 \r\nL 488.789831 385.193566 \r\nL 491.848762 388.295576 \r\nL 494.907693 387.411501 \r\nL 497.966624 380.704062 \r\nL 501.025555 375.01597 \r\nL 504.084486 372.95855 \r\nL 507.143417 372.67267 \r\nL 510.202348 375.240526 \r\nL 513.261279 378.854201 \r\nL 516.32021 379.181429 \r\nL 519.379141 379.317705 \r\nL 522.438072 378.0943 \r\nL 525.497003 373.554363 \r\nL 528.555935 369.714009 \r\nL 531.614866 367.372646 \r\nL 534.673797 367.276397 \r\nL 537.732728 370.513006 \r\nL 540.791659 372.143021 \r\nL 543.85059 370.791328 \r\nL 546.909521 369.232429 \r\nL 549.968452 368.716445 \r\nL 553.027383 366.643406 \r\nL 556.086314 361.594057 \r\nL 559.145245 359.120458 \r\nL 562.204176 356.828614 \r\nL 565.263107 358.75957 \r\nL 568.322038 359.050477 \r\nL 571.380969 355.853577 \r\nL 574.4399 352.099884 \r\nL 577.498831 349.470183 \r\nL 580.557762 349.532177 \r\nL 583.616693 351.594847 \r\nL 586.675624 351.290685 \r\nL 589.734555 350.30094 \r\nL 592.793486 350.406274 \r\nL 595.852417 350.198567 \r\nL 598.911348 349.498555 \r\nL 601.970279 347.967247 \r\nL 605.02921 346.300184 \r\nL 608.088141 343.993038 \r\nL 611.147072 344.149122 \r\nL 614.206003 342.430007 \r\nL 617.264934 339.912155 \r\nL 620.323865 338.483165 \r\nL 623.382796 339.09711 \r\nL 626.441727 338.082456 \r\nL 629.500658 340.052675 \r\nL 632.559589 338.85982 \r\nL 635.61852 336.141391 \r\nL 638.677451 333.573572 \r\nL 641.736382 330.397057 \r\nL 644.795313 330.087199 \r\nL 647.854244 328.705793 \r\nL 650.913175 326.751957 \r\nL 657.031037 323.941747 \r\nL 660.089968 323.345674 \r\nL 663.148899 323.870072 \r\nL 666.20783 324.904535 \r\nL 669.266761 326.106102 \r\nL 669.266761 326.106102 \r\n\" style=\"fill:none;stroke:#ff0000;stroke-linecap:square;stroke-width:1.5;\"/>\r\n    <defs>\r\n     <path d=\"M 0 1 \r\nC 0.265203 1 0.51958 0.894634 0.707107 0.707107 \r\nC 0.894634 0.51958 1 0.265203 1 0 \r\nC 1 -0.265203 0.894634 -0.51958 0.707107 -0.707107 \r\nC 0.51958 -0.894634 0.265203 -1 0 -1 \r\nC -0.265203 -1 -0.51958 -0.894634 -0.707107 -0.707107 \r\nC -0.894634 -0.51958 -1 -0.265203 -1 0 \r\nC -1 0.265203 -0.894634 0.51958 -0.707107 0.707107 \r\nC -0.51958 0.894634 -0.265203 1 0 1 \r\nz\r\n\" id=\"mcf61d52a45\" style=\"stroke:#ff0000;\"/>\r\n    </defs>\r\n    <g clip-path=\"url(#p2ec3c55c73)\">\r\n     <use style=\"fill:#ff0000;stroke:#ff0000;\" x=\"60.539489\" xlink:href=\"#mcf61d52a45\" y=\"248.476539\"/>\r\n     <use style=\"fill:#ff0000;stroke:#ff0000;\" x=\"63.59842\" xlink:href=\"#mcf61d52a45\" y=\"253.273835\"/>\r\n     <use style=\"fill:#ff0000;stroke:#ff0000;\" x=\"66.657351\" xlink:href=\"#mcf61d52a45\" y=\"257.904324\"/>\r\n     <use style=\"fill:#ff0000;stroke:#ff0000;\" x=\"69.716282\" xlink:href=\"#mcf61d52a45\" y=\"261.744156\"/>\r\n     <use style=\"fill:#ff0000;stroke:#ff0000;\" x=\"72.775213\" xlink:href=\"#mcf61d52a45\" y=\"266.35573\"/>\r\n     <use style=\"fill:#ff0000;stroke:#ff0000;\" x=\"75.834144\" xlink:href=\"#mcf61d52a45\" y=\"271.420066\"/>\r\n     <use style=\"fill:#ff0000;stroke:#ff0000;\" x=\"78.893075\" xlink:href=\"#mcf61d52a45\" y=\"277.160937\"/>\r\n     <use style=\"fill:#ff0000;stroke:#ff0000;\" x=\"81.952006\" xlink:href=\"#mcf61d52a45\" y=\"283.908531\"/>\r\n     <use style=\"fill:#ff0000;stroke:#ff0000;\" x=\"85.010937\" xlink:href=\"#mcf61d52a45\" y=\"289.744162\"/>\r\n     <use style=\"fill:#ff0000;stroke:#ff0000;\" x=\"88.069868\" xlink:href=\"#mcf61d52a45\" y=\"292.897071\"/>\r\n     <use style=\"fill:#ff0000;stroke:#ff0000;\" x=\"91.128799\" xlink:href=\"#mcf61d52a45\" y=\"296.830769\"/>\r\n     <use style=\"fill:#ff0000;stroke:#ff0000;\" x=\"94.18773\" xlink:href=\"#mcf61d52a45\" y=\"300.678755\"/>\r\n     <use style=\"fill:#ff0000;stroke:#ff0000;\" x=\"97.246661\" xlink:href=\"#mcf61d52a45\" y=\"305.833792\"/>\r\n     <use style=\"fill:#ff0000;stroke:#ff0000;\" x=\"100.305592\" xlink:href=\"#mcf61d52a45\" y=\"310.375255\"/>\r\n     <use style=\"fill:#ff0000;stroke:#ff0000;\" x=\"103.364523\" xlink:href=\"#mcf61d52a45\" y=\"314.357693\"/>\r\n     <use style=\"fill:#ff0000;stroke:#ff0000;\" x=\"106.423454\" xlink:href=\"#mcf61d52a45\" y=\"318.788721\"/>\r\n     <use style=\"fill:#ff0000;stroke:#ff0000;\" x=\"109.482385\" xlink:href=\"#mcf61d52a45\" y=\"323.834477\"/>\r\n     <use style=\"fill:#ff0000;stroke:#ff0000;\" x=\"112.541316\" xlink:href=\"#mcf61d52a45\" y=\"327.627469\"/>\r\n     <use style=\"fill:#ff0000;stroke:#ff0000;\" x=\"115.600247\" xlink:href=\"#mcf61d52a45\" y=\"328.41969\"/>\r\n     <use style=\"fill:#ff0000;stroke:#ff0000;\" x=\"118.659178\" xlink:href=\"#mcf61d52a45\" y=\"332.43977\"/>\r\n     <use style=\"fill:#ff0000;stroke:#ff0000;\" x=\"121.718109\" xlink:href=\"#mcf61d52a45\" y=\"340.39407\"/>\r\n     <use style=\"fill:#ff0000;stroke:#ff0000;\" x=\"124.77704\" xlink:href=\"#mcf61d52a45\" y=\"347.225738\"/>\r\n     <use style=\"fill:#ff0000;stroke:#ff0000;\" x=\"127.835971\" xlink:href=\"#mcf61d52a45\" y=\"351.503066\"/>\r\n     <use style=\"fill:#ff0000;stroke:#ff0000;\" x=\"130.894902\" xlink:href=\"#mcf61d52a45\" y=\"353.933232\"/>\r\n     <use style=\"fill:#ff0000;stroke:#ff0000;\" x=\"133.953833\" xlink:href=\"#mcf61d52a45\" y=\"356.105109\"/>\r\n     <use style=\"fill:#ff0000;stroke:#ff0000;\" x=\"137.012764\" xlink:href=\"#mcf61d52a45\" y=\"358.743783\"/>\r\n     <use style=\"fill:#ff0000;stroke:#ff0000;\" x=\"140.071695\" xlink:href=\"#mcf61d52a45\" y=\"363.638929\"/>\r\n     <use style=\"fill:#ff0000;stroke:#ff0000;\" x=\"143.130626\" xlink:href=\"#mcf61d52a45\" y=\"365.595018\"/>\r\n     <use style=\"fill:#ff0000;stroke:#ff0000;\" x=\"146.189557\" xlink:href=\"#mcf61d52a45\" y=\"365.387831\"/>\r\n     <use style=\"fill:#ff0000;stroke:#ff0000;\" x=\"149.248488\" xlink:href=\"#mcf61d52a45\" y=\"366.09043\"/>\r\n     <use style=\"fill:#ff0000;stroke:#ff0000;\" x=\"152.307419\" xlink:href=\"#mcf61d52a45\" y=\"374.320371\"/>\r\n     <use style=\"fill:#ff0000;stroke:#ff0000;\" x=\"155.36635\" xlink:href=\"#mcf61d52a45\" y=\"378.136765\"/>\r\n     <use style=\"fill:#ff0000;stroke:#ff0000;\" x=\"158.425281\" xlink:href=\"#mcf61d52a45\" y=\"382.818915\"/>\r\n     <use style=\"fill:#ff0000;stroke:#ff0000;\" x=\"161.484212\" xlink:href=\"#mcf61d52a45\" y=\"380.449217\"/>\r\n     <use style=\"fill:#ff0000;stroke:#ff0000;\" x=\"164.543143\" xlink:href=\"#mcf61d52a45\" y=\"378.2009\"/>\r\n     <use style=\"fill:#ff0000;stroke:#ff0000;\" x=\"167.602074\" xlink:href=\"#mcf61d52a45\" y=\"385.901341\"/>\r\n     <use style=\"fill:#ff0000;stroke:#ff0000;\" x=\"170.661005\" xlink:href=\"#mcf61d52a45\" y=\"393.738243\"/>\r\n     <use style=\"fill:#ff0000;stroke:#ff0000;\" x=\"173.719936\" xlink:href=\"#mcf61d52a45\" y=\"395.803147\"/>\r\n     <use style=\"fill:#ff0000;stroke:#ff0000;\" x=\"176.778867\" xlink:href=\"#mcf61d52a45\" y=\"396.205345\"/>\r\n     <use style=\"fill:#ff0000;stroke:#ff0000;\" x=\"179.837798\" xlink:href=\"#mcf61d52a45\" y=\"393.406864\"/>\r\n     <use style=\"fill:#ff0000;stroke:#ff0000;\" x=\"182.896729\" xlink:href=\"#mcf61d52a45\" y=\"392.993775\"/>\r\n     <use style=\"fill:#ff0000;stroke:#ff0000;\" x=\"185.95566\" xlink:href=\"#mcf61d52a45\" y=\"397.926918\"/>\r\n     <use style=\"fill:#ff0000;stroke:#ff0000;\" x=\"189.014591\" xlink:href=\"#mcf61d52a45\" y=\"401.730484\"/>\r\n     <use style=\"fill:#ff0000;stroke:#ff0000;\" x=\"192.073522\" xlink:href=\"#mcf61d52a45\" y=\"399.329696\"/>\r\n     <use style=\"fill:#ff0000;stroke:#ff0000;\" x=\"195.132453\" xlink:href=\"#mcf61d52a45\" y=\"401.486343\"/>\r\n     <use style=\"fill:#ff0000;stroke:#ff0000;\" x=\"198.191384\" xlink:href=\"#mcf61d52a45\" y=\"399.922418\"/>\r\n     <use style=\"fill:#ff0000;stroke:#ff0000;\" x=\"201.250315\" xlink:href=\"#mcf61d52a45\" y=\"402.298223\"/>\r\n     <use style=\"fill:#ff0000;stroke:#ff0000;\" x=\"204.309247\" xlink:href=\"#mcf61d52a45\" y=\"407.953978\"/>\r\n     <use style=\"fill:#ff0000;stroke:#ff0000;\" x=\"207.368178\" xlink:href=\"#mcf61d52a45\" y=\"412.10661\"/>\r\n     <use style=\"fill:#ff0000;stroke:#ff0000;\" x=\"210.427109\" xlink:href=\"#mcf61d52a45\" y=\"411.365809\"/>\r\n     <use style=\"fill:#ff0000;stroke:#ff0000;\" x=\"213.48604\" xlink:href=\"#mcf61d52a45\" y=\"401.72274\"/>\r\n     <use style=\"fill:#ff0000;stroke:#ff0000;\" x=\"216.544971\" xlink:href=\"#mcf61d52a45\" y=\"397.585522\"/>\r\n     <use style=\"fill:#ff0000;stroke:#ff0000;\" x=\"219.603902\" xlink:href=\"#mcf61d52a45\" y=\"404.239716\"/>\r\n     <use style=\"fill:#ff0000;stroke:#ff0000;\" x=\"222.662833\" xlink:href=\"#mcf61d52a45\" y=\"408.076309\"/>\r\n     <use style=\"fill:#ff0000;stroke:#ff0000;\" x=\"225.721764\" xlink:href=\"#mcf61d52a45\" y=\"411.210508\"/>\r\n     <use style=\"fill:#ff0000;stroke:#ff0000;\" x=\"228.780695\" xlink:href=\"#mcf61d52a45\" y=\"409.14188\"/>\r\n     <use style=\"fill:#ff0000;stroke:#ff0000;\" x=\"231.839626\" xlink:href=\"#mcf61d52a45\" y=\"411.45908\"/>\r\n     <use style=\"fill:#ff0000;stroke:#ff0000;\" x=\"234.898557\" xlink:href=\"#mcf61d52a45\" y=\"412.782848\"/>\r\n     <use style=\"fill:#ff0000;stroke:#ff0000;\" x=\"237.957488\" xlink:href=\"#mcf61d52a45\" y=\"406.889542\"/>\r\n     <use style=\"fill:#ff0000;stroke:#ff0000;\" x=\"241.016419\" xlink:href=\"#mcf61d52a45\" y=\"403.460025\"/>\r\n     <use style=\"fill:#ff0000;stroke:#ff0000;\" x=\"244.07535\" xlink:href=\"#mcf61d52a45\" y=\"403.222288\"/>\r\n     <use style=\"fill:#ff0000;stroke:#ff0000;\" x=\"247.134281\" xlink:href=\"#mcf61d52a45\" y=\"412.014941\"/>\r\n     <use style=\"fill:#ff0000;stroke:#ff0000;\" x=\"250.193212\" xlink:href=\"#mcf61d52a45\" y=\"406.702518\"/>\r\n     <use style=\"fill:#ff0000;stroke:#ff0000;\" x=\"253.252143\" xlink:href=\"#mcf61d52a45\" y=\"413.957756\"/>\r\n     <use style=\"fill:#ff0000;stroke:#ff0000;\" x=\"256.311074\" xlink:href=\"#mcf61d52a45\" y=\"414.844029\"/>\r\n     <use style=\"fill:#ff0000;stroke:#ff0000;\" x=\"259.370005\" xlink:href=\"#mcf61d52a45\" y=\"410.99876\"/>\r\n     <use style=\"fill:#ff0000;stroke:#ff0000;\" x=\"262.428936\" xlink:href=\"#mcf61d52a45\" y=\"403.870098\"/>\r\n     <use style=\"fill:#ff0000;stroke:#ff0000;\" x=\"265.487867\" xlink:href=\"#mcf61d52a45\" y=\"398.321613\"/>\r\n     <use style=\"fill:#ff0000;stroke:#ff0000;\" x=\"268.546798\" xlink:href=\"#mcf61d52a45\" y=\"406.806586\"/>\r\n     <use style=\"fill:#ff0000;stroke:#ff0000;\" x=\"271.605729\" xlink:href=\"#mcf61d52a45\" y=\"417.358845\"/>\r\n     <use style=\"fill:#ff0000;stroke:#ff0000;\" x=\"274.66466\" xlink:href=\"#mcf61d52a45\" y=\"409.904724\"/>\r\n     <use style=\"fill:#ff0000;stroke:#ff0000;\" x=\"277.723591\" xlink:href=\"#mcf61d52a45\" y=\"405.388467\"/>\r\n     <use style=\"fill:#ff0000;stroke:#ff0000;\" x=\"280.782522\" xlink:href=\"#mcf61d52a45\" y=\"407.908069\"/>\r\n     <use style=\"fill:#ff0000;stroke:#ff0000;\" x=\"283.841453\" xlink:href=\"#mcf61d52a45\" y=\"411.063212\"/>\r\n     <use style=\"fill:#ff0000;stroke:#ff0000;\" x=\"286.900384\" xlink:href=\"#mcf61d52a45\" y=\"407.702986\"/>\r\n     <use style=\"fill:#ff0000;stroke:#ff0000;\" x=\"289.959315\" xlink:href=\"#mcf61d52a45\" y=\"414.988141\"/>\r\n     <use style=\"fill:#ff0000;stroke:#ff0000;\" x=\"293.018246\" xlink:href=\"#mcf61d52a45\" y=\"417.041335\"/>\r\n     <use style=\"fill:#ff0000;stroke:#ff0000;\" x=\"296.077177\" xlink:href=\"#mcf61d52a45\" y=\"413.965984\"/>\r\n     <use style=\"fill:#ff0000;stroke:#ff0000;\" x=\"299.136108\" xlink:href=\"#mcf61d52a45\" y=\"410.962774\"/>\r\n     <use style=\"fill:#ff0000;stroke:#ff0000;\" x=\"302.195039\" xlink:href=\"#mcf61d52a45\" y=\"413.535191\"/>\r\n     <use style=\"fill:#ff0000;stroke:#ff0000;\" x=\"305.25397\" xlink:href=\"#mcf61d52a45\" y=\"413.140049\"/>\r\n     <use style=\"fill:#ff0000;stroke:#ff0000;\" x=\"308.312901\" xlink:href=\"#mcf61d52a45\" y=\"416.267769\"/>\r\n     <use style=\"fill:#ff0000;stroke:#ff0000;\" x=\"311.371832\" xlink:href=\"#mcf61d52a45\" y=\"422.312727\"/>\r\n     <use style=\"fill:#ff0000;stroke:#ff0000;\" x=\"314.430763\" xlink:href=\"#mcf61d52a45\" y=\"417.079202\"/>\r\n     <use style=\"fill:#ff0000;stroke:#ff0000;\" x=\"317.489694\" xlink:href=\"#mcf61d52a45\" y=\"413.306465\"/>\r\n     <use style=\"fill:#ff0000;stroke:#ff0000;\" x=\"320.548625\" xlink:href=\"#mcf61d52a45\" y=\"410.588482\"/>\r\n     <use style=\"fill:#ff0000;stroke:#ff0000;\" x=\"323.607556\" xlink:href=\"#mcf61d52a45\" y=\"412.54714\"/>\r\n     <use style=\"fill:#ff0000;stroke:#ff0000;\" x=\"326.666487\" xlink:href=\"#mcf61d52a45\" y=\"414.643488\"/>\r\n     <use style=\"fill:#ff0000;stroke:#ff0000;\" x=\"329.725418\" xlink:href=\"#mcf61d52a45\" y=\"412.172402\"/>\r\n     <use style=\"fill:#ff0000;stroke:#ff0000;\" x=\"332.784349\" xlink:href=\"#mcf61d52a45\" y=\"414.588419\"/>\r\n     <use style=\"fill:#ff0000;stroke:#ff0000;\" x=\"335.84328\" xlink:href=\"#mcf61d52a45\" y=\"408.208265\"/>\r\n     <use style=\"fill:#ff0000;stroke:#ff0000;\" x=\"338.902211\" xlink:href=\"#mcf61d52a45\" y=\"410.89149\"/>\r\n     <use style=\"fill:#ff0000;stroke:#ff0000;\" x=\"341.961142\" xlink:href=\"#mcf61d52a45\" y=\"409.77247\"/>\r\n     <use style=\"fill:#ff0000;stroke:#ff0000;\" x=\"345.020073\" xlink:href=\"#mcf61d52a45\" y=\"408.364516\"/>\r\n     <use style=\"fill:#ff0000;stroke:#ff0000;\" x=\"348.079004\" xlink:href=\"#mcf61d52a45\" y=\"407.983095\"/>\r\n     <use style=\"fill:#ff0000;stroke:#ff0000;\" x=\"351.137935\" xlink:href=\"#mcf61d52a45\" y=\"420.577304\"/>\r\n     <use style=\"fill:#ff0000;stroke:#ff0000;\" x=\"354.196866\" xlink:href=\"#mcf61d52a45\" y=\"419.256552\"/>\r\n     <use style=\"fill:#ff0000;stroke:#ff0000;\" x=\"357.255797\" xlink:href=\"#mcf61d52a45\" y=\"407.108644\"/>\r\n     <use style=\"fill:#ff0000;stroke:#ff0000;\" x=\"360.314728\" xlink:href=\"#mcf61d52a45\" y=\"413.046034\"/>\r\n     <use style=\"fill:#ff0000;stroke:#ff0000;\" x=\"363.373659\" xlink:href=\"#mcf61d52a45\" y=\"420.385215\"/>\r\n     <use style=\"fill:#ff0000;stroke:#ff0000;\" x=\"366.432591\" xlink:href=\"#mcf61d52a45\" y=\"417.476224\"/>\r\n     <use style=\"fill:#ff0000;stroke:#ff0000;\" x=\"369.491522\" xlink:href=\"#mcf61d52a45\" y=\"401.47521\"/>\r\n     <use style=\"fill:#ff0000;stroke:#ff0000;\" x=\"372.550453\" xlink:href=\"#mcf61d52a45\" y=\"400.303281\"/>\r\n     <use style=\"fill:#ff0000;stroke:#ff0000;\" x=\"375.609384\" xlink:href=\"#mcf61d52a45\" y=\"407.762392\"/>\r\n     <use style=\"fill:#ff0000;stroke:#ff0000;\" x=\"378.668315\" xlink:href=\"#mcf61d52a45\" y=\"414.575499\"/>\r\n     <use style=\"fill:#ff0000;stroke:#ff0000;\" x=\"381.727246\" xlink:href=\"#mcf61d52a45\" y=\"411.102474\"/>\r\n     <use style=\"fill:#ff0000;stroke:#ff0000;\" x=\"384.786177\" xlink:href=\"#mcf61d52a45\" y=\"409.447476\"/>\r\n     <use style=\"fill:#ff0000;stroke:#ff0000;\" x=\"387.845108\" xlink:href=\"#mcf61d52a45\" y=\"403.826069\"/>\r\n     <use style=\"fill:#ff0000;stroke:#ff0000;\" x=\"390.904039\" xlink:href=\"#mcf61d52a45\" y=\"404.933081\"/>\r\n     <use style=\"fill:#ff0000;stroke:#ff0000;\" x=\"393.96297\" xlink:href=\"#mcf61d52a45\" y=\"413.382533\"/>\r\n     <use style=\"fill:#ff0000;stroke:#ff0000;\" x=\"397.021901\" xlink:href=\"#mcf61d52a45\" y=\"413.9655\"/>\r\n     <use style=\"fill:#ff0000;stroke:#ff0000;\" x=\"400.080832\" xlink:href=\"#mcf61d52a45\" y=\"408.087907\"/>\r\n     <use style=\"fill:#ff0000;stroke:#ff0000;\" x=\"403.139763\" xlink:href=\"#mcf61d52a45\" y=\"395.088149\"/>\r\n     <use style=\"fill:#ff0000;stroke:#ff0000;\" x=\"406.198694\" xlink:href=\"#mcf61d52a45\" y=\"395.062644\"/>\r\n     <use style=\"fill:#ff0000;stroke:#ff0000;\" x=\"409.257625\" xlink:href=\"#mcf61d52a45\" y=\"406.600311\"/>\r\n     <use style=\"fill:#ff0000;stroke:#ff0000;\" x=\"412.316556\" xlink:href=\"#mcf61d52a45\" y=\"409.672106\"/>\r\n     <use style=\"fill:#ff0000;stroke:#ff0000;\" x=\"415.375487\" xlink:href=\"#mcf61d52a45\" y=\"407.218092\"/>\r\n     <use style=\"fill:#ff0000;stroke:#ff0000;\" x=\"418.434418\" xlink:href=\"#mcf61d52a45\" y=\"399.967657\"/>\r\n     <use style=\"fill:#ff0000;stroke:#ff0000;\" x=\"421.493349\" xlink:href=\"#mcf61d52a45\" y=\"400.011667\"/>\r\n     <use style=\"fill:#ff0000;stroke:#ff0000;\" x=\"424.55228\" xlink:href=\"#mcf61d52a45\" y=\"399.882355\"/>\r\n     <use style=\"fill:#ff0000;stroke:#ff0000;\" x=\"427.611211\" xlink:href=\"#mcf61d52a45\" y=\"403.561058\"/>\r\n     <use style=\"fill:#ff0000;stroke:#ff0000;\" x=\"430.670142\" xlink:href=\"#mcf61d52a45\" y=\"399.35453\"/>\r\n     <use style=\"fill:#ff0000;stroke:#ff0000;\" x=\"433.729073\" xlink:href=\"#mcf61d52a45\" y=\"401.778627\"/>\r\n     <use style=\"fill:#ff0000;stroke:#ff0000;\" x=\"436.788004\" xlink:href=\"#mcf61d52a45\" y=\"400.647934\"/>\r\n     <use style=\"fill:#ff0000;stroke:#ff0000;\" x=\"439.846935\" xlink:href=\"#mcf61d52a45\" y=\"398.430019\"/>\r\n     <use style=\"fill:#ff0000;stroke:#ff0000;\" x=\"442.905866\" xlink:href=\"#mcf61d52a45\" y=\"396.076945\"/>\r\n     <use style=\"fill:#ff0000;stroke:#ff0000;\" x=\"445.964797\" xlink:href=\"#mcf61d52a45\" y=\"392.78696\"/>\r\n     <use style=\"fill:#ff0000;stroke:#ff0000;\" x=\"449.023728\" xlink:href=\"#mcf61d52a45\" y=\"392.697172\"/>\r\n     <use style=\"fill:#ff0000;stroke:#ff0000;\" x=\"452.082659\" xlink:href=\"#mcf61d52a45\" y=\"395.762078\"/>\r\n     <use style=\"fill:#ff0000;stroke:#ff0000;\" x=\"455.14159\" xlink:href=\"#mcf61d52a45\" y=\"397.138718\"/>\r\n     <use style=\"fill:#ff0000;stroke:#ff0000;\" x=\"458.200521\" xlink:href=\"#mcf61d52a45\" y=\"395.655572\"/>\r\n     <use style=\"fill:#ff0000;stroke:#ff0000;\" x=\"461.259452\" xlink:href=\"#mcf61d52a45\" y=\"391.755067\"/>\r\n     <use style=\"fill:#ff0000;stroke:#ff0000;\" x=\"464.318383\" xlink:href=\"#mcf61d52a45\" y=\"390.036659\"/>\r\n     <use style=\"fill:#ff0000;stroke:#ff0000;\" x=\"467.377314\" xlink:href=\"#mcf61d52a45\" y=\"382.673909\"/>\r\n     <use style=\"fill:#ff0000;stroke:#ff0000;\" x=\"470.436245\" xlink:href=\"#mcf61d52a45\" y=\"378.806989\"/>\r\n     <use style=\"fill:#ff0000;stroke:#ff0000;\" x=\"473.495176\" xlink:href=\"#mcf61d52a45\" y=\"375.560363\"/>\r\n     <use style=\"fill:#ff0000;stroke:#ff0000;\" x=\"476.554107\" xlink:href=\"#mcf61d52a45\" y=\"376.092786\"/>\r\n     <use style=\"fill:#ff0000;stroke:#ff0000;\" x=\"479.613038\" xlink:href=\"#mcf61d52a45\" y=\"377.863302\"/>\r\n     <use style=\"fill:#ff0000;stroke:#ff0000;\" x=\"482.671969\" xlink:href=\"#mcf61d52a45\" y=\"380.359446\"/>\r\n     <use style=\"fill:#ff0000;stroke:#ff0000;\" x=\"485.7309\" xlink:href=\"#mcf61d52a45\" y=\"382.529982\"/>\r\n     <use style=\"fill:#ff0000;stroke:#ff0000;\" x=\"488.789831\" xlink:href=\"#mcf61d52a45\" y=\"385.193566\"/>\r\n     <use style=\"fill:#ff0000;stroke:#ff0000;\" x=\"491.848762\" xlink:href=\"#mcf61d52a45\" y=\"388.295576\"/>\r\n     <use style=\"fill:#ff0000;stroke:#ff0000;\" x=\"494.907693\" xlink:href=\"#mcf61d52a45\" y=\"387.411501\"/>\r\n     <use style=\"fill:#ff0000;stroke:#ff0000;\" x=\"497.966624\" xlink:href=\"#mcf61d52a45\" y=\"380.704062\"/>\r\n     <use style=\"fill:#ff0000;stroke:#ff0000;\" x=\"501.025555\" xlink:href=\"#mcf61d52a45\" y=\"375.01597\"/>\r\n     <use style=\"fill:#ff0000;stroke:#ff0000;\" x=\"504.084486\" xlink:href=\"#mcf61d52a45\" y=\"372.95855\"/>\r\n     <use style=\"fill:#ff0000;stroke:#ff0000;\" x=\"507.143417\" xlink:href=\"#mcf61d52a45\" y=\"372.67267\"/>\r\n     <use style=\"fill:#ff0000;stroke:#ff0000;\" x=\"510.202348\" xlink:href=\"#mcf61d52a45\" y=\"375.240526\"/>\r\n     <use style=\"fill:#ff0000;stroke:#ff0000;\" x=\"513.261279\" xlink:href=\"#mcf61d52a45\" y=\"378.854201\"/>\r\n     <use style=\"fill:#ff0000;stroke:#ff0000;\" x=\"516.32021\" xlink:href=\"#mcf61d52a45\" y=\"379.181429\"/>\r\n     <use style=\"fill:#ff0000;stroke:#ff0000;\" x=\"519.379141\" xlink:href=\"#mcf61d52a45\" y=\"379.317705\"/>\r\n     <use style=\"fill:#ff0000;stroke:#ff0000;\" x=\"522.438072\" xlink:href=\"#mcf61d52a45\" y=\"378.0943\"/>\r\n     <use style=\"fill:#ff0000;stroke:#ff0000;\" x=\"525.497003\" xlink:href=\"#mcf61d52a45\" y=\"373.554363\"/>\r\n     <use style=\"fill:#ff0000;stroke:#ff0000;\" x=\"528.555935\" xlink:href=\"#mcf61d52a45\" y=\"369.714009\"/>\r\n     <use style=\"fill:#ff0000;stroke:#ff0000;\" x=\"531.614866\" xlink:href=\"#mcf61d52a45\" y=\"367.372646\"/>\r\n     <use style=\"fill:#ff0000;stroke:#ff0000;\" x=\"534.673797\" xlink:href=\"#mcf61d52a45\" y=\"367.276397\"/>\r\n     <use style=\"fill:#ff0000;stroke:#ff0000;\" x=\"537.732728\" xlink:href=\"#mcf61d52a45\" y=\"370.513006\"/>\r\n     <use style=\"fill:#ff0000;stroke:#ff0000;\" x=\"540.791659\" xlink:href=\"#mcf61d52a45\" y=\"372.143021\"/>\r\n     <use style=\"fill:#ff0000;stroke:#ff0000;\" x=\"543.85059\" xlink:href=\"#mcf61d52a45\" y=\"370.791328\"/>\r\n     <use style=\"fill:#ff0000;stroke:#ff0000;\" x=\"546.909521\" xlink:href=\"#mcf61d52a45\" y=\"369.232429\"/>\r\n     <use style=\"fill:#ff0000;stroke:#ff0000;\" x=\"549.968452\" xlink:href=\"#mcf61d52a45\" y=\"368.716445\"/>\r\n     <use style=\"fill:#ff0000;stroke:#ff0000;\" x=\"553.027383\" xlink:href=\"#mcf61d52a45\" y=\"366.643406\"/>\r\n     <use style=\"fill:#ff0000;stroke:#ff0000;\" x=\"556.086314\" xlink:href=\"#mcf61d52a45\" y=\"361.594057\"/>\r\n     <use style=\"fill:#ff0000;stroke:#ff0000;\" x=\"559.145245\" xlink:href=\"#mcf61d52a45\" y=\"359.120458\"/>\r\n     <use style=\"fill:#ff0000;stroke:#ff0000;\" x=\"562.204176\" xlink:href=\"#mcf61d52a45\" y=\"356.828614\"/>\r\n     <use style=\"fill:#ff0000;stroke:#ff0000;\" x=\"565.263107\" xlink:href=\"#mcf61d52a45\" y=\"358.75957\"/>\r\n     <use style=\"fill:#ff0000;stroke:#ff0000;\" x=\"568.322038\" xlink:href=\"#mcf61d52a45\" y=\"359.050477\"/>\r\n     <use style=\"fill:#ff0000;stroke:#ff0000;\" x=\"571.380969\" xlink:href=\"#mcf61d52a45\" y=\"355.853577\"/>\r\n     <use style=\"fill:#ff0000;stroke:#ff0000;\" x=\"574.4399\" xlink:href=\"#mcf61d52a45\" y=\"352.099884\"/>\r\n     <use style=\"fill:#ff0000;stroke:#ff0000;\" x=\"577.498831\" xlink:href=\"#mcf61d52a45\" y=\"349.470183\"/>\r\n     <use style=\"fill:#ff0000;stroke:#ff0000;\" x=\"580.557762\" xlink:href=\"#mcf61d52a45\" y=\"349.532177\"/>\r\n     <use style=\"fill:#ff0000;stroke:#ff0000;\" x=\"583.616693\" xlink:href=\"#mcf61d52a45\" y=\"351.594847\"/>\r\n     <use style=\"fill:#ff0000;stroke:#ff0000;\" x=\"586.675624\" xlink:href=\"#mcf61d52a45\" y=\"351.290685\"/>\r\n     <use style=\"fill:#ff0000;stroke:#ff0000;\" x=\"589.734555\" xlink:href=\"#mcf61d52a45\" y=\"350.30094\"/>\r\n     <use style=\"fill:#ff0000;stroke:#ff0000;\" x=\"592.793486\" xlink:href=\"#mcf61d52a45\" y=\"350.406274\"/>\r\n     <use style=\"fill:#ff0000;stroke:#ff0000;\" x=\"595.852417\" xlink:href=\"#mcf61d52a45\" y=\"350.198567\"/>\r\n     <use style=\"fill:#ff0000;stroke:#ff0000;\" x=\"598.911348\" xlink:href=\"#mcf61d52a45\" y=\"349.498555\"/>\r\n     <use style=\"fill:#ff0000;stroke:#ff0000;\" x=\"601.970279\" xlink:href=\"#mcf61d52a45\" y=\"347.967247\"/>\r\n     <use style=\"fill:#ff0000;stroke:#ff0000;\" x=\"605.02921\" xlink:href=\"#mcf61d52a45\" y=\"346.300184\"/>\r\n     <use style=\"fill:#ff0000;stroke:#ff0000;\" x=\"608.088141\" xlink:href=\"#mcf61d52a45\" y=\"343.993038\"/>\r\n     <use style=\"fill:#ff0000;stroke:#ff0000;\" x=\"611.147072\" xlink:href=\"#mcf61d52a45\" y=\"344.149122\"/>\r\n     <use style=\"fill:#ff0000;stroke:#ff0000;\" x=\"614.206003\" xlink:href=\"#mcf61d52a45\" y=\"342.430007\"/>\r\n     <use style=\"fill:#ff0000;stroke:#ff0000;\" x=\"617.264934\" xlink:href=\"#mcf61d52a45\" y=\"339.912155\"/>\r\n     <use style=\"fill:#ff0000;stroke:#ff0000;\" x=\"620.323865\" xlink:href=\"#mcf61d52a45\" y=\"338.483165\"/>\r\n     <use style=\"fill:#ff0000;stroke:#ff0000;\" x=\"623.382796\" xlink:href=\"#mcf61d52a45\" y=\"339.09711\"/>\r\n     <use style=\"fill:#ff0000;stroke:#ff0000;\" x=\"626.441727\" xlink:href=\"#mcf61d52a45\" y=\"338.082456\"/>\r\n     <use style=\"fill:#ff0000;stroke:#ff0000;\" x=\"629.500658\" xlink:href=\"#mcf61d52a45\" y=\"340.052675\"/>\r\n     <use style=\"fill:#ff0000;stroke:#ff0000;\" x=\"632.559589\" xlink:href=\"#mcf61d52a45\" y=\"338.85982\"/>\r\n     <use style=\"fill:#ff0000;stroke:#ff0000;\" x=\"635.61852\" xlink:href=\"#mcf61d52a45\" y=\"336.141391\"/>\r\n     <use style=\"fill:#ff0000;stroke:#ff0000;\" x=\"638.677451\" xlink:href=\"#mcf61d52a45\" y=\"333.573572\"/>\r\n     <use style=\"fill:#ff0000;stroke:#ff0000;\" x=\"641.736382\" xlink:href=\"#mcf61d52a45\" y=\"330.397057\"/>\r\n     <use style=\"fill:#ff0000;stroke:#ff0000;\" x=\"644.795313\" xlink:href=\"#mcf61d52a45\" y=\"330.087199\"/>\r\n     <use style=\"fill:#ff0000;stroke:#ff0000;\" x=\"647.854244\" xlink:href=\"#mcf61d52a45\" y=\"328.705793\"/>\r\n     <use style=\"fill:#ff0000;stroke:#ff0000;\" x=\"650.913175\" xlink:href=\"#mcf61d52a45\" y=\"326.751957\"/>\r\n     <use style=\"fill:#ff0000;stroke:#ff0000;\" x=\"653.972106\" xlink:href=\"#mcf61d52a45\" y=\"325.316153\"/>\r\n     <use style=\"fill:#ff0000;stroke:#ff0000;\" x=\"657.031037\" xlink:href=\"#mcf61d52a45\" y=\"323.941747\"/>\r\n     <use style=\"fill:#ff0000;stroke:#ff0000;\" x=\"660.089968\" xlink:href=\"#mcf61d52a45\" y=\"323.345674\"/>\r\n     <use style=\"fill:#ff0000;stroke:#ff0000;\" x=\"663.148899\" xlink:href=\"#mcf61d52a45\" y=\"323.870072\"/>\r\n     <use style=\"fill:#ff0000;stroke:#ff0000;\" x=\"666.20783\" xlink:href=\"#mcf61d52a45\" y=\"324.904535\"/>\r\n     <use style=\"fill:#ff0000;stroke:#ff0000;\" x=\"669.266761\" xlink:href=\"#mcf61d52a45\" y=\"326.106102\"/>\r\n    </g>\r\n   </g>\r\n   <g id=\"patch_3\">\r\n    <path d=\"M 30.103125 442.08 \r\nL 30.103125 7.2 \r\n\" style=\"fill:none;stroke:#000000;stroke-linecap:square;stroke-linejoin:miter;stroke-width:0.8;\"/>\r\n   </g>\r\n   <g id=\"patch_4\">\r\n    <path d=\"M 699.703125 442.08 \r\nL 699.703125 7.2 \r\n\" style=\"fill:none;stroke:#000000;stroke-linecap:square;stroke-linejoin:miter;stroke-width:0.8;\"/>\r\n   </g>\r\n   <g id=\"patch_5\">\r\n    <path d=\"M 30.103125 442.08 \r\nL 699.703125 442.08 \r\n\" style=\"fill:none;stroke:#000000;stroke-linecap:square;stroke-linejoin:miter;stroke-width:0.8;\"/>\r\n   </g>\r\n   <g id=\"patch_6\">\r\n    <path d=\"M 30.103125 7.2 \r\nL 699.703125 7.2 \r\n\" style=\"fill:none;stroke:#000000;stroke-linecap:square;stroke-linejoin:miter;stroke-width:0.8;\"/>\r\n   </g>\r\n   <g id=\"legend_1\">\r\n    <g id=\"patch_7\">\r\n     <path d=\"M 37.103125 44.834375 \r\nL 114.221875 44.834375 \r\nQ 116.221875 44.834375 116.221875 42.834375 \r\nL 116.221875 14.2 \r\nQ 116.221875 12.2 114.221875 12.2 \r\nL 37.103125 12.2 \r\nQ 35.103125 12.2 35.103125 14.2 \r\nL 35.103125 42.834375 \r\nQ 35.103125 44.834375 37.103125 44.834375 \r\nz\r\n\" style=\"fill:#ffffff;opacity:0.8;stroke:#cccccc;stroke-linejoin:miter;\"/>\r\n    </g>\r\n    <g id=\"line2d_19\">\r\n     <path d=\"M 39.103125 20.298437 \r\nL 59.103125 20.298437 \r\n\" style=\"fill:none;stroke:#0000ff;stroke-linecap:square;stroke-width:1.5;\"/>\r\n    </g>\r\n    <g id=\"line2d_20\">\r\n     <g>\r\n      <use style=\"fill:#0000ff;stroke:#0000ff;\" x=\"49.103125\" xlink:href=\"#me4d23c8bea\" y=\"20.298437\"/>\r\n     </g>\r\n    </g>\r\n    <g id=\"text_17\">\r\n     <!-- accuracy -->\r\n     <g transform=\"translate(67.103125 23.798437)scale(0.1 -0.1)\">\r\n      <defs>\r\n       <path d=\"M 34.28125 27.484375 \r\nQ 23.390625 27.484375 19.1875 25 \r\nQ 14.984375 22.515625 14.984375 16.5 \r\nQ 14.984375 11.71875 18.140625 8.90625 \r\nQ 21.296875 6.109375 26.703125 6.109375 \r\nQ 34.1875 6.109375 38.703125 11.40625 \r\nQ 43.21875 16.703125 43.21875 25.484375 \r\nL 43.21875 27.484375 \r\nz\r\nM 52.203125 31.203125 \r\nL 52.203125 0 \r\nL 43.21875 0 \r\nL 43.21875 8.296875 \r\nQ 40.140625 3.328125 35.546875 0.953125 \r\nQ 30.953125 -1.421875 24.3125 -1.421875 \r\nQ 15.921875 -1.421875 10.953125 3.296875 \r\nQ 6 8.015625 6 15.921875 \r\nQ 6 25.140625 12.171875 29.828125 \r\nQ 18.359375 34.515625 30.609375 34.515625 \r\nL 43.21875 34.515625 \r\nL 43.21875 35.40625 \r\nQ 43.21875 41.609375 39.140625 45 \r\nQ 35.0625 48.390625 27.6875 48.390625 \r\nQ 23 48.390625 18.546875 47.265625 \r\nQ 14.109375 46.140625 10.015625 43.890625 \r\nL 10.015625 52.203125 \r\nQ 14.9375 54.109375 19.578125 55.046875 \r\nQ 24.21875 56 28.609375 56 \r\nQ 40.484375 56 46.34375 49.84375 \r\nQ 52.203125 43.703125 52.203125 31.203125 \r\nz\r\n\" id=\"DejaVuSans-97\"/>\r\n       <path d=\"M 48.78125 52.59375 \r\nL 48.78125 44.1875 \r\nQ 44.96875 46.296875 41.140625 47.34375 \r\nQ 37.3125 48.390625 33.40625 48.390625 \r\nQ 24.65625 48.390625 19.8125 42.84375 \r\nQ 14.984375 37.3125 14.984375 27.296875 \r\nQ 14.984375 17.28125 19.8125 11.734375 \r\nQ 24.65625 6.203125 33.40625 6.203125 \r\nQ 37.3125 6.203125 41.140625 7.25 \r\nQ 44.96875 8.296875 48.78125 10.40625 \r\nL 48.78125 2.09375 \r\nQ 45.015625 0.34375 40.984375 -0.53125 \r\nQ 36.96875 -1.421875 32.421875 -1.421875 \r\nQ 20.0625 -1.421875 12.78125 6.34375 \r\nQ 5.515625 14.109375 5.515625 27.296875 \r\nQ 5.515625 40.671875 12.859375 48.328125 \r\nQ 20.21875 56 33.015625 56 \r\nQ 37.15625 56 41.109375 55.140625 \r\nQ 45.0625 54.296875 48.78125 52.59375 \r\nz\r\n\" id=\"DejaVuSans-99\"/>\r\n       <path d=\"M 8.5 21.578125 \r\nL 8.5 54.6875 \r\nL 17.484375 54.6875 \r\nL 17.484375 21.921875 \r\nQ 17.484375 14.15625 20.5 10.265625 \r\nQ 23.53125 6.390625 29.59375 6.390625 \r\nQ 36.859375 6.390625 41.078125 11.03125 \r\nQ 45.3125 15.671875 45.3125 23.6875 \r\nL 45.3125 54.6875 \r\nL 54.296875 54.6875 \r\nL 54.296875 0 \r\nL 45.3125 0 \r\nL 45.3125 8.40625 \r\nQ 42.046875 3.421875 37.71875 1 \r\nQ 33.40625 -1.421875 27.6875 -1.421875 \r\nQ 18.265625 -1.421875 13.375 4.4375 \r\nQ 8.5 10.296875 8.5 21.578125 \r\nz\r\nM 31.109375 56 \r\nz\r\n\" id=\"DejaVuSans-117\"/>\r\n       <path d=\"M 41.109375 46.296875 \r\nQ 39.59375 47.171875 37.8125 47.578125 \r\nQ 36.03125 48 33.890625 48 \r\nQ 26.265625 48 22.1875 43.046875 \r\nQ 18.109375 38.09375 18.109375 28.8125 \r\nL 18.109375 0 \r\nL 9.078125 0 \r\nL 9.078125 54.6875 \r\nL 18.109375 54.6875 \r\nL 18.109375 46.1875 \r\nQ 20.953125 51.171875 25.484375 53.578125 \r\nQ 30.03125 56 36.53125 56 \r\nQ 37.453125 56 38.578125 55.875 \r\nQ 39.703125 55.765625 41.0625 55.515625 \r\nz\r\n\" id=\"DejaVuSans-114\"/>\r\n       <path d=\"M 32.171875 -5.078125 \r\nQ 28.375 -14.84375 24.75 -17.8125 \r\nQ 21.140625 -20.796875 15.09375 -20.796875 \r\nL 7.90625 -20.796875 \r\nL 7.90625 -13.28125 \r\nL 13.1875 -13.28125 \r\nQ 16.890625 -13.28125 18.9375 -11.515625 \r\nQ 21 -9.765625 23.484375 -3.21875 \r\nL 25.09375 0.875 \r\nL 2.984375 54.6875 \r\nL 12.5 54.6875 \r\nL 29.59375 11.921875 \r\nL 46.6875 54.6875 \r\nL 56.203125 54.6875 \r\nz\r\n\" id=\"DejaVuSans-121\"/>\r\n      </defs>\r\n      <use xlink:href=\"#DejaVuSans-97\"/>\r\n      <use x=\"61.279297\" xlink:href=\"#DejaVuSans-99\"/>\r\n      <use x=\"116.259766\" xlink:href=\"#DejaVuSans-99\"/>\r\n      <use x=\"171.240234\" xlink:href=\"#DejaVuSans-117\"/>\r\n      <use x=\"234.619141\" xlink:href=\"#DejaVuSans-114\"/>\r\n      <use x=\"275.732422\" xlink:href=\"#DejaVuSans-97\"/>\r\n      <use x=\"337.011719\" xlink:href=\"#DejaVuSans-99\"/>\r\n      <use x=\"391.992188\" xlink:href=\"#DejaVuSans-121\"/>\r\n     </g>\r\n    </g>\r\n    <g id=\"line2d_21\">\r\n     <path d=\"M 39.103125 34.976562 \r\nL 59.103125 34.976562 \r\n\" style=\"fill:none;stroke:#ff0000;stroke-linecap:square;stroke-width:1.5;\"/>\r\n    </g>\r\n    <g id=\"line2d_22\">\r\n     <g>\r\n      <use style=\"fill:#ff0000;stroke:#ff0000;\" x=\"49.103125\" xlink:href=\"#mcf61d52a45\" y=\"34.976562\"/>\r\n     </g>\r\n    </g>\r\n    <g id=\"text_18\">\r\n     <!-- val_loss -->\r\n     <g transform=\"translate(67.103125 38.476562)scale(0.1 -0.1)\">\r\n      <defs>\r\n       <path d=\"M 2.984375 54.6875 \r\nL 12.5 54.6875 \r\nL 29.59375 8.796875 \r\nL 46.6875 54.6875 \r\nL 56.203125 54.6875 \r\nL 35.6875 0 \r\nL 23.484375 0 \r\nz\r\n\" id=\"DejaVuSans-118\"/>\r\n       <path d=\"M 9.421875 75.984375 \r\nL 18.40625 75.984375 \r\nL 18.40625 0 \r\nL 9.421875 0 \r\nz\r\n\" id=\"DejaVuSans-108\"/>\r\n       <path d=\"M 50.984375 -16.609375 \r\nL 50.984375 -23.578125 \r\nL -0.984375 -23.578125 \r\nL -0.984375 -16.609375 \r\nz\r\n\" id=\"DejaVuSans-95\"/>\r\n       <path d=\"M 30.609375 48.390625 \r\nQ 23.390625 48.390625 19.1875 42.75 \r\nQ 14.984375 37.109375 14.984375 27.296875 \r\nQ 14.984375 17.484375 19.15625 11.84375 \r\nQ 23.34375 6.203125 30.609375 6.203125 \r\nQ 37.796875 6.203125 41.984375 11.859375 \r\nQ 46.1875 17.53125 46.1875 27.296875 \r\nQ 46.1875 37.015625 41.984375 42.703125 \r\nQ 37.796875 48.390625 30.609375 48.390625 \r\nz\r\nM 30.609375 56 \r\nQ 42.328125 56 49.015625 48.375 \r\nQ 55.71875 40.765625 55.71875 27.296875 \r\nQ 55.71875 13.875 49.015625 6.21875 \r\nQ 42.328125 -1.421875 30.609375 -1.421875 \r\nQ 18.84375 -1.421875 12.171875 6.21875 \r\nQ 5.515625 13.875 5.515625 27.296875 \r\nQ 5.515625 40.765625 12.171875 48.375 \r\nQ 18.84375 56 30.609375 56 \r\nz\r\n\" id=\"DejaVuSans-111\"/>\r\n       <path d=\"M 44.28125 53.078125 \r\nL 44.28125 44.578125 \r\nQ 40.484375 46.53125 36.375 47.5 \r\nQ 32.28125 48.484375 27.875 48.484375 \r\nQ 21.1875 48.484375 17.84375 46.4375 \r\nQ 14.5 44.390625 14.5 40.28125 \r\nQ 14.5 37.15625 16.890625 35.375 \r\nQ 19.28125 33.59375 26.515625 31.984375 \r\nL 29.59375 31.296875 \r\nQ 39.15625 29.25 43.1875 25.515625 \r\nQ 47.21875 21.78125 47.21875 15.09375 \r\nQ 47.21875 7.46875 41.1875 3.015625 \r\nQ 35.15625 -1.421875 24.609375 -1.421875 \r\nQ 20.21875 -1.421875 15.453125 -0.5625 \r\nQ 10.6875 0.296875 5.421875 2 \r\nL 5.421875 11.28125 \r\nQ 10.40625 8.6875 15.234375 7.390625 \r\nQ 20.0625 6.109375 24.8125 6.109375 \r\nQ 31.15625 6.109375 34.5625 8.28125 \r\nQ 37.984375 10.453125 37.984375 14.40625 \r\nQ 37.984375 18.0625 35.515625 20.015625 \r\nQ 33.0625 21.96875 24.703125 23.78125 \r\nL 21.578125 24.515625 \r\nQ 13.234375 26.265625 9.515625 29.90625 \r\nQ 5.8125 33.546875 5.8125 39.890625 \r\nQ 5.8125 47.609375 11.28125 51.796875 \r\nQ 16.75 56 26.8125 56 \r\nQ 31.78125 56 36.171875 55.265625 \r\nQ 40.578125 54.546875 44.28125 53.078125 \r\nz\r\n\" id=\"DejaVuSans-115\"/>\r\n      </defs>\r\n      <use xlink:href=\"#DejaVuSans-118\"/>\r\n      <use x=\"59.179688\" xlink:href=\"#DejaVuSans-97\"/>\r\n      <use x=\"120.458984\" xlink:href=\"#DejaVuSans-108\"/>\r\n      <use x=\"148.242188\" xlink:href=\"#DejaVuSans-95\"/>\r\n      <use x=\"198.242188\" xlink:href=\"#DejaVuSans-108\"/>\r\n      <use x=\"226.025391\" xlink:href=\"#DejaVuSans-111\"/>\r\n      <use x=\"287.207031\" xlink:href=\"#DejaVuSans-115\"/>\r\n      <use x=\"339.306641\" xlink:href=\"#DejaVuSans-115\"/>\r\n     </g>\r\n    </g>\r\n   </g>\r\n  </g>\r\n </g>\r\n <defs>\r\n  <clipPath id=\"p2ec3c55c73\">\r\n   <rect height=\"434.88\" width=\"669.6\" x=\"30.103125\" y=\"7.2\"/>\r\n  </clipPath>\r\n </defs>\r\n</svg>\r\n",
      "text/plain": [
       "<Figure size 864x576 with 1 Axes>"
      ]
     },
     "metadata": {
      "needs_background": "light"
     },
     "output_type": "display_data"
    }
   ],
   "source": [
    "plt.figure(figsize=(12,8))\n",
    "plt.plot(x_len, y_acc, 'bo-', markersize=2, label='accuracy')\n",
    "plt.plot(x_len, y_vloss, 'ro-', markersize=2, label='val_loss')\n",
    "plt.legend()\n",
    "plt.show()"
   ]
  }
 ],
 "metadata": {
  "interpreter": {
   "hash": "b26661d338b6288df508a7ea172ff591d6ed882578e82460ed30bfeb70cfcac3"
  },
  "kernelspec": {
   "display_name": "Python 3.8.8 64-bit ('base': conda)",
   "name": "python3"
  },
  "language_info": {
   "codemirror_mode": {
    "name": "ipython",
    "version": 3
   },
   "file_extension": ".py",
   "mimetype": "text/x-python",
   "name": "python",
   "nbconvert_exporter": "python",
   "pygments_lexer": "ipython3",
   "version": "3.8.8"
  },
  "orig_nbformat": 4
 },
 "nbformat": 4,
 "nbformat_minor": 2
}