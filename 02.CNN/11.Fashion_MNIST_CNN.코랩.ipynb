{
  "nbformat": 4,
  "nbformat_minor": 0,
  "metadata": {
    "colab": {
      "name": "MNIST_CNN.ipynb",
      "provenance": []
    },
    "kernelspec": {
      "name": "python3",
      "display_name": "Python 3"
    },
    "language_info": {
      "name": "python"
    },
    "accelerator": "GPU"
  },
  "cells": [
    {
      "cell_type": "markdown",
      "metadata": {
        "id": "4VtWTb2OndLz"
      },
      "source": [
        "# MNIST 손글씨 - CNN 4\n",
        " - 2 Conv2D layers\n",
        " - 1 Maxpooling2D layer\n",
        " - 1 Dropout(0.25) layer\n",
        " - 1 Fully Connected Network layer (512)\n",
        " - 1 Dropout(0.5) layer\n",
        " - 1 Output layer\n"
      ]
    },
    {
      "cell_type": "code",
      "metadata": {
        "id": "0ql-1StfnV19"
      },
      "source": [
        "import numpy as np\n",
        "import pandas as pd\n",
        "import tensorflow as tf\n",
        "seed=2021\n",
        "np.random.seed(seed)\n",
        "tf.random.set_seed(seed)"
      ],
      "execution_count": 1,
      "outputs": []
    },
    {
      "cell_type": "code",
      "metadata": {
        "colab": {
          "base_uri": "https://localhost:8080/"
        },
        "id": "vjOVH4Bcneza",
        "outputId": "56270e11-d8fb-4bae-dfdc-cfed695c5b42"
      },
      "source": [
        "from tensorflow.keras.datasets import fashion_mnist\n",
        "(X_train,y_train), (X_test, y_test) = fashion_mnist.load_data()"
      ],
      "execution_count": 2,
      "outputs": [
        {
          "output_type": "stream",
          "text": [
            "Downloading data from https://storage.googleapis.com/tensorflow/tf-keras-datasets/train-labels-idx1-ubyte.gz\n",
            "32768/29515 [=================================] - 0s 0us/step\n",
            "Downloading data from https://storage.googleapis.com/tensorflow/tf-keras-datasets/train-images-idx3-ubyte.gz\n",
            "26427392/26421880 [==============================] - 0s 0us/step\n",
            "Downloading data from https://storage.googleapis.com/tensorflow/tf-keras-datasets/t10k-labels-idx1-ubyte.gz\n",
            "8192/5148 [===============================================] - 0s 0us/step\n",
            "Downloading data from https://storage.googleapis.com/tensorflow/tf-keras-datasets/t10k-images-idx3-ubyte.gz\n",
            "4423680/4422102 [==============================] - 0s 0us/step\n"
          ],
          "name": "stdout"
        }
      ]
    },
    {
      "cell_type": "code",
      "metadata": {
        "id": "hA9SHi4untCw"
      },
      "source": [
        "# 0~1 사이의 값으로 정규화\n",
        "X_train = X_train / 255.0\n",
        "X_test = X_test / 255.0"
      ],
      "execution_count": 3,
      "outputs": []
    },
    {
      "cell_type": "code",
      "metadata": {
        "colab": {
          "base_uri": "https://localhost:8080/"
        },
        "id": "z3M_VmrhntnQ",
        "outputId": "83cf8918-6046-463f-ad44-4f92e6e1931d"
      },
      "source": [
        "# 3차원 데이터를 4차원으로 (데이터는 2차원을 3차원으로)\n",
        "X_train = X_train.reshape(-1,28,28,1)    # 28*28=784이므로\n",
        "X_test = X_test.reshape(-1,28,28,1)\n",
        "X_train.shape, X_test.shape"
      ],
      "execution_count": 4,
      "outputs": [
        {
          "output_type": "execute_result",
          "data": {
            "text/plain": [
              "((60000, 28, 28, 1), (10000, 28, 28, 1))"
            ]
          },
          "metadata": {
            "tags": []
          },
          "execution_count": 4
        }
      ]
    },
    {
      "cell_type": "code",
      "metadata": {
        "colab": {
          "base_uri": "https://localhost:8080/"
        },
        "id": "9pTtYgfOnykn",
        "outputId": "63b4a3c8-ce69-44de-f513-0cd255939c1d"
      },
      "source": [
        "# One hot encoding\n",
        "from tensorflow.keras.utils import to_categorical\n",
        "Y_train = to_categorical(y_train)\n",
        "Y_test = to_categorical(y_test)\n",
        "Y_train[0]"
      ],
      "execution_count": 5,
      "outputs": [
        {
          "output_type": "execute_result",
          "data": {
            "text/plain": [
              "array([0., 0., 0., 0., 0., 0., 0., 0., 0., 1.], dtype=float32)"
            ]
          },
          "metadata": {
            "tags": []
          },
          "execution_count": 5
        }
      ]
    },
    {
      "cell_type": "code",
      "metadata": {
        "id": "cCYI17jqn0fP"
      },
      "source": [
        "from tensorflow.keras.models import Sequential\n",
        "from tensorflow.keras.layers import Dense, Conv2D, Flatten\n",
        "from tensorflow.keras.layers import Dropout, MaxPooling2D\n",
        "from tensorflow.keras.callbacks import ModelCheckpoint, EarlyStopping"
      ],
      "execution_count": 6,
      "outputs": []
    },
    {
      "cell_type": "code",
      "metadata": {
        "colab": {
          "base_uri": "https://localhost:8080/"
        },
        "id": "YC3SIpahn2RL",
        "outputId": "fece9b94-d80e-4133-b856-b376ac813861"
      },
      "source": [
        "model = Sequential([\n",
        "    Conv2D(32, (3,3), padding='same', input_shape=(28,28,1), activation='relu'),  # 마스크개수, 커널사이즈, 인풋사이즈, 함수\n",
        "    Conv2D(64, (3,3), padding='same', input_shape=(28,28,1), activation='relu'),\n",
        "    MaxPooling2D(pool_size=2),\n",
        "    Dropout(0.25),     \n",
        "    Flatten(),   # 3차원을 1차원으로 변환\n",
        "    Dense(512, activation='relu'),\n",
        "    Dropout(0.5),\n",
        "    Dense(10, activation='softmax')\n",
        "])\n",
        "model.summary()"
      ],
      "execution_count": 7,
      "outputs": [
        {
          "output_type": "stream",
          "text": [
            "Model: \"sequential\"\n",
            "_________________________________________________________________\n",
            "Layer (type)                 Output Shape              Param #   \n",
            "=================================================================\n",
            "conv2d (Conv2D)              (None, 28, 28, 32)        320       \n",
            "_________________________________________________________________\n",
            "conv2d_1 (Conv2D)            (None, 28, 28, 64)        18496     \n",
            "_________________________________________________________________\n",
            "max_pooling2d (MaxPooling2D) (None, 14, 14, 64)        0         \n",
            "_________________________________________________________________\n",
            "dropout (Dropout)            (None, 14, 14, 64)        0         \n",
            "_________________________________________________________________\n",
            "flatten (Flatten)            (None, 12544)             0         \n",
            "_________________________________________________________________\n",
            "dense (Dense)                (None, 512)               6423040   \n",
            "_________________________________________________________________\n",
            "dropout_1 (Dropout)          (None, 512)               0         \n",
            "_________________________________________________________________\n",
            "dense_1 (Dense)              (None, 10)                5130      \n",
            "=================================================================\n",
            "Total params: 6,446,986\n",
            "Trainable params: 6,446,986\n",
            "Non-trainable params: 0\n",
            "_________________________________________________________________\n"
          ],
          "name": "stdout"
        }
      ]
    },
    {
      "cell_type": "code",
      "metadata": {
        "id": "EGakhJE1n4Ko"
      },
      "source": [
        "model.compile(\n",
        "    optimizer='adam', loss='categorical_crossentropy', metrics=['accuracy']\n",
        ")"
      ],
      "execution_count": 8,
      "outputs": []
    },
    {
      "cell_type": "code",
      "metadata": {
        "id": "K4eZxct6n7IA"
      },
      "source": [
        "# 모델 최적화를 위한 설정\n",
        "modelpath = 'best_mnist_cnn_3.h5'\n",
        "checkpoint = ModelCheckpoint(modelpath, verbose=1, save_best_only=True)\n",
        "early_stopping = EarlyStopping(patience=5)"
      ],
      "execution_count": 9,
      "outputs": []
    },
    {
      "cell_type": "code",
      "metadata": {
        "id": "9g-Rmcein81t",
        "colab": {
          "base_uri": "https://localhost:8080/"
        },
        "outputId": "04c620a7-49e7-49f5-d127-2fa6bc95fa56"
      },
      "source": [
        "# 모델 학습\n",
        "history = model.fit(\n",
        "    X_train, Y_train, validation_split=0.2, epochs=50, batch_size=200, verbose=0,\n",
        "    callbacks=[checkpoint,early_stopping]\n",
        ")"
      ],
      "execution_count": 10,
      "outputs": [
        {
          "output_type": "stream",
          "text": [
            "\n",
            "Epoch 00001: val_loss improved from inf to 0.30112, saving model to best_mnist_cnn_3.h5\n",
            "\n",
            "Epoch 00002: val_loss improved from 0.30112 to 0.26004, saving model to best_mnist_cnn_3.h5\n",
            "\n",
            "Epoch 00003: val_loss improved from 0.26004 to 0.23167, saving model to best_mnist_cnn_3.h5\n",
            "\n",
            "Epoch 00004: val_loss improved from 0.23167 to 0.22792, saving model to best_mnist_cnn_3.h5\n",
            "\n",
            "Epoch 00005: val_loss improved from 0.22792 to 0.22551, saving model to best_mnist_cnn_3.h5\n",
            "\n",
            "Epoch 00006: val_loss improved from 0.22551 to 0.20463, saving model to best_mnist_cnn_3.h5\n",
            "\n",
            "Epoch 00007: val_loss improved from 0.20463 to 0.19614, saving model to best_mnist_cnn_3.h5\n",
            "\n",
            "Epoch 00008: val_loss did not improve from 0.19614\n",
            "\n",
            "Epoch 00009: val_loss did not improve from 0.19614\n",
            "\n",
            "Epoch 00010: val_loss did not improve from 0.19614\n",
            "\n",
            "Epoch 00011: val_loss did not improve from 0.19614\n",
            "\n",
            "Epoch 00012: val_loss did not improve from 0.19614\n"
          ],
          "name": "stdout"
        }
      ]
    },
    {
      "cell_type": "code",
      "metadata": {
        "colab": {
          "base_uri": "https://localhost:8080/"
        },
        "id": "srb6BnRjoW4x",
        "outputId": "62e2770d-b32f-4bbc-8ec5-b62db96a9d94"
      },
      "source": [
        "from tensorflow.keras.models import load_model\n",
        "best_model = load_model(modelpath)\n",
        "best_model.evaluate(X_test,Y_test)"
      ],
      "execution_count": 11,
      "outputs": [
        {
          "output_type": "stream",
          "text": [
            "313/313 [==============================] - 1s 3ms/step - loss: 0.2114 - accuracy: 0.9282\n"
          ],
          "name": "stdout"
        },
        {
          "output_type": "execute_result",
          "data": {
            "text/plain": [
              "[0.2113935500383377, 0.9282000064849854]"
            ]
          },
          "metadata": {
            "tags": []
          },
          "execution_count": 11
        }
      ]
    },
    {
      "cell_type": "markdown",
      "metadata": {
        "id": "YFPkIP2ztrwm"
      },
      "source": [
        "### 훈련과정 시각화"
      ]
    },
    {
      "cell_type": "code",
      "metadata": {
        "id": "lUTeWTZXtpTv"
      },
      "source": [
        "y_vloss = history.history['val_loss']\n",
        "y_acc = history.history['accuracy']\n",
        "x_len = np.arange(len(y_acc))"
      ],
      "execution_count": 12,
      "outputs": []
    },
    {
      "cell_type": "code",
      "metadata": {
        "id": "24y2rN4otzV9"
      },
      "source": [
        "import matplotlib.pyplot as plt\n",
        "%matplotlib inline"
      ],
      "execution_count": 13,
      "outputs": []
    },
    {
      "cell_type": "code",
      "metadata": {
        "colab": {
          "base_uri": "https://localhost:8080/",
          "height": 483
        },
        "id": "PZHRWDYptzF1",
        "outputId": "874c3118-b127-4eef-8aac-66de1f851517"
      },
      "source": [
        "plt.figure(figsize=(12,8))\n",
        "plt.plot(x_len, y_acc, 'bo-', markersize=2, label='accuracy')\n",
        "plt.plot(x_len, y_vloss, 'ro-', markersize=2, label='val_loss')\n",
        "plt.legend()\n",
        "plt.show()"
      ],
      "execution_count": 14,
      "outputs": [
        {
          "output_type": "display_data",
          "data": {
            "image/png": "[encoded data removed]",
            "text/plain": [
              "<Figure size 864x576 with 1 Axes>"
            ]
          },
          "metadata": {
            "tags": [],
            "needs_background": "light"
          }
        }
      ]
    }
  ]
}