{
  "nbformat": 4,
  "nbformat_minor": 0,
  "metadata": {
    "colab": {
      "name": "MNIST_CNN.ipynb",
      "provenance": []
    },
    "kernelspec": {
      "name": "python3",
      "display_name": "Python 3"
    },
    "language_info": {
      "name": "python"
    },
    "accelerator": "GPU"
  },
  "cells": [
    {
      "cell_type": "markdown",
      "metadata": {
        "id": "4VtWTb2OndLz"
      },
      "source": [
        "# MNIST 손글씨 - CNN 2\n",
        " - 2 Conv2d layers\n",
        " - 1 Maxpooling 2d layer\n",
        " - 1 Fully Connected Network layer\n",
        " - 1 Output layer\n"
      ]
    },
    {
      "cell_type": "code",
      "metadata": {
        "id": "0ql-1StfnV19"
      },
      "source": [
        "import numpy as np\n",
        "import pandas as pd\n",
        "import tensorflow as tf\n",
        "seed=2021\n",
        "np.random.seed(seed)\n",
        "tf.random.set_seed(seed)"
      ],
      "execution_count": 1,
      "outputs": []
    },
    {
      "cell_type": "code",
      "metadata": {
        "colab": {
          "base_uri": "https://localhost:8080/"
        },
        "id": "vjOVH4Bcneza",
        "outputId": "636db801-19a1-4734-d20e-9124e744aee9"
      },
      "source": [
        "from tensorflow.keras.datasets import mnist\n",
        "(X_train,y_train), (X_test, y_test) = mnist.load_data()"
      ],
      "execution_count": 2,
      "outputs": [
        {
          "output_type": "stream",
          "text": [
            "Downloading data from https://storage.googleapis.com/tensorflow/tf-keras-datasets/mnist.npz\n",
            "11493376/11490434 [==============================] - 0s 0us/step\n"
          ],
          "name": "stdout"
        }
      ]
    },
    {
      "cell_type": "code",
      "metadata": {
        "id": "hA9SHi4untCw"
      },
      "source": [
        "# 0~1 사이의 값으로 정규화\n",
        "X_train = X_train / 255.0\n",
        "X_test = X_test / 255.0"
      ],
      "execution_count": 3,
      "outputs": []
    },
    {
      "cell_type": "code",
      "metadata": {
        "colab": {
          "base_uri": "https://localhost:8080/"
        },
        "id": "z3M_VmrhntnQ",
        "outputId": "8bbc7a13-1a21-4cad-af46-2d178a1cbab2"
      },
      "source": [
        "# 3차원 데이터를 4차원으로 (데이터는 2차원을 3차원으로)\n",
        "X_train = X_train.reshape(-1,28,28,1)    # 28*28=784이므로\n",
        "X_test = X_test.reshape(-1,28,28,1)\n",
        "X_train.shape, X_test.shape"
      ],
      "execution_count": 4,
      "outputs": [
        {
          "output_type": "execute_result",
          "data": {
            "text/plain": [
              "((60000, 28, 28, 1), (10000, 28, 28, 1))"
            ]
          },
          "metadata": {
            "tags": []
          },
          "execution_count": 4
        }
      ]
    },
    {
      "cell_type": "code",
      "metadata": {
        "colab": {
          "base_uri": "https://localhost:8080/"
        },
        "id": "9pTtYgfOnykn",
        "outputId": "6a7f8226-f701-43eb-9de9-d8e872cdd821"
      },
      "source": [
        "# One hot encoding\n",
        "from tensorflow.keras.utils import to_categorical\n",
        "Y_train = to_categorical(y_train)\n",
        "Y_test = to_categorical(y_test)\n",
        "Y_train[0]"
      ],
      "execution_count": 5,
      "outputs": [
        {
          "output_type": "execute_result",
          "data": {
            "text/plain": [
              "array([0., 0., 0., 0., 0., 1., 0., 0., 0., 0.], dtype=float32)"
            ]
          },
          "metadata": {
            "tags": []
          },
          "execution_count": 5
        }
      ]
    },
    {
      "cell_type": "code",
      "metadata": {
        "id": "cCYI17jqn0fP"
      },
      "source": [
        "from tensorflow.keras.models import Sequential\n",
        "from tensorflow.keras.layers import Dense, Conv2D, Flatten, MaxPooling2D\n",
        "from tensorflow.keras.callbacks import ModelCheckpoint, EarlyStopping"
      ],
      "execution_count": 7,
      "outputs": []
    },
    {
      "cell_type": "code",
      "metadata": {
        "colab": {
          "base_uri": "https://localhost:8080/"
        },
        "id": "YC3SIpahn2RL",
        "outputId": "d76a7b58-38be-4173-f4d4-50d2e7adc250"
      },
      "source": [
        "model = Sequential([\n",
        "    Conv2D(32, (3,3), input_shape=(28,28,1), activation='relu'),  # 마스크개수, 커널사이즈, 인풋사이즈, 함수\n",
        "    Conv2D(64, (3,3), input_shape=(28,28,1), activation='relu'),\n",
        "    MaxPooling2D(pool_size=2),\n",
        "    Flatten(),   # 3차원을 1차원으로 변환\n",
        "    Dense(512, activation='relu'),\n",
        "    Dense(10, activation='softmax')\n",
        "])\n",
        "model.summary()"
      ],
      "execution_count": 8,
      "outputs": [
        {
          "output_type": "stream",
          "text": [
            "Model: \"sequential\"\n",
            "_________________________________________________________________\n",
            "Layer (type)                 Output Shape              Param #   \n",
            "=================================================================\n",
            "conv2d (Conv2D)              (None, 26, 26, 32)        320       \n",
            "_________________________________________________________________\n",
            "conv2d_1 (Conv2D)            (None, 24, 24, 64)        18496     \n",
            "_________________________________________________________________\n",
            "max_pooling2d (MaxPooling2D) (None, 12, 12, 64)        0         \n",
            "_________________________________________________________________\n",
            "flatten (Flatten)            (None, 9216)              0         \n",
            "_________________________________________________________________\n",
            "dense (Dense)                (None, 512)               4719104   \n",
            "_________________________________________________________________\n",
            "dense_1 (Dense)              (None, 10)                5130      \n",
            "=================================================================\n",
            "Total params: 4,743,050\n",
            "Trainable params: 4,743,050\n",
            "Non-trainable params: 0\n",
            "_________________________________________________________________\n"
          ],
          "name": "stdout"
        }
      ]
    },
    {
      "cell_type": "code",
      "metadata": {
        "id": "EGakhJE1n4Ko"
      },
      "source": [
        "model.compile(\n",
        "    optimizer='adam', loss='categorical_crossentropy', metrics=['accuracy']\n",
        ")"
      ],
      "execution_count": 9,
      "outputs": []
    },
    {
      "cell_type": "code",
      "metadata": {
        "id": "K4eZxct6n7IA"
      },
      "source": [
        "# 모델 최적화를 위한 설정\n",
        "modelpath = 'best_mnist_cnn_2.h5'\n",
        "checkpoint = ModelCheckpoint(modelpath, verbose=1, save_best_only=True)\n",
        "early_stopping = EarlyStopping(patience=10)"
      ],
      "execution_count": 11,
      "outputs": []
    },
    {
      "cell_type": "code",
      "metadata": {
        "id": "9g-Rmcein81t",
        "colab": {
          "base_uri": "https://localhost:8080/"
        },
        "outputId": "c061e2e6-9148-4af4-9160-2b855652ee88"
      },
      "source": [
        "# 모델 학습\n",
        "history = model.fit(\n",
        "    X_train, Y_train, validation_split=0.2, epochs=50, batch_size=200, verbose=0,\n",
        "    callbacks=[checkpoint,early_stopping]\n",
        ")"
      ],
      "execution_count": 12,
      "outputs": [
        {
          "output_type": "stream",
          "text": [
            "\n",
            "Epoch 00001: val_loss improved from inf to 0.05873, saving model to best_mnist_cnn_2.h5\n",
            "\n",
            "Epoch 00002: val_loss improved from 0.05873 to 0.04669, saving model to best_mnist_cnn_2.h5\n",
            "\n",
            "Epoch 00003: val_loss improved from 0.04669 to 0.04305, saving model to best_mnist_cnn_2.h5\n",
            "\n",
            "Epoch 00004: val_loss improved from 0.04305 to 0.04104, saving model to best_mnist_cnn_2.h5\n",
            "\n",
            "Epoch 00005: val_loss did not improve from 0.04104\n",
            "\n",
            "Epoch 00006: val_loss did not improve from 0.04104\n",
            "\n",
            "Epoch 00007: val_loss did not improve from 0.04104\n",
            "\n",
            "Epoch 00008: val_loss did not improve from 0.04104\n",
            "\n",
            "Epoch 00009: val_loss did not improve from 0.04104\n",
            "\n",
            "Epoch 00010: val_loss did not improve from 0.04104\n",
            "\n",
            "Epoch 00011: val_loss did not improve from 0.04104\n",
            "\n",
            "Epoch 00012: val_loss did not improve from 0.04104\n",
            "\n",
            "Epoch 00013: val_loss did not improve from 0.04104\n",
            "\n",
            "Epoch 00014: val_loss did not improve from 0.04104\n"
          ],
          "name": "stdout"
        }
      ]
    },
    {
      "cell_type": "code",
      "metadata": {
        "colab": {
          "base_uri": "https://localhost:8080/"
        },
        "id": "srb6BnRjoW4x",
        "outputId": "0ded902e-502c-4eab-9f61-b4ab4686cb8f"
      },
      "source": [
        "from tensorflow.keras.models import load_model\n",
        "best_model = load_model(modelpath)\n",
        "best_model.evaluate(X_test,Y_test)"
      ],
      "execution_count": 13,
      "outputs": [
        {
          "output_type": "stream",
          "text": [
            "313/313 [==============================] - 1s 3ms/step - loss: 0.0401 - accuracy: 0.9871\n"
          ],
          "name": "stdout"
        },
        {
          "output_type": "execute_result",
          "data": {
            "text/plain": [
              "[0.040138352662324905, 0.9871000051498413]"
            ]
          },
          "metadata": {
            "tags": []
          },
          "execution_count": 13
        }
      ]
    }
  ]
}