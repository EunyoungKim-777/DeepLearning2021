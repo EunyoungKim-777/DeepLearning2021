{
 "cells": [
  {
   "cell_type": "markdown",
   "metadata": {},
   "source": [
    "# 원, 삼각형, 사각형 구분하기\r\n",
    "- 어려운 데이터 문제를 데이터 부풀리기를 이용한 경우"
   ]
  },
  {
   "cell_type": "code",
   "execution_count": 1,
   "metadata": {},
   "outputs": [],
   "source": [
    "import numpy as np\r\n",
    "import tensorflow as tf\r\n",
    "seed=2021\r\n",
    "np.random.seed(seed)\r\n",
    "tf.random.set_seed(seed)"
   ]
  },
  {
   "cell_type": "markdown",
   "metadata": {},
   "source": []
  },
  {
   "cell_type": "markdown",
   "metadata": {},
   "source": [
    "## 데이터 부풀리기"
   ]
  },
  {
   "cell_type": "code",
   "execution_count": 2,
   "metadata": {},
   "outputs": [],
   "source": [
    "from tensorflow.keras.preprocessing.image import ImageDataGenerator\r\n",
    "train_datagen = ImageDataGenerator(\r\n",
    "    rescale=1/255.0,\r\n",
    "    rotation_range=15,\r\n",
    "    width_shift_range=0.1,\r\n",
    "    height_shift_range=0.1,\r\n",
    "    shear_range=0.5,\r\n",
    "    zoom_range=[0.8,2.0],\r\n",
    "    vertical_flip=True,\r\n",
    "    fill_mode='nearest'\r\n",
    "    )\r\n"
   ]
  },
  {
   "cell_type": "code",
   "execution_count": 6,
   "metadata": {},
   "outputs": [
    {
     "data": {
      "text/plain": [
       "(24, 24, 3)"
      ]
     },
     "execution_count": 6,
     "metadata": {},
     "output_type": "execute_result"
    }
   ],
   "source": [
    "x.shape"
   ]
  },
  {
   "cell_type": "code",
   "execution_count": 7,
   "metadata": {},
   "outputs": [],
   "source": [
    "from tensorflow.keras.preprocessing.image import array_to_img, img_to_array, load_img\r\n",
    "img = load_img('handwriting/hard_handwriting_shape/train/triangle/triangle001.png')\r\n",
    "x = img_to_array(img)\r\n",
    "x = x.reshape((1,) + x.shape)"
   ]
  },
  {
   "cell_type": "code",
   "execution_count": 8,
   "metadata": {},
   "outputs": [
    {
     "data": {
      "text/plain": [
       "(1, 24, 24, 3)"
      ]
     },
     "execution_count": 8,
     "metadata": {},
     "output_type": "execute_result"
    }
   ],
   "source": [
    "x.shape"
   ]
  },
  {
   "cell_type": "code",
   "execution_count": 9,
   "metadata": {},
   "outputs": [],
   "source": [
    "i=0\r\n",
    "for batch in train_datagen.flow(x,batch_size=1, save_to_dir='preview', save_prefix='tri', save_format='png'):\r\n",
    "    i += 1\r\n",
    "    if i > 20:\r\n",
    "        break"
   ]
  },
  {
   "cell_type": "code",
   "execution_count": 10,
   "metadata": {},
   "outputs": [
    {
     "name": "stdout",
     "output_type": "stream",
     "text": [
      "Found 45 images belonging to 3 classes.\n"
     ]
    }
   ],
   "source": [
    "train_generator = train_datagen.flow_from_directory(\r\n",
    "    'handwriting/hard_handwriting_shape/train',\r\n",
    "    target_size=(24,24),\r\n",
    "    batch_size=3,\r\n",
    "    class_mode='categorical'\r\n",
    ")"
   ]
  },
  {
   "cell_type": "code",
   "execution_count": 11,
   "metadata": {},
   "outputs": [
    {
     "name": "stdout",
     "output_type": "stream",
     "text": [
      "Found 15 images belonging to 3 classes.\n"
     ]
    }
   ],
   "source": [
    "test_datagen = ImageDataGenerator(rescale=1/255.)\r\n",
    "test_generator = test_datagen.flow_from_directory(\r\n",
    "    'handwriting/hard_handwriting_shape/test',\r\n",
    "    target_size=(24,24),\r\n",
    "    batch_size=3,\r\n",
    "    class_mode='categorical'\r\n",
    ")"
   ]
  },
  {
   "cell_type": "code",
   "execution_count": 4,
   "metadata": {},
   "outputs": [
    {
     "data": {
      "text/plain": [
       "array([0, 0, 0, 0, 0, 0, 0, 0, 0, 0, 0, 0, 0, 0, 0, 1, 1, 1, 1, 1, 1, 1,\n",
       "       1, 1, 1, 1, 1, 1, 1, 1, 2, 2, 2, 2, 2, 2, 2, 2, 2, 2, 2, 2, 2, 2,\n",
       "       2])"
      ]
     },
     "execution_count": 4,
     "metadata": {},
     "output_type": "execute_result"
    }
   ],
   "source": [
    "train_generator.labels"
   ]
  },
  {
   "cell_type": "code",
   "execution_count": 5,
   "metadata": {},
   "outputs": [
    {
     "data": {
      "text/plain": [
       "'circle\\\\circle001.png'"
      ]
     },
     "execution_count": 5,
     "metadata": {},
     "output_type": "execute_result"
    }
   ],
   "source": [
    "train_generator.filenames[0]"
   ]
  },
  {
   "cell_type": "markdown",
   "metadata": {},
   "source": [
    "## 모델 정의/설정"
   ]
  },
  {
   "cell_type": "code",
   "execution_count": 12,
   "metadata": {},
   "outputs": [],
   "source": [
    "from tensorflow.keras.models import Sequential\r\n",
    "from tensorflow.keras.layers import Conv2D, MaxPooling2D, Flatten, Dense "
   ]
  },
  {
   "cell_type": "code",
   "execution_count": 13,
   "metadata": {},
   "outputs": [
    {
     "name": "stdout",
     "output_type": "stream",
     "text": [
      "Model: \"sequential\"\n",
      "_________________________________________________________________\n",
      "Layer (type)                 Output Shape              Param #   \n",
      "=================================================================\n",
      "conv2d (Conv2D)              (None, 22, 22, 32)        896       \n",
      "_________________________________________________________________\n",
      "conv2d_1 (Conv2D)            (None, 20, 20, 64)        18496     \n",
      "_________________________________________________________________\n",
      "max_pooling2d (MaxPooling2D) (None, 10, 10, 64)        0         \n",
      "_________________________________________________________________\n",
      "flatten (Flatten)            (None, 6400)              0         \n",
      "_________________________________________________________________\n",
      "dense (Dense)                (None, 128)               819328    \n",
      "_________________________________________________________________\n",
      "dense_1 (Dense)              (None, 3)                 387       \n",
      "=================================================================\n",
      "Total params: 839,107\n",
      "Trainable params: 839,107\n",
      "Non-trainable params: 0\n",
      "_________________________________________________________________\n"
     ]
    }
   ],
   "source": [
    "model = Sequential([\r\n",
    "    Conv2D(32, (3,3), input_shape=(24,24,3), activation='relu'),\r\n",
    "    Conv2D(64, (3,3), activation='relu'),\r\n",
    "    MaxPooling2D(),\r\n",
    "    Flatten(),\r\n",
    "    Dense(128, activation='relu'),\r\n",
    "    Dense(3, activation='softmax')\r\n",
    "])\r\n",
    "model.summary()"
   ]
  },
  {
   "cell_type": "code",
   "execution_count": 14,
   "metadata": {},
   "outputs": [],
   "source": [
    "model.compile(\r\n",
    "    optimizer='adam', loss='categorical_crossentropy', metrics=['accuracy']\r\n",
    ")"
   ]
  },
  {
   "cell_type": "markdown",
   "metadata": {},
   "source": [
    "## 모델 학습\r\n",
    "- 첫번째 인자 : 훈련데이터셋을 제공할 제네레이터를 지정. 본 예제에서는 앞서 생성한 train_generator으로 지정.\r\n",
    "- steps_per_epoch : 한 epoch에 사용한 스텝 수를 지정. 총 45개의 훈련 샘플이 있고 배치사이즈가 3이므로 15 스텝으로 지정.\r\n",
    "- epochs : 전체 훈련 데이터셋에 대해 학습 반복 횟수를 지정. 50번을 반복적으로 학습.\r\n",
    "- validation_data : 검증데이터셋을 제공할 제네레이터를 지정. 본 예제에서는 앞서 생성한 test_generator으로 지정.\r\n",
    "- validation_steps : 한 epoch 종료 시 마다 검증할 때 사용되는 검증 스텝 수를 지정. 총 15개의 검증 샘플이 있고 배치사이즈가 3이므로 5 스텝으로 지정."
   ]
  },
  {
   "cell_type": "code",
   "execution_count": 16,
   "metadata": {},
   "outputs": [
    {
     "name": "stdout",
     "output_type": "stream",
     "text": [
      "Epoch 1/200\n",
      "15/15 - 0s - loss: 1.0423 - accuracy: 0.4667 - val_loss: 1.0783 - val_accuracy: 0.4667\n",
      "Epoch 2/200\n",
      "15/15 - 0s - loss: 0.8786 - accuracy: 0.6222 - val_loss: 1.0688 - val_accuracy: 0.4000\n",
      "Epoch 3/200\n",
      "15/15 - 0s - loss: 0.6611 - accuracy: 0.6444 - val_loss: 1.2021 - val_accuracy: 0.6000\n",
      "Epoch 4/200\n",
      "15/15 - 0s - loss: 0.4868 - accuracy: 0.7556 - val_loss: 1.8174 - val_accuracy: 0.5333\n",
      "Epoch 5/200\n",
      "15/15 - 0s - loss: 0.4895 - accuracy: 0.8222 - val_loss: 1.2654 - val_accuracy: 0.6667\n",
      "Epoch 6/200\n",
      "15/15 - 0s - loss: 0.6438 - accuracy: 0.8222 - val_loss: 0.9337 - val_accuracy: 0.6667\n",
      "Epoch 7/200\n",
      "15/15 - 0s - loss: 0.5454 - accuracy: 0.8000 - val_loss: 1.3278 - val_accuracy: 0.5333\n",
      "Epoch 8/200\n",
      "15/15 - 0s - loss: 0.6484 - accuracy: 0.7556 - val_loss: 0.8655 - val_accuracy: 0.6000\n",
      "Epoch 9/200\n",
      "15/15 - 0s - loss: 0.2830 - accuracy: 0.8889 - val_loss: 1.5257 - val_accuracy: 0.5333\n",
      "Epoch 10/200\n",
      "15/15 - 0s - loss: 0.2734 - accuracy: 0.8222 - val_loss: 1.2415 - val_accuracy: 0.5333\n",
      "Epoch 11/200\n",
      "15/15 - 0s - loss: 0.2843 - accuracy: 0.9333 - val_loss: 1.8375 - val_accuracy: 0.4667\n",
      "Epoch 12/200\n",
      "15/15 - 0s - loss: 0.2544 - accuracy: 0.8889 - val_loss: 1.6820 - val_accuracy: 0.6000\n",
      "Epoch 13/200\n",
      "15/15 - 0s - loss: 0.2289 - accuracy: 0.9333 - val_loss: 1.3279 - val_accuracy: 0.6667\n",
      "Epoch 14/200\n",
      "15/15 - 0s - loss: 0.2650 - accuracy: 0.9333 - val_loss: 1.3489 - val_accuracy: 0.6000\n",
      "Epoch 15/200\n",
      "15/15 - 0s - loss: 0.0670 - accuracy: 1.0000 - val_loss: 2.0727 - val_accuracy: 0.5333\n",
      "Epoch 16/200\n",
      "15/15 - 0s - loss: 0.1133 - accuracy: 0.9778 - val_loss: 2.2667 - val_accuracy: 0.6000\n",
      "Epoch 17/200\n",
      "15/15 - 0s - loss: 0.1227 - accuracy: 0.9556 - val_loss: 1.1467 - val_accuracy: 0.6667\n",
      "Epoch 18/200\n",
      "15/15 - 0s - loss: 0.1284 - accuracy: 0.9556 - val_loss: 1.6746 - val_accuracy: 0.6000\n",
      "Epoch 19/200\n",
      "15/15 - 0s - loss: 0.0836 - accuracy: 0.9778 - val_loss: 2.2913 - val_accuracy: 0.5333\n",
      "Epoch 20/200\n",
      "15/15 - 0s - loss: 0.0454 - accuracy: 1.0000 - val_loss: 1.4625 - val_accuracy: 0.6000\n",
      "Epoch 21/200\n",
      "15/15 - 0s - loss: 0.0282 - accuracy: 1.0000 - val_loss: 1.8057 - val_accuracy: 0.5333\n",
      "Epoch 22/200\n",
      "15/15 - 0s - loss: 0.0574 - accuracy: 0.9556 - val_loss: 1.6471 - val_accuracy: 0.6000\n",
      "Epoch 23/200\n",
      "15/15 - 0s - loss: 0.0470 - accuracy: 0.9778 - val_loss: 2.2304 - val_accuracy: 0.6000\n",
      "Epoch 24/200\n",
      "15/15 - 0s - loss: 0.0099 - accuracy: 1.0000 - val_loss: 2.0706 - val_accuracy: 0.5333\n",
      "Epoch 25/200\n",
      "15/15 - 0s - loss: 0.0661 - accuracy: 0.9778 - val_loss: 1.9514 - val_accuracy: 0.5333\n",
      "Epoch 26/200\n",
      "15/15 - 0s - loss: 0.1439 - accuracy: 0.9333 - val_loss: 2.0356 - val_accuracy: 0.6667\n",
      "Epoch 27/200\n",
      "15/15 - 0s - loss: 0.2149 - accuracy: 0.8889 - val_loss: 2.2911 - val_accuracy: 0.5333\n",
      "Epoch 28/200\n",
      "15/15 - 0s - loss: 0.1686 - accuracy: 0.9333 - val_loss: 1.5552 - val_accuracy: 0.6667\n",
      "Epoch 29/200\n",
      "15/15 - 0s - loss: 0.1410 - accuracy: 0.9333 - val_loss: 2.5207 - val_accuracy: 0.5333\n",
      "Epoch 30/200\n",
      "15/15 - 0s - loss: 0.0632 - accuracy: 1.0000 - val_loss: 2.0953 - val_accuracy: 0.5333\n",
      "Epoch 31/200\n",
      "15/15 - 0s - loss: 0.0377 - accuracy: 1.0000 - val_loss: 1.8978 - val_accuracy: 0.7333\n",
      "Epoch 32/200\n",
      "15/15 - 0s - loss: 0.0297 - accuracy: 1.0000 - val_loss: 3.1059 - val_accuracy: 0.4667\n",
      "Epoch 33/200\n",
      "15/15 - 0s - loss: 0.0515 - accuracy: 0.9778 - val_loss: 1.9570 - val_accuracy: 0.7333\n",
      "Epoch 34/200\n",
      "15/15 - 0s - loss: 0.0265 - accuracy: 1.0000 - val_loss: 2.0024 - val_accuracy: 0.6667\n",
      "Epoch 35/200\n",
      "15/15 - 0s - loss: 0.1687 - accuracy: 0.9333 - val_loss: 1.3410 - val_accuracy: 0.8000\n",
      "Epoch 36/200\n",
      "15/15 - 0s - loss: 0.1501 - accuracy: 0.9778 - val_loss: 2.6787 - val_accuracy: 0.6000\n",
      "Epoch 37/200\n",
      "15/15 - 0s - loss: 0.0892 - accuracy: 0.9333 - val_loss: 1.7992 - val_accuracy: 0.7333\n",
      "Epoch 38/200\n",
      "15/15 - 0s - loss: 0.0630 - accuracy: 0.9778 - val_loss: 1.9795 - val_accuracy: 0.7333\n",
      "Epoch 39/200\n",
      "15/15 - 0s - loss: 0.0427 - accuracy: 0.9778 - val_loss: 1.8523 - val_accuracy: 0.7333\n",
      "Epoch 40/200\n",
      "15/15 - 0s - loss: 0.0346 - accuracy: 1.0000 - val_loss: 2.1786 - val_accuracy: 0.7333\n",
      "Epoch 41/200\n",
      "15/15 - 0s - loss: 0.0825 - accuracy: 0.9778 - val_loss: 1.4275 - val_accuracy: 0.8000\n",
      "Epoch 42/200\n",
      "15/15 - 0s - loss: 0.0680 - accuracy: 0.9556 - val_loss: 1.7046 - val_accuracy: 0.6667\n",
      "Epoch 43/200\n",
      "15/15 - 0s - loss: 0.1242 - accuracy: 0.9333 - val_loss: 1.6775 - val_accuracy: 0.8000\n",
      "Epoch 44/200\n",
      "15/15 - 0s - loss: 0.0292 - accuracy: 1.0000 - val_loss: 2.9323 - val_accuracy: 0.6000\n",
      "Epoch 45/200\n",
      "15/15 - 0s - loss: 0.0986 - accuracy: 0.9556 - val_loss: 2.8639 - val_accuracy: 0.6000\n",
      "Epoch 46/200\n",
      "15/15 - 0s - loss: 0.0997 - accuracy: 0.9778 - val_loss: 2.6231 - val_accuracy: 0.6000\n",
      "Epoch 47/200\n",
      "15/15 - 0s - loss: 0.0528 - accuracy: 0.9778 - val_loss: 3.7731 - val_accuracy: 0.6000\n",
      "Epoch 48/200\n",
      "15/15 - 0s - loss: 0.0366 - accuracy: 1.0000 - val_loss: 3.3516 - val_accuracy: 0.6000\n",
      "Epoch 49/200\n",
      "15/15 - 0s - loss: 0.0864 - accuracy: 0.9778 - val_loss: 2.5994 - val_accuracy: 0.6000\n",
      "Epoch 50/200\n",
      "15/15 - 0s - loss: 0.1111 - accuracy: 0.9333 - val_loss: 2.5496 - val_accuracy: 0.6667\n",
      "Epoch 51/200\n",
      "15/15 - 0s - loss: 0.0294 - accuracy: 1.0000 - val_loss: 1.0803 - val_accuracy: 0.7333\n",
      "Epoch 52/200\n",
      "15/15 - 0s - loss: 0.0849 - accuracy: 0.9556 - val_loss: 1.8170 - val_accuracy: 0.7333\n",
      "Epoch 53/200\n",
      "15/15 - 0s - loss: 0.0442 - accuracy: 1.0000 - val_loss: 1.5719 - val_accuracy: 0.8000\n",
      "Epoch 54/200\n",
      "15/15 - 0s - loss: 0.0188 - accuracy: 1.0000 - val_loss: 2.2076 - val_accuracy: 0.6667\n",
      "Epoch 55/200\n",
      "15/15 - 0s - loss: 0.0346 - accuracy: 0.9778 - val_loss: 2.5792 - val_accuracy: 0.6667\n",
      "Epoch 56/200\n",
      "15/15 - 0s - loss: 0.0523 - accuracy: 0.9778 - val_loss: 2.8669 - val_accuracy: 0.6667\n",
      "Epoch 57/200\n",
      "15/15 - 0s - loss: 0.0084 - accuracy: 1.0000 - val_loss: 3.1217 - val_accuracy: 0.6667\n",
      "Epoch 58/200\n",
      "15/15 - 0s - loss: 0.0142 - accuracy: 1.0000 - val_loss: 2.5606 - val_accuracy: 0.7333\n",
      "Epoch 59/200\n",
      "15/15 - 0s - loss: 0.0746 - accuracy: 0.9778 - val_loss: 2.5762 - val_accuracy: 0.7333\n",
      "Epoch 60/200\n",
      "15/15 - 0s - loss: 0.0147 - accuracy: 1.0000 - val_loss: 2.1422 - val_accuracy: 0.8000\n",
      "Epoch 61/200\n",
      "15/15 - 0s - loss: 0.0083 - accuracy: 1.0000 - val_loss: 2.3275 - val_accuracy: 0.8000\n",
      "Epoch 62/200\n",
      "15/15 - 0s - loss: 0.0483 - accuracy: 0.9778 - val_loss: 2.3007 - val_accuracy: 0.8000\n",
      "Epoch 63/200\n",
      "15/15 - 0s - loss: 0.0089 - accuracy: 1.0000 - val_loss: 2.2247 - val_accuracy: 0.8000\n",
      "Epoch 64/200\n",
      "15/15 - 0s - loss: 0.0378 - accuracy: 0.9778 - val_loss: 2.1664 - val_accuracy: 0.8000\n",
      "Epoch 65/200\n",
      "15/15 - 0s - loss: 0.0286 - accuracy: 0.9778 - val_loss: 2.2700 - val_accuracy: 0.8000\n",
      "Epoch 66/200\n",
      "15/15 - 0s - loss: 0.1027 - accuracy: 0.9778 - val_loss: 2.4273 - val_accuracy: 0.7333\n",
      "Epoch 67/200\n",
      "15/15 - 0s - loss: 0.2059 - accuracy: 0.9333 - val_loss: 2.9580 - val_accuracy: 0.7333\n",
      "Epoch 68/200\n",
      "15/15 - 0s - loss: 0.1450 - accuracy: 0.9778 - val_loss: 1.3128 - val_accuracy: 0.8000\n",
      "Epoch 69/200\n",
      "15/15 - 0s - loss: 0.1123 - accuracy: 0.9333 - val_loss: 1.8478 - val_accuracy: 0.7333\n",
      "Epoch 70/200\n",
      "15/15 - 0s - loss: 0.0233 - accuracy: 1.0000 - val_loss: 1.9493 - val_accuracy: 0.8000\n",
      "Epoch 71/200\n",
      "15/15 - 0s - loss: 0.0704 - accuracy: 0.9778 - val_loss: 4.0816 - val_accuracy: 0.5333\n",
      "Epoch 72/200\n",
      "15/15 - 0s - loss: 0.0643 - accuracy: 0.9778 - val_loss: 3.4198 - val_accuracy: 0.6000\n",
      "Epoch 73/200\n",
      "15/15 - 0s - loss: 0.1038 - accuracy: 0.9556 - val_loss: 2.2228 - val_accuracy: 0.8000\n",
      "Epoch 74/200\n",
      "15/15 - 0s - loss: 0.0231 - accuracy: 1.0000 - val_loss: 2.2285 - val_accuracy: 0.8000\n",
      "Epoch 75/200\n",
      "15/15 - 0s - loss: 0.0688 - accuracy: 0.9556 - val_loss: 2.0777 - val_accuracy: 0.8000\n",
      "Epoch 76/200\n",
      "15/15 - 0s - loss: 0.0125 - accuracy: 1.0000 - val_loss: 2.1231 - val_accuracy: 0.8000\n",
      "Epoch 77/200\n",
      "15/15 - 0s - loss: 0.1340 - accuracy: 0.9778 - val_loss: 2.4863 - val_accuracy: 0.8000\n",
      "Epoch 78/200\n",
      "15/15 - 0s - loss: 0.0373 - accuracy: 0.9778 - val_loss: 3.1826 - val_accuracy: 0.6667\n",
      "Epoch 79/200\n",
      "15/15 - 0s - loss: 0.0221 - accuracy: 1.0000 - val_loss: 3.4909 - val_accuracy: 0.6000\n",
      "Epoch 80/200\n",
      "15/15 - 0s - loss: 0.0639 - accuracy: 0.9778 - val_loss: 2.8629 - val_accuracy: 0.6667\n",
      "Epoch 81/200\n",
      "15/15 - 0s - loss: 0.0347 - accuracy: 1.0000 - val_loss: 2.7197 - val_accuracy: 0.8000\n",
      "Epoch 82/200\n",
      "15/15 - 0s - loss: 0.0339 - accuracy: 0.9778 - val_loss: 2.9511 - val_accuracy: 0.8000\n",
      "Epoch 83/200\n",
      "15/15 - 0s - loss: 0.0247 - accuracy: 0.9778 - val_loss: 2.4260 - val_accuracy: 0.8000\n",
      "Epoch 84/200\n",
      "15/15 - 0s - loss: 0.0621 - accuracy: 0.9556 - val_loss: 1.7193 - val_accuracy: 0.8000\n",
      "Epoch 85/200\n",
      "15/15 - 0s - loss: 0.0625 - accuracy: 0.9778 - val_loss: 1.7445 - val_accuracy: 0.8000\n",
      "Epoch 86/200\n",
      "15/15 - 0s - loss: 0.0035 - accuracy: 1.0000 - val_loss: 1.8891 - val_accuracy: 0.8000\n",
      "Epoch 87/200\n",
      "15/15 - 0s - loss: 0.0120 - accuracy: 1.0000 - val_loss: 1.8855 - val_accuracy: 0.8000\n",
      "Epoch 88/200\n",
      "15/15 - 0s - loss: 0.0607 - accuracy: 0.9556 - val_loss: 2.2340 - val_accuracy: 0.8000\n",
      "Epoch 89/200\n",
      "15/15 - 0s - loss: 0.0017 - accuracy: 1.0000 - val_loss: 2.7732 - val_accuracy: 0.6667\n",
      "Epoch 90/200\n",
      "15/15 - 0s - loss: 0.0150 - accuracy: 1.0000 - val_loss: 2.9834 - val_accuracy: 0.6667\n",
      "Epoch 91/200\n",
      "15/15 - 0s - loss: 0.0872 - accuracy: 0.9556 - val_loss: 2.5688 - val_accuracy: 0.7333\n",
      "Epoch 92/200\n",
      "15/15 - 0s - loss: 0.1090 - accuracy: 0.9778 - val_loss: 2.7463 - val_accuracy: 0.6000\n",
      "Epoch 93/200\n",
      "15/15 - 0s - loss: 0.1630 - accuracy: 0.9556 - val_loss: 1.4521 - val_accuracy: 0.8000\n",
      "Epoch 94/200\n",
      "15/15 - 0s - loss: 0.0502 - accuracy: 0.9778 - val_loss: 1.2895 - val_accuracy: 0.8000\n",
      "Epoch 95/200\n",
      "15/15 - 0s - loss: 0.0029 - accuracy: 1.0000 - val_loss: 1.4196 - val_accuracy: 0.7333\n",
      "Epoch 96/200\n",
      "15/15 - 0s - loss: 0.1068 - accuracy: 0.9778 - val_loss: 1.6351 - val_accuracy: 0.8000\n",
      "Epoch 97/200\n",
      "15/15 - 0s - loss: 0.0361 - accuracy: 0.9778 - val_loss: 2.1015 - val_accuracy: 0.8000\n",
      "Epoch 98/200\n",
      "15/15 - 0s - loss: 0.0036 - accuracy: 1.0000 - val_loss: 2.2457 - val_accuracy: 0.8000\n",
      "Epoch 99/200\n",
      "15/15 - 0s - loss: 0.0187 - accuracy: 1.0000 - val_loss: 1.5576 - val_accuracy: 0.8000\n",
      "Epoch 100/200\n",
      "15/15 - 0s - loss: 0.0148 - accuracy: 1.0000 - val_loss: 1.5164 - val_accuracy: 0.8000\n",
      "Epoch 101/200\n",
      "15/15 - 0s - loss: 0.0020 - accuracy: 1.0000 - val_loss: 1.5641 - val_accuracy: 0.8000\n",
      "Epoch 102/200\n",
      "15/15 - 0s - loss: 0.0123 - accuracy: 1.0000 - val_loss: 1.5601 - val_accuracy: 0.8000\n",
      "Epoch 103/200\n",
      "15/15 - 0s - loss: 0.0031 - accuracy: 1.0000 - val_loss: 1.5270 - val_accuracy: 0.8000\n",
      "Epoch 104/200\n",
      "15/15 - 0s - loss: 0.0949 - accuracy: 0.9556 - val_loss: 3.3542 - val_accuracy: 0.6667\n",
      "Epoch 105/200\n",
      "15/15 - 0s - loss: 0.0073 - accuracy: 1.0000 - val_loss: 4.2054 - val_accuracy: 0.6667\n",
      "Epoch 106/200\n",
      "15/15 - 0s - loss: 0.0670 - accuracy: 0.9556 - val_loss: 1.9909 - val_accuracy: 0.7333\n",
      "Epoch 107/200\n",
      "15/15 - 0s - loss: 0.1775 - accuracy: 0.9111 - val_loss: 2.2665 - val_accuracy: 0.8000\n",
      "Epoch 108/200\n",
      "15/15 - 0s - loss: 0.0253 - accuracy: 0.9778 - val_loss: 2.0718 - val_accuracy: 0.8000\n",
      "Epoch 109/200\n",
      "15/15 - 0s - loss: 0.0225 - accuracy: 0.9778 - val_loss: 1.8403 - val_accuracy: 0.8000\n",
      "Epoch 110/200\n",
      "15/15 - 0s - loss: 6.5362e-04 - accuracy: 1.0000 - val_loss: 1.8426 - val_accuracy: 0.8000\n",
      "Epoch 111/200\n",
      "15/15 - 0s - loss: 0.0128 - accuracy: 1.0000 - val_loss: 2.1204 - val_accuracy: 0.8000\n",
      "Epoch 112/200\n",
      "15/15 - 0s - loss: 0.0151 - accuracy: 1.0000 - val_loss: 2.7380 - val_accuracy: 0.8000\n",
      "Epoch 113/200\n",
      "15/15 - 0s - loss: 0.0097 - accuracy: 1.0000 - val_loss: 2.3964 - val_accuracy: 0.8000\n",
      "Epoch 114/200\n",
      "15/15 - 0s - loss: 0.0030 - accuracy: 1.0000 - val_loss: 2.1551 - val_accuracy: 0.8000\n",
      "Epoch 115/200\n",
      "15/15 - 0s - loss: 0.0093 - accuracy: 1.0000 - val_loss: 2.2957 - val_accuracy: 0.8000\n",
      "Epoch 116/200\n",
      "15/15 - 0s - loss: 0.0016 - accuracy: 1.0000 - val_loss: 2.6611 - val_accuracy: 0.8000\n",
      "Epoch 117/200\n",
      "15/15 - 0s - loss: 0.0177 - accuracy: 1.0000 - val_loss: 2.6750 - val_accuracy: 0.8000\n",
      "Epoch 118/200\n",
      "15/15 - 0s - loss: 0.0021 - accuracy: 1.0000 - val_loss: 2.7004 - val_accuracy: 0.8000\n",
      "Epoch 119/200\n",
      "15/15 - 0s - loss: 0.0194 - accuracy: 0.9778 - val_loss: 2.6003 - val_accuracy: 0.8000\n",
      "Epoch 120/200\n",
      "15/15 - 0s - loss: 0.0026 - accuracy: 1.0000 - val_loss: 2.5807 - val_accuracy: 0.8000\n",
      "Epoch 121/200\n",
      "15/15 - 0s - loss: 0.0272 - accuracy: 0.9778 - val_loss: 2.3798 - val_accuracy: 0.8000\n",
      "Epoch 122/200\n",
      "15/15 - 0s - loss: 0.0042 - accuracy: 1.0000 - val_loss: 2.2376 - val_accuracy: 0.8000\n",
      "Epoch 123/200\n",
      "15/15 - 0s - loss: 0.0079 - accuracy: 1.0000 - val_loss: 2.3161 - val_accuracy: 0.8000\n",
      "Epoch 124/200\n",
      "15/15 - 0s - loss: 0.0015 - accuracy: 1.0000 - val_loss: 2.3265 - val_accuracy: 0.8000\n",
      "Epoch 125/200\n",
      "15/15 - 0s - loss: 0.0040 - accuracy: 1.0000 - val_loss: 2.3124 - val_accuracy: 0.8000\n",
      "Epoch 126/200\n",
      "15/15 - 0s - loss: 0.0024 - accuracy: 1.0000 - val_loss: 2.1650 - val_accuracy: 0.8000\n",
      "Epoch 127/200\n",
      "15/15 - 0s - loss: 0.0031 - accuracy: 1.0000 - val_loss: 2.1896 - val_accuracy: 0.8000\n",
      "Epoch 128/200\n",
      "15/15 - 0s - loss: 0.0013 - accuracy: 1.0000 - val_loss: 2.2825 - val_accuracy: 0.8000\n",
      "Epoch 129/200\n",
      "15/15 - 0s - loss: 2.0587e-04 - accuracy: 1.0000 - val_loss: 2.3071 - val_accuracy: 0.8000\n",
      "Epoch 130/200\n",
      "15/15 - 0s - loss: 0.0039 - accuracy: 1.0000 - val_loss: 2.3161 - val_accuracy: 0.8000\n",
      "Epoch 131/200\n",
      "15/15 - 0s - loss: 0.0017 - accuracy: 1.0000 - val_loss: 2.3199 - val_accuracy: 0.8000\n",
      "Epoch 132/200\n",
      "15/15 - 0s - loss: 0.0520 - accuracy: 0.9778 - val_loss: 3.9604 - val_accuracy: 0.6000\n",
      "Epoch 133/200\n",
      "15/15 - 0s - loss: 0.0121 - accuracy: 1.0000 - val_loss: 4.2815 - val_accuracy: 0.6000\n",
      "Epoch 134/200\n",
      "15/15 - 0s - loss: 0.0046 - accuracy: 1.0000 - val_loss: 3.1655 - val_accuracy: 0.8000\n",
      "Epoch 135/200\n",
      "15/15 - 0s - loss: 0.0045 - accuracy: 1.0000 - val_loss: 3.1686 - val_accuracy: 0.8000\n",
      "Epoch 136/200\n",
      "15/15 - 0s - loss: 0.0019 - accuracy: 1.0000 - val_loss: 3.1969 - val_accuracy: 0.8000\n",
      "Epoch 137/200\n",
      "15/15 - 0s - loss: 0.0031 - accuracy: 1.0000 - val_loss: 3.2239 - val_accuracy: 0.8000\n",
      "Epoch 138/200\n",
      "15/15 - 0s - loss: 0.0232 - accuracy: 0.9778 - val_loss: 2.7234 - val_accuracy: 0.8000\n",
      "Epoch 139/200\n",
      "15/15 - 0s - loss: 0.0037 - accuracy: 1.0000 - val_loss: 2.2723 - val_accuracy: 0.8000\n",
      "Epoch 140/200\n",
      "15/15 - 0s - loss: 0.0111 - accuracy: 1.0000 - val_loss: 1.9079 - val_accuracy: 0.8000\n",
      "Epoch 141/200\n",
      "15/15 - 0s - loss: 0.0348 - accuracy: 0.9778 - val_loss: 3.8224 - val_accuracy: 0.6667\n",
      "Epoch 142/200\n",
      "15/15 - 0s - loss: 0.0561 - accuracy: 0.9778 - val_loss: 3.4553 - val_accuracy: 0.7333\n",
      "Epoch 143/200\n",
      "15/15 - 0s - loss: 0.2044 - accuracy: 0.9556 - val_loss: 3.5067 - val_accuracy: 0.7333\n",
      "Epoch 144/200\n",
      "15/15 - 0s - loss: 0.0018 - accuracy: 1.0000 - val_loss: 2.3355 - val_accuracy: 0.8000\n",
      "Epoch 145/200\n",
      "15/15 - 0s - loss: 0.0701 - accuracy: 0.9556 - val_loss: 3.0625 - val_accuracy: 0.6667\n",
      "Epoch 146/200\n",
      "15/15 - 0s - loss: 0.0762 - accuracy: 0.9778 - val_loss: 3.1587 - val_accuracy: 0.6667\n",
      "Epoch 147/200\n",
      "15/15 - 0s - loss: 0.2738 - accuracy: 0.9556 - val_loss: 3.4526 - val_accuracy: 0.6000\n",
      "Epoch 148/200\n",
      "15/15 - 0s - loss: 0.0190 - accuracy: 1.0000 - val_loss: 6.2495 - val_accuracy: 0.5333\n",
      "Epoch 149/200\n",
      "15/15 - 0s - loss: 0.2143 - accuracy: 0.9111 - val_loss: 2.0446 - val_accuracy: 0.8000\n",
      "Epoch 150/200\n",
      "15/15 - 0s - loss: 0.0110 - accuracy: 1.0000 - val_loss: 2.4807 - val_accuracy: 0.8000\n",
      "Epoch 151/200\n",
      "15/15 - 0s - loss: 0.0522 - accuracy: 0.9778 - val_loss: 2.3847 - val_accuracy: 0.8000\n",
      "Epoch 152/200\n",
      "15/15 - 0s - loss: 0.0062 - accuracy: 1.0000 - val_loss: 2.2640 - val_accuracy: 0.8000\n",
      "Epoch 153/200\n",
      "15/15 - 0s - loss: 0.0530 - accuracy: 0.9556 - val_loss: 1.6423 - val_accuracy: 0.8000\n",
      "Epoch 154/200\n",
      "15/15 - 0s - loss: 0.0157 - accuracy: 1.0000 - val_loss: 1.4882 - val_accuracy: 0.8000\n",
      "Epoch 155/200\n",
      "15/15 - 0s - loss: 0.1357 - accuracy: 0.9556 - val_loss: 1.6795 - val_accuracy: 0.8000\n",
      "Epoch 156/200\n",
      "15/15 - 0s - loss: 0.0018 - accuracy: 1.0000 - val_loss: 1.8375 - val_accuracy: 0.8000\n",
      "Epoch 157/200\n",
      "15/15 - 0s - loss: 0.0067 - accuracy: 1.0000 - val_loss: 2.7784 - val_accuracy: 0.8000\n",
      "Epoch 158/200\n",
      "15/15 - 0s - loss: 0.0142 - accuracy: 1.0000 - val_loss: 1.5273 - val_accuracy: 0.8000\n",
      "Epoch 159/200\n",
      "15/15 - 0s - loss: 0.0169 - accuracy: 1.0000 - val_loss: 1.4137 - val_accuracy: 0.8000\n",
      "Epoch 160/200\n",
      "15/15 - 0s - loss: 0.0321 - accuracy: 0.9778 - val_loss: 1.7809 - val_accuracy: 0.8000\n",
      "Epoch 161/200\n",
      "15/15 - 0s - loss: 0.0082 - accuracy: 1.0000 - val_loss: 1.9817 - val_accuracy: 0.8000\n",
      "Epoch 162/200\n",
      "15/15 - 0s - loss: 0.0536 - accuracy: 0.9778 - val_loss: 1.8660 - val_accuracy: 0.8000\n",
      "Epoch 163/200\n",
      "15/15 - 0s - loss: 0.0578 - accuracy: 0.9778 - val_loss: 1.9011 - val_accuracy: 0.8000\n",
      "Epoch 164/200\n",
      "15/15 - 0s - loss: 0.0077 - accuracy: 1.0000 - val_loss: 2.0358 - val_accuracy: 0.8000\n",
      "Epoch 165/200\n",
      "15/15 - 0s - loss: 0.0096 - accuracy: 1.0000 - val_loss: 2.1191 - val_accuracy: 0.8000\n",
      "Epoch 166/200\n",
      "15/15 - 0s - loss: 0.0155 - accuracy: 1.0000 - val_loss: 2.4537 - val_accuracy: 0.8000\n",
      "Epoch 167/200\n",
      "15/15 - 0s - loss: 0.0023 - accuracy: 1.0000 - val_loss: 3.1477 - val_accuracy: 0.7333\n",
      "Epoch 168/200\n",
      "15/15 - 0s - loss: 0.0015 - accuracy: 1.0000 - val_loss: 3.3985 - val_accuracy: 0.7333\n",
      "Epoch 169/200\n",
      "15/15 - 0s - loss: 0.0056 - accuracy: 1.0000 - val_loss: 3.8406 - val_accuracy: 0.7333\n",
      "Epoch 170/200\n",
      "15/15 - 0s - loss: 0.0033 - accuracy: 1.0000 - val_loss: 3.4661 - val_accuracy: 0.7333\n",
      "Epoch 171/200\n",
      "15/15 - 0s - loss: 3.4194e-04 - accuracy: 1.0000 - val_loss: 3.3015 - val_accuracy: 0.7333\n",
      "Epoch 172/200\n",
      "15/15 - 0s - loss: 0.0899 - accuracy: 0.9778 - val_loss: 3.2116 - val_accuracy: 0.7333\n",
      "Epoch 173/200\n",
      "15/15 - 0s - loss: 0.0072 - accuracy: 1.0000 - val_loss: 2.8869 - val_accuracy: 0.7333\n",
      "Epoch 174/200\n",
      "15/15 - 0s - loss: 0.0181 - accuracy: 1.0000 - val_loss: 2.9613 - val_accuracy: 0.7333\n",
      "Epoch 175/200\n",
      "15/15 - 0s - loss: 0.0026 - accuracy: 1.0000 - val_loss: 3.0387 - val_accuracy: 0.7333\n",
      "Epoch 176/200\n",
      "15/15 - 0s - loss: 0.1017 - accuracy: 0.9556 - val_loss: 2.8074 - val_accuracy: 0.7333\n",
      "Epoch 177/200\n",
      "15/15 - 0s - loss: 0.0150 - accuracy: 1.0000 - val_loss: 2.6406 - val_accuracy: 0.7333\n",
      "Epoch 178/200\n",
      "15/15 - 0s - loss: 0.0478 - accuracy: 0.9778 - val_loss: 2.9068 - val_accuracy: 0.7333\n",
      "Epoch 179/200\n",
      "15/15 - 0s - loss: 0.0107 - accuracy: 1.0000 - val_loss: 3.3001 - val_accuracy: 0.6667\n",
      "Epoch 180/200\n",
      "15/15 - 0s - loss: 0.1092 - accuracy: 0.9778 - val_loss: 3.2475 - val_accuracy: 0.7333\n",
      "Epoch 181/200\n",
      "15/15 - 0s - loss: 0.0402 - accuracy: 0.9778 - val_loss: 3.0507 - val_accuracy: 0.7333\n",
      "Epoch 182/200\n",
      "15/15 - 0s - loss: 0.0529 - accuracy: 0.9778 - val_loss: 2.5737 - val_accuracy: 0.7333\n",
      "Epoch 183/200\n",
      "15/15 - 0s - loss: 0.0456 - accuracy: 0.9778 - val_loss: 3.9449 - val_accuracy: 0.7333\n",
      "Epoch 184/200\n",
      "15/15 - 0s - loss: 0.0024 - accuracy: 1.0000 - val_loss: 4.6551 - val_accuracy: 0.7333\n",
      "Epoch 185/200\n",
      "15/15 - 0s - loss: 0.0780 - accuracy: 0.9556 - val_loss: 2.0939 - val_accuracy: 0.8667\n",
      "Epoch 186/200\n",
      "15/15 - 0s - loss: 0.0090 - accuracy: 1.0000 - val_loss: 1.7421 - val_accuracy: 0.8667\n",
      "Epoch 187/200\n",
      "15/15 - 0s - loss: 0.0465 - accuracy: 0.9778 - val_loss: 2.6861 - val_accuracy: 0.8000\n",
      "Epoch 188/200\n",
      "15/15 - 0s - loss: 0.0023 - accuracy: 1.0000 - val_loss: 3.1175 - val_accuracy: 0.8000\n",
      "Epoch 189/200\n",
      "15/15 - 0s - loss: 6.9440e-04 - accuracy: 1.0000 - val_loss: 3.2379 - val_accuracy: 0.8000\n",
      "Epoch 190/200\n",
      "15/15 - 0s - loss: 0.0162 - accuracy: 1.0000 - val_loss: 2.9081 - val_accuracy: 0.8000\n",
      "Epoch 191/200\n",
      "15/15 - 0s - loss: 0.0029 - accuracy: 1.0000 - val_loss: 2.9334 - val_accuracy: 0.8000\n",
      "Epoch 192/200\n",
      "15/15 - 0s - loss: 0.1293 - accuracy: 0.9778 - val_loss: 3.1593 - val_accuracy: 0.8000\n",
      "Epoch 193/200\n",
      "15/15 - 0s - loss: 0.0472 - accuracy: 0.9778 - val_loss: 3.5888 - val_accuracy: 0.8000\n",
      "Epoch 194/200\n",
      "15/15 - 0s - loss: 0.0030 - accuracy: 1.0000 - val_loss: 4.0708 - val_accuracy: 0.7333\n",
      "Epoch 195/200\n",
      "15/15 - 0s - loss: 0.0806 - accuracy: 0.9556 - val_loss: 2.0800 - val_accuracy: 0.8000\n",
      "Epoch 196/200\n",
      "15/15 - 0s - loss: 0.0262 - accuracy: 0.9778 - val_loss: 1.5062 - val_accuracy: 0.8000\n",
      "Epoch 197/200\n",
      "15/15 - 0s - loss: 0.0152 - accuracy: 1.0000 - val_loss: 1.4830 - val_accuracy: 0.8000\n",
      "Epoch 198/200\n",
      "15/15 - 0s - loss: 0.0206 - accuracy: 1.0000 - val_loss: 1.7047 - val_accuracy: 0.8000\n",
      "Epoch 199/200\n",
      "15/15 - 0s - loss: 0.2060 - accuracy: 0.9778 - val_loss: 2.1895 - val_accuracy: 0.8000\n",
      "Epoch 200/200\n",
      "15/15 - 0s - loss: 0.0049 - accuracy: 1.0000 - val_loss: 2.5508 - val_accuracy: 0.8000\n"
     ]
    },
    {
     "data": {
      "text/plain": [
       "<tensorflow.python.keras.callbacks.History at 0x2641517f700>"
      ]
     },
     "execution_count": 16,
     "metadata": {},
     "output_type": "execute_result"
    }
   ],
   "source": [
    "model.fit(\r\n",
    "    train_generator,\r\n",
    "    steps_per_epoch=15,\r\n",
    "    epochs=200,\r\n",
    "    validation_data=test_generator,\r\n",
    "    validation_steps=5, verbose=2\r\n",
    ")"
   ]
  },
  {
   "cell_type": "markdown",
   "metadata": {},
   "source": [
    "## 모델 평가"
   ]
  },
  {
   "cell_type": "code",
   "execution_count": 17,
   "metadata": {},
   "outputs": [
    {
     "name": "stdout",
     "output_type": "stream",
     "text": [
      "5/5 [==============================] - 0s 2ms/step - loss: 2.5508 - accuracy: 0.8000\n"
     ]
    },
    {
     "data": {
      "text/plain": [
       "[2.550828218460083, 0.800000011920929]"
      ]
     },
     "execution_count": 17,
     "metadata": {},
     "output_type": "execute_result"
    }
   ],
   "source": [
    "model.evaluate(test_generator, steps=5)"
   ]
  }
 ],
 "metadata": {
  "interpreter": {
   "hash": "b26661d338b6288df508a7ea172ff591d6ed882578e82460ed30bfeb70cfcac3"
  },
  "kernelspec": {
   "display_name": "Python 3.8.8 64-bit ('base': conda)",
   "name": "python3"
  },
  "language_info": {
   "codemirror_mode": {
    "name": "ipython",
    "version": 3
   },
   "file_extension": ".py",
   "mimetype": "text/x-python",
   "name": "python",
   "nbconvert_exporter": "python",
   "pygments_lexer": "ipython3",
   "version": "3.8.8"
  },
  "orig_nbformat": 4
 },
 "nbformat": 4,
 "nbformat_minor": 2
}