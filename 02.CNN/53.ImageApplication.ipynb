{
 "cells": [
  {
   "cell_type": "markdown",
   "metadata": {},
   "source": [
    "# Keras Application 응용\r\n",
    "- VGG16, VGG19, ResNet50, ResNet101"
   ]
  },
  {
   "cell_type": "code",
   "execution_count": 1,
   "metadata": {},
   "outputs": [
    {
     "data": {
      "text/plain": [
       "['animals\\\\bear.jpg',\n",
       " 'animals\\\\bird.jpg',\n",
       " 'animals\\\\crocodile.jpg',\n",
       " 'animals\\\\dolphin.jpg',\n",
       " 'animals\\\\eagle.jpg',\n",
       " 'animals\\\\elephant.jpg',\n",
       " 'animals\\\\lion.jpg',\n",
       " 'animals\\\\panda.jpg',\n",
       " 'animals\\\\penguin.jpg',\n",
       " 'animals\\\\rabbit.jpg']"
      ]
     },
     "execution_count": 1,
     "metadata": {},
     "output_type": "execute_result"
    }
   ],
   "source": [
    "from glob import glob\r\n",
    "glob('animals/*')"
   ]
  },
  {
   "cell_type": "code",
   "execution_count": 2,
   "metadata": {},
   "outputs": [
    {
     "data": {
      "text/plain": [
       "list"
      ]
     },
     "execution_count": 2,
     "metadata": {},
     "output_type": "execute_result"
    }
   ],
   "source": [
    "type(glob('animals/*'))"
   ]
  },
  {
   "cell_type": "code",
   "execution_count": 7,
   "metadata": {},
   "outputs": [
    {
     "data": {
      "text/plain": [
       "['bear', 'jpg']"
      ]
     },
     "execution_count": 7,
     "metadata": {},
     "output_type": "execute_result"
    }
   ],
   "source": [
    "name[0].split('\\\\')[1].split('.')[0]"
   ]
  },
  {
   "cell_type": "code",
   "execution_count": 9,
   "metadata": {},
   "outputs": [],
   "source": [
    "name_list=[]\r\n",
    "for file in glob('animals/*'):\r\n",
    "    name = file.split('\\\\')[1].split('.')[0]\r\n",
    "    name_list.append(name)"
   ]
  },
  {
   "cell_type": "code",
   "execution_count": 10,
   "metadata": {},
   "outputs": [
    {
     "name": "stdout",
     "output_type": "stream",
     "text": [
      "['bear', 'bird', 'crocodile', 'dolphin', 'eagle', 'elephant', 'lion', 'panda', 'penguin', 'rabbit']\n"
     ]
    }
   ],
   "source": [
    "print(name_list)"
   ]
  },
  {
   "cell_type": "code",
   "execution_count": 16,
   "metadata": {},
   "outputs": [],
   "source": [
    "from tensorflow.keras.applications.vgg16 import VGG16, decode_predictions\r\n",
    "from tensorflow.keras.preprocessing.vgg19 import VGG19, decode_predictions \r\n",
    "from tensorflow.keras.applications.resnet50 import ResNet50, decode_predictions \r\n",
    "from tensorflow.keras.applications.resnet import ResNet101, decode_predictions"
   ]
  },
  {
   "cell_type": "code",
   "execution_count": null,
   "metadata": {},
   "outputs": [],
   "source": [
    "import numpy as np\r\n",
    "from PIL import Image"
   ]
  },
  {
   "cell_type": "markdown",
   "metadata": {},
   "source": [
    "## VGG16"
   ]
  },
  {
   "cell_type": "code",
   "execution_count": 17,
   "metadata": {},
   "outputs": [
    {
     "name": "stdout",
     "output_type": "stream",
     "text": [
      "['brown_bear', 'jay', 'African_crocodile', 'Weimaraner', 'bald_eagle', 'African_elephant', 'Irish_wolfhound', 'gibbon', 'king_penguin', 'hare']\n"
     ]
    }
   ],
   "source": [
    "vgg16 = VGG16()\r\n",
    "vgg16_list = []\r\n",
    "\r\n",
    "for file in glob('animals/*'):\r\n",
    "    img = np.array(Image.open(file).resize((224,224)))\r\n",
    "    yhat = vgg16.predict(img.reshape(-1,224,224,3))\r\n",
    "    label = decode_predictions(yhat)\r\n",
    "    vgg16_list.append(label[0][0][1])\r\n",
    "\r\n",
    "print(vgg16_list)"
   ]
  },
  {
   "cell_type": "markdown",
   "metadata": {},
   "source": [
    "## VGG19"
   ]
  },
  {
   "cell_type": "code",
   "execution_count": 12,
   "metadata": {},
   "outputs": [
    {
     "name": "stdout",
     "output_type": "stream",
     "text": [
      "Downloading data from https://storage.googleapis.com/tensorflow/keras-applications/vgg19/vgg19_weights_tf_dim_ordering_tf_kernels.h5\n",
      "574717952/574710816 [==============================] - 127s 0us/step\n"
     ]
    }
   ],
   "source": [
    "from tensorflow.keras.applications.vgg19 import VGG19, decode_predictions \r\n",
    "import cv2\r\n",
    "vgg19=VGG19()"
   ]
  },
  {
   "cell_type": "code",
   "execution_count": 18,
   "metadata": {},
   "outputs": [
    {
     "name": "stdout",
     "output_type": "stream",
     "text": [
      "['white_wolf', 'bee_eater', 'African_crocodile', 'hammerhead', 'kite', 'African_elephant', 'Irish_wolfhound', 'Arctic_fox', 'king_penguin', 'hare']\n"
     ]
    }
   ],
   "source": [
    "vgg19_list = []\r\n",
    "\r\n",
    "for file in glob('animals/*'):\r\n",
    "    img = cv2.imread(file)\r\n",
    "    img = cv2.resize(img,(224,224))\r\n",
    "    img = cv2.cvtColor(img, cv2.COLOR_BGR2RGB)\r\n",
    "\r\n",
    "    yhat = vgg19.predict(img.reshape(-1,224,224,3))\r\n",
    "    label = decode_predictions(yhat)\r\n",
    "    vgg19_list.append(label[0][0][1])\r\n",
    "\r\n",
    "print(vgg19_list)"
   ]
  },
  {
   "cell_type": "markdown",
   "metadata": {},
   "source": [
    "## ResNet 50"
   ]
  },
  {
   "cell_type": "code",
   "execution_count": 13,
   "metadata": {},
   "outputs": [],
   "source": [
    "from tensorflow.keras.applications.resnet50 import ResNet50, decode_predictions\r\n",
    "resnet50 = ResNet50()"
   ]
  },
  {
   "cell_type": "code",
   "execution_count": 19,
   "metadata": {},
   "outputs": [
    {
     "name": "stdout",
     "output_type": "stream",
     "text": [
      "['brown_bear', 'bee_eater', 'American_alligator', 'Weimaraner', 'bald_eagle', 'African_elephant', 'Saluki', 'indri', 'king_penguin', 'Angora']\n"
     ]
    }
   ],
   "source": [
    "resnet50_list=[]\r\n",
    "for file in glob('animals/*'):\r\n",
    "    img = np.array(Image.open(file).resize((224,224)))\r\n",
    "    yhat = resnet50.predict(img.reshape(-1,224,224,3))\r\n",
    "    label = decode_predictions(yhat)\r\n",
    "    resnet50_list.append(label[0][0][1])\r\n",
    "\r\n",
    "print(resnet50_list)"
   ]
  },
  {
   "cell_type": "markdown",
   "metadata": {},
   "source": [
    "## ResNet101"
   ]
  },
  {
   "cell_type": "code",
   "execution_count": 20,
   "metadata": {},
   "outputs": [
    {
     "name": "stdout",
     "output_type": "stream",
     "text": [
      "Downloading data from https://storage.googleapis.com/tensorflow/keras-applications/resnet/resnet101_weights_tf_dim_ordering_tf_kernels.h5\n",
      "179650560/179648224 [==============================] - 16s 0us/step\n"
     ]
    }
   ],
   "source": [
    "from tensorflow.keras.applications.resnet import ResNet101, decode_predictions\r\n",
    "resnet101 = ResNet101()"
   ]
  },
  {
   "cell_type": "code",
   "execution_count": 21,
   "metadata": {},
   "outputs": [
    {
     "name": "stdout",
     "output_type": "stream",
     "text": [
      "['brown_bear', 'bee_eater', 'African_crocodile', 'Weimaraner', 'bald_eagle', 'African_elephant', 'Saluki', 'weasel', 'king_penguin', 'hare']\n"
     ]
    }
   ],
   "source": [
    "resnet101_list=[]\r\n",
    "for file in glob('animals/*'):\r\n",
    "    img = np.array(Image.open(file).resize((224,224)))\r\n",
    "    yhat = resnet101.predict(img.reshape(-1,224,224,3))\r\n",
    "    label = decode_predictions(yhat)\r\n",
    "    resnet101_list.append(label[0][0][1])\r\n",
    "\r\n",
    "print(resnet101_list)"
   ]
  },
  {
   "cell_type": "markdown",
   "metadata": {},
   "source": [
    "## 데이터프레임으로 합치기"
   ]
  },
  {
   "cell_type": "code",
   "execution_count": 22,
   "metadata": {},
   "outputs": [],
   "source": [
    "import pandas as pd"
   ]
  },
  {
   "cell_type": "code",
   "execution_count": 25,
   "metadata": {},
   "outputs": [],
   "source": [
    "df = pd.DataFrame({\r\n",
    "    'Original':name_list,\r\n",
    "    'VGG16':vgg16_list,\r\n",
    "    'VGG19':vgg19_list,\r\n",
    "    'ResNet50':resnet50_list,\r\n",
    "    'ResNet101':resnet101_list\r\n",
    "})"
   ]
  },
  {
   "cell_type": "code",
   "execution_count": 24,
   "metadata": {},
   "outputs": [
    {
     "data": {
      "text/html": [
       "<div>\n",
       "<style scoped>\n",
       "    .dataframe tbody tr th:only-of-type {\n",
       "        vertical-align: middle;\n",
       "    }\n",
       "\n",
       "    .dataframe tbody tr th {\n",
       "        vertical-align: top;\n",
       "    }\n",
       "\n",
       "    .dataframe thead th {\n",
       "        text-align: right;\n",
       "    }\n",
       "</style>\n",
       "<table border=\"1\" class=\"dataframe\">\n",
       "  <thead>\n",
       "    <tr style=\"text-align: right;\">\n",
       "      <th></th>\n",
       "      <th>Original</th>\n",
       "      <th>VGG16</th>\n",
       "      <th>VGG19</th>\n",
       "      <th>ResNet50</th>\n",
       "      <th>ResNet101</th>\n",
       "    </tr>\n",
       "  </thead>\n",
       "  <tbody>\n",
       "    <tr>\n",
       "      <th>0</th>\n",
       "      <td>bear</td>\n",
       "      <td>brown_bear</td>\n",
       "      <td>white_wolf</td>\n",
       "      <td>brown_bear</td>\n",
       "      <td>brown_bear</td>\n",
       "    </tr>\n",
       "    <tr>\n",
       "      <th>1</th>\n",
       "      <td>bird</td>\n",
       "      <td>jay</td>\n",
       "      <td>bee_eater</td>\n",
       "      <td>bee_eater</td>\n",
       "      <td>bee_eater</td>\n",
       "    </tr>\n",
       "    <tr>\n",
       "      <th>2</th>\n",
       "      <td>crocodile</td>\n",
       "      <td>African_crocodile</td>\n",
       "      <td>African_crocodile</td>\n",
       "      <td>American_alligator</td>\n",
       "      <td>African_crocodile</td>\n",
       "    </tr>\n",
       "    <tr>\n",
       "      <th>3</th>\n",
       "      <td>dolphin</td>\n",
       "      <td>Weimaraner</td>\n",
       "      <td>hammerhead</td>\n",
       "      <td>Weimaraner</td>\n",
       "      <td>Weimaraner</td>\n",
       "    </tr>\n",
       "    <tr>\n",
       "      <th>4</th>\n",
       "      <td>eagle</td>\n",
       "      <td>bald_eagle</td>\n",
       "      <td>kite</td>\n",
       "      <td>bald_eagle</td>\n",
       "      <td>bald_eagle</td>\n",
       "    </tr>\n",
       "    <tr>\n",
       "      <th>5</th>\n",
       "      <td>elephant</td>\n",
       "      <td>African_elephant</td>\n",
       "      <td>African_elephant</td>\n",
       "      <td>African_elephant</td>\n",
       "      <td>African_elephant</td>\n",
       "    </tr>\n",
       "    <tr>\n",
       "      <th>6</th>\n",
       "      <td>lion</td>\n",
       "      <td>Irish_wolfhound</td>\n",
       "      <td>Irish_wolfhound</td>\n",
       "      <td>Saluki</td>\n",
       "      <td>Saluki</td>\n",
       "    </tr>\n",
       "    <tr>\n",
       "      <th>7</th>\n",
       "      <td>panda</td>\n",
       "      <td>gibbon</td>\n",
       "      <td>Arctic_fox</td>\n",
       "      <td>indri</td>\n",
       "      <td>weasel</td>\n",
       "    </tr>\n",
       "    <tr>\n",
       "      <th>8</th>\n",
       "      <td>penguin</td>\n",
       "      <td>king_penguin</td>\n",
       "      <td>king_penguin</td>\n",
       "      <td>king_penguin</td>\n",
       "      <td>king_penguin</td>\n",
       "    </tr>\n",
       "    <tr>\n",
       "      <th>9</th>\n",
       "      <td>rabbit</td>\n",
       "      <td>hare</td>\n",
       "      <td>hare</td>\n",
       "      <td>Angora</td>\n",
       "      <td>hare</td>\n",
       "    </tr>\n",
       "  </tbody>\n",
       "</table>\n",
       "</div>"
      ],
      "text/plain": [
       "    Original              VGG16  ...            ResNet50          ResNet101\n",
       "0       bear         brown_bear  ...          brown_bear         brown_bear\n",
       "1       bird                jay  ...           bee_eater          bee_eater\n",
       "2  crocodile  African_crocodile  ...  American_alligator  African_crocodile\n",
       "3    dolphin         Weimaraner  ...          Weimaraner         Weimaraner\n",
       "4      eagle         bald_eagle  ...          bald_eagle         bald_eagle\n",
       "5   elephant   African_elephant  ...    African_elephant   African_elephant\n",
       "6       lion    Irish_wolfhound  ...              Saluki             Saluki\n",
       "7      panda             gibbon  ...               indri             weasel\n",
       "8    penguin       king_penguin  ...        king_penguin       king_penguin\n",
       "9     rabbit               hare  ...              Angora               hare\n",
       "\n",
       "[10 rows x 5 columns]"
      ]
     },
     "execution_count": 24,
     "metadata": {},
     "output_type": "execute_result"
    }
   ],
   "source": [
    "df"
   ]
  }
 ],
 "metadata": {
  "interpreter": {
   "hash": "b26661d338b6288df508a7ea172ff591d6ed882578e82460ed30bfeb70cfcac3"
  },
  "kernelspec": {
   "display_name": "Python 3.8.8 64-bit ('base': conda)",
   "name": "python3"
  },
  "language_info": {
   "codemirror_mode": {
    "name": "ipython",
    "version": 3
   },
   "file_extension": ".py",
   "mimetype": "text/x-python",
   "name": "python",
   "nbconvert_exporter": "python",
   "pygments_lexer": "ipython3",
   "version": "3.8.8"
  },
  "orig_nbformat": 4
 },
 "nbformat": 4,
 "nbformat_minor": 2
}