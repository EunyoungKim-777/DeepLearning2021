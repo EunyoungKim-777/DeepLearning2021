{
 "cells": [
  {
   "cell_type": "markdown",
   "metadata": {},
   "source": [
    "# 카카오 언어감지"
   ]
  },
  {
   "cell_type": "code",
   "execution_count": 1,
   "metadata": {},
   "outputs": [],
   "source": [
    "import requests\r\n",
    "from urllib.parse import quote\r\n",
    "import pandas as pd"
   ]
  },
  {
   "cell_type": "code",
   "execution_count": 2,
   "metadata": {},
   "outputs": [],
   "source": [
    "with open('kakaoapikey.txt',mode='r') as key_file:\r\n",
    "    kakao_key = key_file.read()"
   ]
  },
  {
   "cell_type": "code",
   "execution_count": 3,
   "metadata": {},
   "outputs": [],
   "source": [
    "text = 'Dieses Buch ist sehr interessant.'"
   ]
  },
  {
   "cell_type": "code",
   "execution_count": 7,
   "metadata": {},
   "outputs": [
    {
     "data": {
      "text/plain": [
       "'https://dapi.kakao.com/v3/translation/language/detect?query=%EC%95%88%EB%85%95%20%EB%82%B4%20%EC%9D%B4%EB%A6%84%EC%9D%80%20%EC%A4%84%EB%A6%AC%EB%9D%BC%EA%B3%A0%20%ED%95%B4.'"
      ]
     },
     "execution_count": 7,
     "metadata": {},
     "output_type": "execute_result"
    }
   ],
   "source": [
    "detect_url = 'https://dapi.kakao.com/v3/translation/language/detect'\r\n",
    "url = f'{detect_url}?query={quote(text)}'\r\n",
    "url"
   ]
  },
  {
   "cell_type": "code",
   "execution_count": 6,
   "metadata": {},
   "outputs": [
    {
     "data": {
      "text/plain": [
       "{'language_info': [{'code': 'kr', 'name': 'Korean', 'confidence': 1.0}]}"
      ]
     },
     "execution_count": 6,
     "metadata": {},
     "output_type": "execute_result"
    }
   ],
   "source": [
    "# \"Authorization: KakaoAK {REST_API_KEY}\"\r\n",
    "result = requests.get(url, headers={\"Authorization\":f\"KakaoAK {kakao_key}\"}).json()\r\n",
    "result"
   ]
  },
  {
   "cell_type": "code",
   "execution_count": 10,
   "metadata": {},
   "outputs": [],
   "source": [
    "# URL을 만드는 함수\r\n",
    "def generate_url(text):\r\n",
    "    detect_url = 'https://dapi.kakao.com/v3/translation/language/detect'\r\n",
    "    url = f'{detect_url}?query={quote(text)}'\r\n",
    "    return url"
   ]
  },
  {
   "cell_type": "code",
   "execution_count": 29,
   "metadata": {},
   "outputs": [
    {
     "data": {
      "text/plain": [
       "'de'"
      ]
     },
     "execution_count": 29,
     "metadata": {},
     "output_type": "execute_result"
    }
   ],
   "source": [
    "# text를 받아서 언어 감지\r\n",
    "result = requests.get(generate_url(text), headers={\"Authorization\":f\"KakaoAK {kakao_key}\"}).json()\r\n",
    "result['language_info'][0]['code']"
   ]
  },
  {
   "cell_type": "markdown",
   "metadata": {},
   "source": [
    "## 언어감지해서 번역"
   ]
  },
  {
   "cell_type": "code",
   "execution_count": 30,
   "metadata": {},
   "outputs": [],
   "source": [
    "text = 'Dieses Buch ist sehr interessant.'"
   ]
  },
  {
   "cell_type": "code",
   "execution_count": 31,
   "metadata": {},
   "outputs": [],
   "source": [
    "def generate_url2(text, src, dst):       # text, source, destination\r\n",
    "    trans_url = 'https://dapi.kakao.com/v2/translation/translate'\r\n",
    "    url2 = f'{trans_url}?src_lang={src}&target_lang={dst}&query={quote(text)}'\r\n",
    "    return url2"
   ]
  },
  {
   "cell_type": "code",
   "execution_count": 32,
   "metadata": {},
   "outputs": [
    {
     "data": {
      "text/plain": [
       "{'translated_text': [['이 책은 매우 흥미롭다.']]}"
      ]
     },
     "execution_count": 32,
     "metadata": {},
     "output_type": "execute_result"
    }
   ],
   "source": [
    "result2 = requests.get(generate_url2(text, result['language_info'][0]['code'], 'kr'), headers={\"Authorization\":f\"KakaoAK {kakao_key}\"}).json()\r\n",
    "result2"
   ]
  }
 ],
 "metadata": {
  "interpreter": {
   "hash": "b26661d338b6288df508a7ea172ff591d6ed882578e82460ed30bfeb70cfcac3"
  },
  "kernelspec": {
   "display_name": "Python 3.8.8 64-bit ('base': conda)",
   "name": "python3"
  },
  "language_info": {
   "codemirror_mode": {
    "name": "ipython",
    "version": 3
   },
   "file_extension": ".py",
   "mimetype": "text/x-python",
   "name": "python",
   "nbconvert_exporter": "python",
   "pygments_lexer": "ipython3",
   "version": "3.8.8"
  },
  "orig_nbformat": 4
 },
 "nbformat": 4,
 "nbformat_minor": 2
}